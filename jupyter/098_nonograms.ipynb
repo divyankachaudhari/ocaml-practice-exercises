{
 "cells": [
  {
   "cell_type": "markdown",
   "id": "f0eb4917",
   "metadata": {},
   "source": [
    "# Question 098: Nonograms\n",
    "\n",
    "Solve nonogram puzzles by constructing the corresponding bitmap from annotated rows and columns.\n",
    "\n",
    "## Exercise Instructions\n",
    "\n",
    "**Implement the function definition below.**\n",
    "\n",
    "Around 1994, a certain kind of puzzles was very popular in England. The\n",
    "\"Sunday Telegraph\" newspaper wrote: \"Nonograms are puzzles from Japan\n",
    "and are currently published each week only in The Sunday Telegraph.\n",
    "Simply use your logic and skill to complete the grid and reveal a\n",
    "picture or diagram.\" As an OCaml programmer, you are in a better\n",
    "situation: you can have your computer do the work!\n",
    "\n",
    "The puzzle goes like this: Essentially, each row and column of a\n",
    "rectangular bitmap is annotated with the respective lengths of its\n",
    "distinct strings of occupied cells. The person who solves the puzzle\n",
    "must complete the bitmap given only these lengths."
   ]
  },
  {
   "cell_type": "code",
   "execution_count": null,
   "id": "2082e8c7",
   "metadata": {},
   "outputs": [],
   "source": []
  },
  {
   "cell_type": "markdown",
   "id": "389976cb",
   "metadata": {},
   "source": [
    "## Try It Out!\n",
    "\n",
    "Test the function with different inputs and see the results. Modify the function if needed."
   ]
  },
  {
   "cell_type": "code",
   "execution_count": null,
   "id": "5c88b366",
   "metadata": {},
   "outputs": [],
   "source": [
    "solve [[3]; [2; 1]; [3; 2]; [2; 2]; [6]; [1; 5]; [6]; [1]; [2]]"
   ]
  },
  {
   "cell_type": "markdown",
   "id": "4c1214b4",
   "metadata": {},
   "source": [
    "## Run Test Cases\n",
    "\n",
    "Run the cell below to run pre-defined test cases and to see if your implementation passes them."
   ]
  },
  {
   "cell_type": "code",
   "execution_count": null,
   "id": "f23cd401",
   "metadata": {},
   "outputs": [],
   "source": [
    "#use \"./tests/098.ml\""
   ]
  },
  {
   "cell_type": "markdown",
   "id": "ead3c291",
   "metadata": {},
   "source": [
    "## Solution\n",
    "<details>\n",
    "<summary>Click here for the solution</summary>\n",
    "\n",
    "```ocaml\n",
    "\n",
    "```\n",
    "</details>"
   ]
  }
 ],
 "metadata": {},
 "nbformat": 4,
 "nbformat_minor": 5
}
