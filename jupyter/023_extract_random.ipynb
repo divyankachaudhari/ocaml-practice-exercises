{
 "cells": [
  {
   "cell_type": "markdown",
   "id": "234d9b7f",
   "metadata": {},
   "source": [
    "# Question 023: Extract a Given Number of Randomly Selected Elements From a List\n",
    "\n",
    "Randomly select N elements from a list.\n",
    "\n",
    "## Exercise Instructions\n",
    "\n",
    "**Implement the function definition below.**\n",
    "\n",
    "The selected items shall be returned in a list. We use the `Random`\n",
    "module but and initialise it with `Random.init 0` at the start of \n",
    "the function for reproducibility and validate the solution. To make the function truly random, however,\n",
    "one should remove the call to `Random.init 0`"
   ]
  },
  {
   "cell_type": "code",
   "execution_count": null,
   "id": "b69b2e43",
   "metadata": {},
   "outputs": [],
   "source": [
    "let rand_select _ = failwith \"Not yet implemented\"\n"
   ]
  },
  {
   "cell_type": "markdown",
   "id": "73c427c0",
   "metadata": {},
   "source": [
    "## Try It Out!\n",
    "\n",
    "Test the function with different inputs and see the results. Modify the function if needed."
   ]
  },
  {
   "cell_type": "code",
   "execution_count": null,
   "id": "71b08325",
   "metadata": {},
   "outputs": [],
   "source": [
    "rand_select [\"a\"; \"b\"; \"c\"; \"d\"; \"e\"; \"f\"; \"g\"; \"h\"] 3;;"
   ]
  },
  {
   "cell_type": "markdown",
   "id": "da6edd5c",
   "metadata": {},
   "source": [
    "## Run Test Cases\n",
    "\n",
    "Run the cell below to run pre-defined test cases and to see if your implementation passes them."
   ]
  },
  {
   "cell_type": "code",
   "execution_count": null,
   "id": "571541f8",
   "metadata": {},
   "outputs": [],
   "source": [
    "#use \"./tests/023.ml\""
   ]
  },
  {
   "cell_type": "markdown",
   "id": "958caa26",
   "metadata": {},
   "source": [
    "## Solution\n",
    "<details>\n",
    "<summary>Click here for the solution</summary>\n",
    "\n",
    "```ocaml\n",
    "let rand_select list n =\n",
    "    Random.init 0;\n",
    "    let rec extract acc n = function\n",
    "      | [] -> raise Not_found\n",
    "      | h :: t -> if n = 0 then (h, acc @ t) else extract (h :: acc) (n - 1) t\n",
    "    in\n",
    "    let extract_rand list len =\n",
    "      extract [] (Random.int len) list\n",
    "    in\n",
    "    let rec aux n acc list len =\n",
    "      if n = 0 then acc else\n",
    "        let picked, rest = extract_rand list len in\n",
    "        aux (n - 1) (picked :: acc) rest (len - 1)\n",
    "    in\n",
    "    let len = List.length list in\n",
    "      aux (min n len) [] list len\n",
    "\n",
    "```\n",
    "</details>"
   ]
  }
 ],
 "metadata": {},
 "nbformat": 4,
 "nbformat_minor": 5
}
