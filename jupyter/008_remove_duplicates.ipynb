{
 "cells": [
  {
   "cell_type": "markdown",
   "id": "6f961b40",
   "metadata": {},
   "source": [
    "# Question 008: Eliminate Duplicates\n",
    "\n",
    "Eliminate consecutive duplicates of list elements.\n",
    "\n",
    "## Exercise Instructions\n",
    "\n",
    "**Implement the function definition below.**\n",
    "\n",
    "Eliminate consecutive duplicates of list elements."
   ]
  },
  {
   "cell_type": "code",
   "execution_count": null,
   "id": "614bf97c",
   "metadata": {},
   "outputs": [],
   "source": [
    "let compress _ = failwith \"Not yet implemented\"\n",
    "\n"
   ]
  },
  {
   "cell_type": "markdown",
   "id": "a82555af",
   "metadata": {},
   "source": [
    "## Try It Out!\n",
    "\n",
    "Test the function with different inputs and see the results. Modify the function if needed."
   ]
  },
  {
   "cell_type": "code",
   "execution_count": null,
   "id": "39340b54",
   "metadata": {},
   "outputs": [],
   "source": [
    "compress [\"a\"; \"a\"; \"a\"; \"a\"; \"b\"; \"c\"; \"c\"; \"a\"; \"a\"; \"d\"; \"e\"; \"e\"; \"e\"; \"e\"];;"
   ]
  },
  {
   "cell_type": "markdown",
   "id": "f7c1cbb2",
   "metadata": {},
   "source": [
    "## Run Test Cases\n",
    "\n",
    "Run the cell below to run pre-defined test cases and to see if your implementation passes them."
   ]
  },
  {
   "cell_type": "code",
   "execution_count": null,
   "id": "8e3ed3a1",
   "metadata": {},
   "outputs": [],
   "source": [
    "#use \"./tests/008.ml\""
   ]
  },
  {
   "cell_type": "markdown",
   "id": "4d875179",
   "metadata": {},
   "source": [
    "## Solution\n",
    "<details>\n",
    "<summary>Click here for the solution</summary>\n",
    "\n",
    "```ocaml\n",
    "let rec compress = function\n",
    "    | a :: (b :: _ as t) -> if a = b then compress t else a :: compress t\n",
    "    | smaller -> smaller\n",
    "\n",
    "```\n",
    "</details>"
   ]
  }
 ],
 "metadata": {},
 "nbformat": 4,
 "nbformat_minor": 5
}
