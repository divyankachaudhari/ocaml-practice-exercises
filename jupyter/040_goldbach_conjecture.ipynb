{
 "cells": [
  {
   "cell_type": "markdown",
   "id": "60f23825",
   "metadata": {},
   "source": [
    "# Question 040: Goldbach's Conjecture\n",
    "\n",
    "Find two prime numbers that sum up to a given even integer, demonstrating Goldbach's conjecture.\n",
    "\n",
    "## Exercise Instructions\n",
    "\n",
    "**Implement the function definition below.**\n",
    "\n",
    "Goldbach's conjecture says that every positive even number greater than\n",
    "2 is the sum of two prime numbers. Example: 28 = 5 + 23. It is one of\n",
    "the most famous facts in number theory that has not been proved to be\n",
    "correct in the general case. It has been *numerically confirmed* up to\n",
    "very large numbers. Write a function to find the two prime numbers that\n",
    "sum up to a given even integer."
   ]
  },
  {
   "cell_type": "code",
   "execution_count": null,
   "id": "cbec2a8f",
   "metadata": {},
   "outputs": [],
   "source": [
    "let goldbach _ = failwith \"goldbach not implemented\"\n"
   ]
  },
  {
   "cell_type": "markdown",
   "id": "eef994c2",
   "metadata": {},
   "source": [
    "## Try It Out!\n",
    "\n",
    "Test the function with different inputs and see the results. Modify the function if needed."
   ]
  },
  {
   "cell_type": "code",
   "execution_count": null,
   "id": "88b22337",
   "metadata": {},
   "outputs": [],
   "source": [
    "goldbach 28;;"
   ]
  },
  {
   "cell_type": "markdown",
   "id": "5e036111",
   "metadata": {},
   "source": [
    "## Run Test Cases\n",
    "\n",
    "Run the cell below to run pre-defined test cases and to see if your implementation passes them."
   ]
  },
  {
   "cell_type": "code",
   "execution_count": null,
   "id": "eb8d5b87",
   "metadata": {},
   "outputs": [],
   "source": [
    "#use \"./tests/040.ml\""
   ]
  },
  {
   "cell_type": "markdown",
   "id": "fd393507",
   "metadata": {},
   "source": [
    "## Solution\n",
    "<details>\n",
    "<summary>Click here for the solution</summary>\n",
    "\n",
    "```ocaml\n",
    "let is_prime n =\n",
    "  let n = abs n in\n",
    "  let rec is_not_divisor d =\n",
    "    d * d > n || (n mod d <> 0 && is_not_divisor (d + 1)) in\n",
    "  n <> 1 && is_not_divisor 2\n",
    "\n",
    "let goldbach n =\n",
    "  let rec aux d =\n",
    "    if is_prime d && is_prime (n - d) then (d, n - d)\n",
    "    else aux (d + 1)\n",
    "  in aux 2\n",
    "\n",
    "```\n",
    "</details>"
   ]
  }
 ],
 "metadata": {},
 "nbformat": 4,
 "nbformat_minor": 5
}
