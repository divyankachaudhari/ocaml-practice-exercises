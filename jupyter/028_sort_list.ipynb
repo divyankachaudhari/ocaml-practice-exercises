{
 "cells": [
  {
   "cell_type": "markdown",
   "id": "f89e550f",
   "metadata": {},
   "source": [
    "# Question 028: Sorting a List of Lists According to Length of Sublists\n",
    "\n",
    "Sort a list of lists based on the frequency of sublist lengths in ascending order, with lists of less frequent lengths coming first.\n",
    "\n",
    "## Exercise Instructions\n",
    "\n",
    "**Implement the function definition below.**\n",
    "\n",
    "Sorting a list of lists according to length of sublists.\n",
    "\n",
    "1. We suppose that a list contains elements that are lists themselves.\n",
    "The objective is to sort the elements of this list according to their\n",
    "length. E.g. short lists first, longer lists later, or vice versa.\n",
    "\n",
    "2. Again, we suppose that a list contains elements that are lists\n",
    "themselves. But this time the objective is to sort the elements of this\n",
    "list according to their **length frequency**; i.e., in the default,\n",
    "where sorting is done ascendingly, lists with rare lengths are placed\n",
    "first, others with a more frequent length come later."
   ]
  },
  {
   "cell_type": "code",
   "execution_count": null,
   "id": "386a1797",
   "metadata": {},
   "outputs": [],
   "source": [
    "let length_sort _ = failwith \"Not yet implemented\"\n"
   ]
  },
  {
   "cell_type": "markdown",
   "id": "94f7365e",
   "metadata": {},
   "source": [
    "## Try It Out!\n",
    "\n",
    "Test the function with different inputs and see the results. Modify the function if needed."
   ]
  },
  {
   "cell_type": "code",
   "execution_count": null,
   "id": "70ce585d",
   "metadata": {},
   "outputs": [],
   "source": [
    "length_sort [[\"a\"; \"b\"; \"c\"]; [\"d\"; \"e\"]; [\"f\"; \"g\"; \"h\"]; [\"d\"; \"e\"];"
   ]
  },
  {
   "cell_type": "markdown",
   "id": "b39187fb",
   "metadata": {},
   "source": [
    "## Run Test Cases\n",
    "\n",
    "Run the cell below to run pre-defined test cases and to see if your implementation passes them."
   ]
  },
  {
   "cell_type": "code",
   "execution_count": null,
   "id": "0b3c2fc2",
   "metadata": {},
   "outputs": [],
   "source": [
    "#use \"./tests/028.ml\""
   ]
  },
  {
   "cell_type": "markdown",
   "id": "b2d5e7c0",
   "metadata": {},
   "source": [
    "## Solution\n",
    "<details>\n",
    "<summary>Click here for the solution</summary>\n",
    "\n",
    "```ocaml\n",
    "let rec insert cmp e = function\n",
    "  | [] -> [e]\n",
    "  | h :: t as l -> if cmp e h <= 0 then e :: l else h :: insert cmp e t\n",
    "\n",
    "let rec sort cmp = function\n",
    "  | [] -> []\n",
    "  | h :: t -> insert cmp h (sort cmp t)\n",
    "\n",
    "let length_sort lists =\n",
    "  let lists = List.map (fun list -> List.length list, list) lists in\n",
    "  let lists = sort (fun a b -> compare (fst a) (fst b)) lists in\n",
    "  List.map snd lists\n",
    "\n",
    "  let rle list =\n",
    "  let rec aux count acc = function\n",
    "    | [] -> [] (* Can only be reached if original list is empty *)\n",
    "    | [x] -> (x, count + 1) :: acc\n",
    "    | a :: (b :: _ as t) ->\n",
    "       if a = b then aux (count + 1) acc t\n",
    "       else aux 0 ((a, count + 1) :: acc) t in\n",
    "  aux 0 [] list\n",
    "\n",
    "let frequency_sort lists =\n",
    "  let lengths = List.map List.length lists in\n",
    "  let freq = rle (sort compare lengths) in\n",
    "  let by_freq =\n",
    "    List.map (fun list -> List.assoc (List.length list) freq , list) lists in\n",
    "  let sorted = sort (fun a b -> compare (fst a) (fst b)) by_freq in\n",
    "  List.map snd sorted\n",
    "\n",
    "```\n",
    "</details>"
   ]
  }
 ],
 "metadata": {},
 "nbformat": 4,
 "nbformat_minor": 5
}
