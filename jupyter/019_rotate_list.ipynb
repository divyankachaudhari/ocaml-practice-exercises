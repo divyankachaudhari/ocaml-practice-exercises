{
 "cells": [
  {
   "cell_type": "markdown",
   "id": "29646051",
   "metadata": {},
   "source": [
    "# Question 019: Rotate a List N Places to the Left\n",
    "\n",
    "Write a function that rotates a list N places to the left.\n",
    "\n",
    "## Exercise Instructions\n",
    "\n",
    "**Implement the function definition below.**\n",
    "\n",
    "Rotate a list N places to the left."
   ]
  },
  {
   "cell_type": "code",
   "execution_count": null,
   "id": "66d3de21",
   "metadata": {
    "vscode": {
     "languageId": "ocaml"
    }
   },
   "outputs": [],
   "source": [
    "let rotate _ _ = failwith \"Not yet implemented\""
   ]
  },
  {
   "cell_type": "markdown",
   "id": "50ee5e97",
   "metadata": {},
   "source": [
    "## Try It Out!\n",
    "\n",
    "Test the function with different inputs and see the results. Modify the function if needed."
   ]
  },
  {
   "cell_type": "code",
   "execution_count": null,
   "id": "bf8e26e5",
   "metadata": {
    "vscode": {
     "languageId": "ocaml"
    }
   },
   "outputs": [],
   "source": [
    "rotate [\"a\"; \"b\"; \"c\"; \"d\"; \"e\"; \"f\"; \"g\"; \"h\"] 3;;"
   ]
  },
  {
   "cell_type": "markdown",
   "id": "4bbf3e95",
   "metadata": {},
   "source": [
    "## Run Test Cases\n",
    "\n",
    "Run the cell below to run pre-defined test cases and to see if your implementation passes them."
   ]
  },
  {
   "cell_type": "code",
   "execution_count": null,
   "id": "5481b23d",
   "metadata": {
    "vscode": {
     "languageId": "ocaml"
    }
   },
   "outputs": [],
   "source": [
    "#use \"topfind\";;\n",
    "#require \"alcotest\";;\n",
    "#use \"./tests/019.ml\""
   ]
  },
  {
   "cell_type": "markdown",
   "id": "d5844726",
   "metadata": {},
   "source": [
    "## Solution\n",
    "<details>\n",
    "<summary>Click here for the solution</summary>\n",
    "\n",
    "```ocaml\n",
    "let split list n =\n",
    "  let rec aux i acc = function\n",
    "    | [] -> List.rev acc, []\n",
    "    | h :: t as l -> if i = 0 then List.rev acc, l\n",
    "                     else aux (i - 1) (h :: acc) t  in\n",
    "  aux n [] list\n",
    "\n",
    "let rotate list n =\n",
    "  let len = List.length list in\n",
    "  (* Compute a rotation value between 0 and len - 1 *)\n",
    "  let n = if len = 0 then 0 else (n mod len + len) mod len in\n",
    "  if n = 0 then list\n",
    "  else let a, b = split list n in b @ a\n",
    "\n",
    "```\n",
    "</details>"
   ]
  }
 ],
 "metadata": {
  "kernelspec": {
   "display_name": "OCaml 4.14.0",
   "language": "OCaml",
   "name": "ocaml-jupyter"
  },
  "language_info": {
   "name": "OCaml"
  }
 },
 "nbformat": 4,
 "nbformat_minor": 5
}
