{
 "cells": [
  {
   "cell_type": "markdown",
   "id": "56b2c1a4",
   "metadata": {},
   "source": [
    "# Question 069: Dotstring Representation of Binary Trees\n",
    "\n",
    "Convert binary trees into dot-representations and vice versa using difference lists.\n",
    "\n",
    "## Exercise Instructions\n",
    "\n",
    "**Implement the function definition below.**\n",
    "\n",
    "We consider again binary trees with nodes that are identified by single\n",
    "lower-case letters, as in the example of problem “[A string\n",
    "representation of binary trees](#67)”. Such a tree can be\n",
    "represented by the preorder sequence of its nodes in which dots (.) are\n",
    "inserted where an empty subtree (nil) is encountered during the tree\n",
    "traversal. For example, the tree shown in problem “[A string\n",
    "representation of binary trees](#67)” is represented as\n",
    "'abd..e..c.fg...'. First, try to establish a syntax (BNF or syntax\n",
    "diagrams) and then write a function `tree_dotstring` which does the\n",
    "conversion in both directions. Use difference lists."
   ]
  },
  {
   "cell_type": "code",
   "execution_count": null,
   "id": "aced5c81",
   "metadata": {},
   "outputs": [],
   "source": []
  },
  {
   "cell_type": "markdown",
   "id": "c21e42d7",
   "metadata": {},
   "source": [
    "## Try It Out!\n",
    "\n",
    "Test the function with different inputs and see the results. Modify the function if needed."
   ]
  },
  {
   "cell_type": "code",
   "execution_count": null,
   "id": "1ee6bb8b",
   "metadata": {},
   "outputs": [],
   "source": [
    "(* solution pending *)"
   ]
  },
  {
   "cell_type": "markdown",
   "id": "8ba0ad7c",
   "metadata": {},
   "source": [
    "## Run Test Cases\n",
    "\n",
    "Run the cell below to run pre-defined test cases and to see if your implementation passes them."
   ]
  },
  {
   "cell_type": "code",
   "execution_count": null,
   "id": "5fea91a8",
   "metadata": {},
   "outputs": [],
   "source": [
    "#use \"./tests/069.ml\""
   ]
  },
  {
   "cell_type": "markdown",
   "id": "7262c54e",
   "metadata": {},
   "source": [
    "## Solution\n",
    "<details>\n",
    "<summary>Click here for the solution</summary>\n",
    "\n",
    "```ocaml\n",
    "\n",
    "```\n",
    "</details>"
   ]
  }
 ],
 "metadata": {},
 "nbformat": 4,
 "nbformat_minor": 5
}
