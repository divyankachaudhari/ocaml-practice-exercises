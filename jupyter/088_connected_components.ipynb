{
 "cells": [
  {
   "cell_type": "markdown",
   "id": "d518adba",
   "metadata": {},
   "source": [
    "# Question 088: Connected Components\n",
    "\n",
    "Split a graph into its connected components.\n",
    "\n",
    "## Exercise Instructions\n",
    "\n",
    "**Implement the function definition below.**\n",
    "\n",
    "Write a predicate that splits a graph into its [connected\n",
    "components](http://en.wikipedia.org/wiki/Connected_component_%28graph_theory%29)."
   ]
  },
  {
   "cell_type": "code",
   "execution_count": null,
   "id": "92d4ac70",
   "metadata": {},
   "outputs": [],
   "source": []
  },
  {
   "cell_type": "markdown",
   "id": "9126dd9d",
   "metadata": {},
   "source": [
    "## Try It Out!\n",
    "\n",
    "Test the function with different inputs and see the results. Modify the function if needed."
   ]
  },
  {
   "cell_type": "code",
   "execution_count": null,
   "id": "bafab49e",
   "metadata": {},
   "outputs": [],
   "source": [
    "(* example pending *);;"
   ]
  },
  {
   "cell_type": "markdown",
   "id": "8870ec71",
   "metadata": {},
   "source": [
    "## Run Test Cases\n",
    "\n",
    "Run the cell below to run pre-defined test cases and to see if your implementation passes them."
   ]
  },
  {
   "cell_type": "code",
   "execution_count": null,
   "id": "b154daee",
   "metadata": {},
   "outputs": [],
   "source": [
    "#use \"./tests/088.ml\""
   ]
  },
  {
   "cell_type": "markdown",
   "id": "3b1af787",
   "metadata": {},
   "source": [
    "## Solution\n",
    "<details>\n",
    "<summary>Click here for the solution</summary>\n",
    "\n",
    "```ocaml\n",
    "\n",
    "```\n",
    "</details>"
   ]
  }
 ],
 "metadata": {},
 "nbformat": 4,
 "nbformat_minor": 5
}
