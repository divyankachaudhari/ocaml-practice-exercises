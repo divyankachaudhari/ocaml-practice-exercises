{
 "cells": [
  {
   "cell_type": "markdown",
   "id": "0af48944",
   "metadata": {},
   "source": [
    "# Question 041: A List of Goldbach Compositions\n",
    "\n",
    "Find even numbers in a range with Goldbach compositions where both primes exceed a specified limit\n",
    "\n",
    "## Exercise Instructions\n",
    "\n",
    "**Implement the function definition below.**\n",
    "\n",
    "Given a range of integers by its lower and upper limit, print a list of\n",
    "all even numbers and their Goldbach composition.\n",
    "\n",
    "In most cases, if an even number is written as the sum of two prime\n",
    "numbers, one of them is very small. Very rarely, the primes are both\n",
    "bigger than say 50. Try to find out how many such cases there are in the\n",
    "range 2..3000."
   ]
  },
  {
   "cell_type": "code",
   "execution_count": null,
   "id": "541ca6c0",
   "metadata": {
    "vscode": {
     "languageId": "ocaml"
    }
   },
   "outputs": [],
   "source": [
    "let goldbach_list _ = failwith \"goldbach_list not implemented\""
   ]
  },
  {
   "cell_type": "markdown",
   "id": "23e9e460",
   "metadata": {},
   "source": [
    "## Try It Out!\n",
    "\n",
    "Test the function with different inputs and see the results. Modify the function if needed."
   ]
  },
  {
   "cell_type": "code",
   "execution_count": null,
   "id": "3d8c8bd5",
   "metadata": {
    "vscode": {
     "languageId": "ocaml"
    }
   },
   "outputs": [],
   "source": [
    "goldbach_list 9 20;;"
   ]
  },
  {
   "cell_type": "markdown",
   "id": "bad6400a",
   "metadata": {},
   "source": [
    "## Run Test Cases\n",
    "\n",
    "Run the cell below to run pre-defined test cases and to see if your implementation passes them."
   ]
  },
  {
   "cell_type": "code",
   "execution_count": null,
   "id": "a1d8a65d",
   "metadata": {
    "vscode": {
     "languageId": "ocaml"
    }
   },
   "outputs": [],
   "source": [
    "#use \"topfind\";;\n",
    "#require \"alcotest\";;\n",
    "#use \"./tests/041.ml\""
   ]
  },
  {
   "cell_type": "markdown",
   "id": "8c81285f",
   "metadata": {},
   "source": [
    "## Solution\n",
    "<details>\n",
    "<summary>Click here for the solution</summary>\n",
    "\n",
    "```ocaml\n",
    "let is_prime n =\n",
    "  let n = abs n in\n",
    "  let rec is_not_divisor d =\n",
    "    d * d > n || (n mod d <> 0 && is_not_divisor (d + 1)) in\n",
    "  n <> 1 && is_not_divisor 2\n",
    "\n",
    "let goldbach n =\n",
    "  let rec aux d =\n",
    "    if is_prime d && is_prime (n - d) then (d, n - d)\n",
    "    else aux (d + 1)\n",
    "  in aux 2\n",
    "\n",
    "  let rec goldbach_list a b =\n",
    "    if a > b then [] else\n",
    "      if a mod 2 = 1 then goldbach_list (a + 1) b\n",
    "      else (a, goldbach a) :: goldbach_list (a + 2) b\n",
    "\n",
    "```\n",
    "</details>"
   ]
  }
 ],
 "metadata": {
  "kernelspec": {
   "display_name": "OCaml 4.14.0",
   "language": "OCaml",
   "name": "ocaml-jupyter"
  },
  "language_info": {
   "name": "OCaml"
  }
 },
 "nbformat": 4,
 "nbformat_minor": 5
}
