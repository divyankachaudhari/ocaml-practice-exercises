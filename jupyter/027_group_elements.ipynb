{
 "cells": [
  {
   "cell_type": "markdown",
   "id": "e4a89ba0",
   "metadata": {},
   "source": [
    "# Question 027: Group the Elements of a Set Into Disjoint Subsets\n",
    "\n",
    "Generate all possible ways to group elements into disjoint subsets.\n",
    "\n",
    "## Exercise Instructions\n",
    "\n",
    "**Implement the function definition below.**\n",
    "\n",
    "Group the elements of a set into disjoint subsets\n",
    "\n",
    "1. In how many ways can a group of 9 people work in 3 disjoint subgroups \n",
    "of 2, 3 and 4 persons? Write a function that generates all the\n",
    "possibilities and returns them in a list.\n",
    "2. Generalize the above function in a way that we can specify a list of\n",
    "group sizes and the function will return a list of groups."
   ]
  },
  {
   "cell_type": "code",
   "execution_count": null,
   "id": "ec4a5b6f",
   "metadata": {
    "vscode": {
     "languageId": "ocaml"
    }
   },
   "outputs": [],
   "source": [
    "let group _ = failwith \"Not yet implemented\"\n"
   ]
  },
  {
   "cell_type": "markdown",
   "id": "9ea51441",
   "metadata": {},
   "source": [
    "## Try It Out!\n",
    "\n",
    "Test the function with different inputs and see the results. Modify the function if needed."
   ]
  },
  {
   "cell_type": "code",
   "execution_count": null,
   "id": "5c41b67d",
   "metadata": {
    "vscode": {
     "languageId": "ocaml"
    }
   },
   "outputs": [],
   "source": [
    "group [\"a\"; \"b\"; \"c\"; \"d\"] [2; 1];;"
   ]
  },
  {
   "cell_type": "markdown",
   "id": "7364b595",
   "metadata": {},
   "source": [
    "## Run Test Cases\n",
    "\n",
    "Run the cell below to run pre-defined test cases and to see if your implementation passes them."
   ]
  },
  {
   "cell_type": "code",
   "execution_count": null,
   "id": "96edddd2",
   "metadata": {
    "vscode": {
     "languageId": "ocaml"
    }
   },
   "outputs": [],
   "source": [
    "#use \"topfind\";;\n",
    "#require \"alcotest\";;\n",
    "#use \"./tests/027.ml\""
   ]
  },
  {
   "cell_type": "markdown",
   "id": "4f37d216",
   "metadata": {},
   "source": [
    "## Solution\n",
    "<details>\n",
    "<summary>Click here for the solution</summary>\n",
    "\n",
    "```ocaml\n",
    "let group list sizes =\n",
    "    let initial = List.map (fun size -> size, []) sizes in\n",
    "    let prepend p list =\n",
    "    let emit l acc = l :: acc in\n",
    "    let rec aux emit acc = function\n",
    "      | [] -> emit [] acc\n",
    "      | (n, l) as h :: t ->\n",
    "         let acc = if n > 0 then emit ((n - 1, p :: l) :: t) acc\n",
    "                   else acc in\n",
    "         aux (fun l acc -> emit (h :: l) acc) acc t\n",
    "    in\n",
    "    aux emit [] list\n",
    "  in\n",
    "  let rec aux = function\n",
    "    | [] -> [initial]\n",
    "    | h :: t -> List.concat_map (prepend h) (aux t)\n",
    "  in\n",
    "  let all = aux list in\n",
    "  let complete = List.filter (List.for_all (fun (x, _) -> x = 0)) all in\n",
    "    List.map (List.map snd) complete\n",
    "\n",
    "```\n",
    "</details>"
   ]
  }
 ],
 "metadata": {
  "kernelspec": {
   "display_name": "OCaml 4.14.0",
   "language": "OCaml",
   "name": "ocaml-jupyter"
  },
  "language_info": {
   "name": "OCaml"
  }
 },
 "nbformat": 4,
 "nbformat_minor": 5
}
