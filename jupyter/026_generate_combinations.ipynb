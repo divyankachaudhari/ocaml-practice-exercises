{
 "cells": [
  {
   "cell_type": "markdown",
   "id": "3c62b5c8",
   "metadata": {},
   "source": [
    "# Question 026: Generate the Combinations of K Distinct Objects Chosen From the N Elements of a List\n",
    "\n",
    "Generate all possible combinations of K distinct objects chosen from a list of N elements.\n",
    "\n",
    "## Exercise Instructions\n",
    "\n",
    "**Implement the function definition below.**\n",
    "\n",
    "Generate the combinations of K distinct objects chosen from the N elements of a list.\n",
    "\n",
    "In how many ways can a committee of 3 be chosen from a group of 12\n",
    "people? We all know that there are C(12,3) = 220 possibilities (C(N,K)\n",
    "denotes the well-known binomial coefficients). For pure mathematicians,\n",
    "this result may be great. But we want to really generate all the\n",
    "possibilities in a list."
   ]
  },
  {
   "cell_type": "code",
   "execution_count": null,
   "id": "5f19b8b6",
   "metadata": {
    "vscode": {
     "languageId": "ocaml"
    }
   },
   "outputs": [],
   "source": [
    "let extract _ = failwith \"Not yet implemented\""
   ]
  },
  {
   "cell_type": "markdown",
   "id": "5da38fcc",
   "metadata": {},
   "source": [
    "## Try It Out!\n",
    "\n",
    "Test the function with different inputs and see the results. Modify the function if needed."
   ]
  },
  {
   "cell_type": "code",
   "execution_count": null,
   "id": "c7d5fecd",
   "metadata": {
    "vscode": {
     "languageId": "ocaml"
    }
   },
   "outputs": [],
   "source": [
    "extract 2 [\"a\"; \"b\"; \"c\"; \"d\"];;"
   ]
  },
  {
   "cell_type": "markdown",
   "id": "c8ad937f",
   "metadata": {},
   "source": [
    "## Run Test Cases\n",
    "\n",
    "Run the cell below to run pre-defined test cases and to see if your implementation passes them."
   ]
  },
  {
   "cell_type": "code",
   "execution_count": null,
   "id": "f29ff45e",
   "metadata": {
    "vscode": {
     "languageId": "ocaml"
    }
   },
   "outputs": [],
   "source": [
    "#use \"topfind\";;\n",
    "#require \"alcotest\";;\n",
    "#use \"./tests/026.ml\""
   ]
  },
  {
   "cell_type": "markdown",
   "id": "0f4a1af9",
   "metadata": {},
   "source": [
    "## Solution\n",
    "<details>\n",
    "<summary>Click here for the solution</summary>\n",
    "\n",
    "```ocaml\n",
    "let rec extract k list =\n",
    " if k <= 0 then [[]]\n",
    " else match list with\n",
    "  | [] -> []\n",
    "  | h :: tl ->\n",
    "  let with_h = List.map (fun l -> h :: l) (extract (k - 1) tl) in\n",
    "  let without_h = extract k tl in\n",
    "  with_h @ without_h\n",
    "\n",
    "```\n",
    "</details>"
   ]
  }
 ],
 "metadata": {
  "kernelspec": {
   "display_name": "OCaml 4.14.0",
   "language": "OCaml",
   "name": "ocaml-jupyter"
  },
  "language_info": {
   "name": "OCaml"
  }
 },
 "nbformat": 4,
 "nbformat_minor": 5
}
