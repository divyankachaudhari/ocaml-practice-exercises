{
 "cells": [
  {
   "cell_type": "markdown",
   "id": "b6d6c5ac",
   "metadata": {},
   "source": [
    "# Question 034: Calculate Euler's Totient Function Φ(m)\n",
    "\n",
    "Find Euler's totient function (phi) for a given positive integer 'n'.\n",
    "\n",
    "## Exercise Instructions\n",
    "\n",
    "**Implement the function definition below.**\n",
    "\n",
    "Euler's so-called totient function φ(m) is defined as the number of\n",
    "positive integers r (1 ≤ r < m) that are coprime to m. We let φ(1) = 1.\n",
    "\n",
    "Find out what the value of φ(m) is if m is a prime number.  Euler's\n",
    "totient function plays an important role in one of the most widely used\n",
    "public key cryptography methods (RSA). In this exercise you should use\n",
    "the most primitive method to calculate this function (there are smarter\n",
    "ways that we shall discuss later)."
   ]
  },
  {
   "cell_type": "code",
   "execution_count": null,
   "id": "7885eca3",
   "metadata": {},
   "outputs": [],
   "source": [
    "let rec gcd a b = if b = 0 then a else gcd b (a mod b)\n",
    "let coprime a b = gcd a b = 1\n",
    "\n",
    "let phi _ = failwith \"Not yet implemented\"\n"
   ]
  },
  {
   "cell_type": "markdown",
   "id": "f417a782",
   "metadata": {},
   "source": [
    "## Try It Out!\n",
    "\n",
    "Test the function with different inputs and see the results. Modify the function if needed."
   ]
  },
  {
   "cell_type": "code",
   "execution_count": null,
   "id": "653da71a",
   "metadata": {},
   "outputs": [],
   "source": [
    "phi 10;;"
   ]
  },
  {
   "cell_type": "markdown",
   "id": "6af8dc6a",
   "metadata": {},
   "source": [
    "## Run Test Cases\n",
    "\n",
    "Run the cell below to run pre-defined test cases and to see if your implementation passes them."
   ]
  },
  {
   "cell_type": "code",
   "execution_count": null,
   "id": "8352a359",
   "metadata": {},
   "outputs": [],
   "source": [
    "#use \"./tests/034.ml\""
   ]
  },
  {
   "cell_type": "markdown",
   "id": "9eb39d3b",
   "metadata": {},
   "source": [
    "## Solution\n",
    "<details>\n",
    "<summary>Click here for the solution</summary>\n",
    "\n",
    "```ocaml\n",
    "let rec gcd a b = if b = 0 then a else gcd b (a mod b)\n",
    "let coprime a b = gcd a b = 1\n",
    "\n",
    "let phi n =\n",
    "  let rec count_coprime acc d =\n",
    "    if d < n then\n",
    "      count_coprime (if coprime n d then acc + 1 else acc) (d + 1)\n",
    "    else acc\n",
    "  in\n",
    "  if n = 1 then 1 else count_coprime 0 1\n",
    "\n",
    "```\n",
    "</details>"
   ]
  }
 ],
 "metadata": {},
 "nbformat": 4,
 "nbformat_minor": 5
}
