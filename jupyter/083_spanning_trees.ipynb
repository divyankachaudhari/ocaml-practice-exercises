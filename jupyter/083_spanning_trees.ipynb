{
 "cells": [
  {
   "cell_type": "markdown",
   "id": "81baf87c",
   "metadata": {},
   "source": [
    "# Question 083: Construct All Spanning Trees\n",
    "\n",
    "Construct all spanning trees of a given graph g and find out how many spanning trees there are for a given graph.\n",
    "\n",
    "## Exercise Instructions\n",
    "\n",
    "**Implement the function definition below.**\n",
    "\n",
    "![Spanning tree graph](/media/problems/spanning-tree-graph1.gif)\n",
    "\n",
    "Write a function `s_tree g` to construct (by backtracking) all [spanning\n",
    "trees](http://en.wikipedia.org/wiki/Spanning_tree) of a given graph `g`.\n",
    "With this predicate, find out how many spanning trees there are for the\n",
    "graph depicted to the left. The data of this example graph can be found\n",
    "in the test below. When you have a correct solution for the `s_tree`\n",
    "function, use it to define two other useful functions: `is_tree graph`\n",
    "and `is_connected Graph`. Both are five-minutes tasks!"
   ]
  },
  {
   "cell_type": "code",
   "execution_count": null,
   "id": "d69fde32",
   "metadata": {},
   "outputs": [],
   "source": []
  },
  {
   "cell_type": "markdown",
   "id": "b428ee81",
   "metadata": {},
   "source": [
    "## Try It Out!\n",
    "\n",
    "Test the function with different inputs and see the results. Modify the function if needed."
   ]
  },
  {
   "cell_type": "code",
   "execution_count": null,
   "id": "a74bd4bd",
   "metadata": {},
   "outputs": [],
   "source": [
    "let g = {nodes = ['a'; 'b'; 'c'; 'd'; 'e'; 'f'; 'g'; 'h'];"
   ]
  },
  {
   "cell_type": "markdown",
   "id": "6e2c22d6",
   "metadata": {},
   "source": [
    "## Run Test Cases\n",
    "\n",
    "Run the cell below to run pre-defined test cases and to see if your implementation passes them."
   ]
  },
  {
   "cell_type": "code",
   "execution_count": null,
   "id": "631ebd95",
   "metadata": {},
   "outputs": [],
   "source": [
    "#use \"./tests/083.ml\""
   ]
  },
  {
   "cell_type": "markdown",
   "id": "193fd29e",
   "metadata": {},
   "source": [
    "## Solution\n",
    "<details>\n",
    "<summary>Click here for the solution</summary>\n",
    "\n",
    "```ocaml\n",
    "\n",
    "```\n",
    "</details>"
   ]
  }
 ],
 "metadata": {},
 "nbformat": 4,
 "nbformat_minor": 5
}
