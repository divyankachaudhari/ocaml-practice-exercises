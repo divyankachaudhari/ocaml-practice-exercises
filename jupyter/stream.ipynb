{
 "cells": [
  {
   "cell_type": "markdown",
   "id": "bf04f5b9",
   "metadata": {},
   "source": [
    "# Question stream.md: Never-Ending Sequences\n",
    "\n",
    "Define an 'a stream type for infinite sequences, and provide essential functions for seamless manipulation of infinite sequences.\n",
    "\n",
    "## Exercise Instructions\n",
    "\n",
    "**Implement the function definition below.**\n",
    "\n",
    "Lists are finite, meaning they always contain a finite number of elements. Sequences may\n",
    "be finite or infinite.\n",
    "\n",
    "The goal of this exercise is to define a type `'a stream` which only contains\n",
    "infinite sequences. Using this type, define the following functions:"
   ]
  },
  {
   "cell_type": "code",
   "execution_count": null,
   "id": "786f5b35",
   "metadata": {},
   "outputs": [],
   "source": []
  },
  {
   "cell_type": "markdown",
   "id": "4e499c31",
   "metadata": {},
   "source": [
    "## Try It Out!\n",
    "\n",
    "Test the function with different inputs and see the results. Modify the function if needed."
   ]
  },
  {
   "cell_type": "code",
   "execution_count": null,
   "id": "ed04fee4",
   "metadata": {},
   "outputs": [],
   "source": [
    "val hd : 'a stream -> 'a"
   ]
  },
  {
   "cell_type": "markdown",
   "id": "9d2429e1",
   "metadata": {},
   "source": [
    "## Run Test Cases\n",
    "\n",
    "Run the cell below to run pre-defined test cases and to see if your implementation passes them."
   ]
  },
  {
   "cell_type": "code",
   "execution_count": null,
   "id": "681f7f91",
   "metadata": {},
   "outputs": [],
   "source": [
    "#use \"./tests/stream.md.ml\""
   ]
  },
  {
   "cell_type": "markdown",
   "id": "99390c2a",
   "metadata": {},
   "source": [
    "## Solution\n",
    "<details>\n",
    "<summary>Click here for the solution</summary>\n",
    "\n",
    "```ocaml\n",
    "\n",
    "```\n",
    "</details>"
   ]
  }
 ],
 "metadata": {},
 "nbformat": 4,
 "nbformat_minor": 5
}
