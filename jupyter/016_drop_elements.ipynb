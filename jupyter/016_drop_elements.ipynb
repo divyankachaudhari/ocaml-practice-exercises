{
 "cells": [
  {
   "cell_type": "markdown",
   "id": "e31e450d",
   "metadata": {},
   "source": [
    "# Question 016: Drop Every N'th Element From a List\n",
    "\n",
    "Write a function that drops every N'th element from a list.\n",
    "\n",
    "## Exercise Instructions\n",
    "\n",
    "**Implement the function definition below.**\n",
    "\n",
    "Drop every N'th element from a list."
   ]
  },
  {
   "cell_type": "code",
   "execution_count": null,
   "id": "f0ac3094",
   "metadata": {},
   "outputs": [],
   "source": [
    "let drop _ _ = failwith \"Not yet implemented\"\n"
   ]
  },
  {
   "cell_type": "markdown",
   "id": "229c55ed",
   "metadata": {},
   "source": [
    "## Try It Out!\n",
    "\n",
    "Test the function with different inputs and see the results. Modify the function if needed."
   ]
  },
  {
   "cell_type": "code",
   "execution_count": null,
   "id": "c268500e",
   "metadata": {},
   "outputs": [],
   "source": [
    "drop [\"a\"; \"b\"; \"c\"; \"d\"; \"e\"; \"f\"; \"g\"; \"h\"; \"i\"; \"j\"] 3;;"
   ]
  },
  {
   "cell_type": "markdown",
   "id": "819a35c4",
   "metadata": {},
   "source": [
    "## Run Test Cases\n",
    "\n",
    "Run the cell below to run pre-defined test cases and to see if your implementation passes them."
   ]
  },
  {
   "cell_type": "code",
   "execution_count": null,
   "id": "ba01b5f1",
   "metadata": {},
   "outputs": [],
   "source": [
    "#use \"./tests/016.ml\""
   ]
  },
  {
   "cell_type": "markdown",
   "id": "63f77ed8",
   "metadata": {},
   "source": [
    "## Solution\n",
    "<details>\n",
    "<summary>Click here for the solution</summary>\n",
    "\n",
    "```ocaml\n",
    "let drop list n =\n",
    "  let rec aux i = function\n",
    "    | [] -> []\n",
    "    | h :: t -> if i = n then aux 1 t else h :: aux (i + 1) t  in\n",
    "  aux 1 list\n",
    "\n",
    "```\n",
    "</details>"
   ]
  }
 ],
 "metadata": {},
 "nbformat": 4,
 "nbformat_minor": 5
}
