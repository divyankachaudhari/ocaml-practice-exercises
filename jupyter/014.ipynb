{
 "cells": [
  {
   "cell_type": "markdown",
   "id": "930d8e29",
   "metadata": {},
   "source": [
    "# Question 14: Duplicate the Elements of a List\n",
    "\n",
    "Write a function that duplicates each element of a list. For example, duplicating the list `[\"a\"; \"b\"; \"c\"]` should give `[\"a\"; \"a\"; \"b\"; \"b\"; \"c\"; \"c\"]`.\n"
   ]
  },
  {
   "cell_type": "markdown",
   "id": "8af487ad",
   "metadata": {},
   "source": [
    "## Exercise Instructions\n",
    "Implement the function `duplicate` which takes a list and returns a new list with each element duplicated. Below, you will find the function definition and tests to verify your implementation.\n"
   ]
  },
  {
   "cell_type": "code",
   "execution_count": 14,
   "id": "90fbae02",
   "metadata": {},
   "outputs": [
    {
     "data": {
      "text/plain": [
       "val duplicate : 'a list -> 'a list = <fun>\n"
      ]
     },
     "execution_count": 14,
     "metadata": {},
     "output_type": "execute_result"
    }
   ],
   "source": [
    "let duplicate _ = failwith \"Not yet implemented\""
   ]
  },
  {
   "cell_type": "markdown",
   "id": "a853b18e",
   "metadata": {},
   "source": [
    "## Try It Out!\n",
    "Test the `duplicate` function with different inputs and see the results. Modify the function if needed and try to make it tail-recursive as suggested.\n"
   ]
  },
  {
   "cell_type": "code",
   "execution_count": null,
   "id": "18c8a1a7",
   "metadata": {},
   "outputs": [],
   "source": [
    "duplicate [\"hello\"; \"world\"]"
   ]
  },
  {
   "cell_type": "markdown",
   "id": "77506610",
   "metadata": {},
   "source": [
    "## Run Test Cases\n",
    "Run the cell below to run pre-defined test cases and to see if your implementation passes them. "
   ]
  },
  {
   "cell_type": "code",
   "execution_count": 50,
   "id": "34e690bc",
   "metadata": {
    "scrolled": false
   },
   "outputs": [
    {
     "name": "stdout",
     "output_type": "stream",
     "text": [
      "module Test :\n",
      "  sig\n",
      "    val list_to_string : ('a -> string) -> 'a list -> string\n",
      "    val assert_equal : int list -> int list -> unit\n",
      "    val run_tests : unit -> unit\n",
      "  end\n",
      "--------------------------------------\n",
      "Running Duplicate Elements Tests:\n",
      "Test: Non-empty list\n",
      "✓ Test passed\n",
      "Test: Empty list\n",
      "✓ Test passed\n",
      "All tests completed.\n"
     ]
    }
   ],
   "source": [
    "#use \"./tests/014.ml\""
   ]
  },
  {
   "cell_type": "markdown",
   "id": "c67322ce",
   "metadata": {},
   "source": [
    "## Solution\n",
    "\n",
    "**Warning**: Only click if you want to see the solution\n",
    "<details>\n",
    "<summary style=\"color: blue;\">Click here for the solution</summary>\n",
    "\n",
    "```ocaml\n",
    "let rec duplicate = function\n",
    "  | [] -> []\n",
    "  | h :: t -> h :: h :: duplicate t\n",
    "```\n",
    "</details>"
   ]
  }
 ],
 "metadata": {
  "kernelspec": {
   "display_name": "OCaml 4.14.0",
   "language": "OCaml",
   "name": "ocaml-jupyter"
  },
  "language_info": {
   "codemirror_mode": "text/x-ocaml",
   "file_extension": ".ml",
   "mimetype": "text/x-ocaml",
   "name": "OCaml",
   "nbconverter_exporter": null,
   "pygments_lexer": "OCaml",
   "version": "4.14.0"
  }
 },
 "nbformat": 4,
 "nbformat_minor": 5
}
