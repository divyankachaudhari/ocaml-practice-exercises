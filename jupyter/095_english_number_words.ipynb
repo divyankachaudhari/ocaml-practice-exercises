{
 "cells": [
  {
   "cell_type": "markdown",
   "id": "3a1ac6c4",
   "metadata": {},
   "source": [
    "# Question 095: English Number Words\n",
    "\n",
    "Given a non-negative integer number, return its representation in full words.\n",
    "\n",
    "## Exercise Instructions\n",
    "\n",
    "**Implement the function definition below.**\n",
    "\n",
    "On financial documents, like cheques, numbers must sometimes be written\n",
    "in full words. Example: 175 must be written as one-seven-five. Write a\n",
    "function `full_words` to print (non-negative) integer numbers in full\n",
    "words."
   ]
  },
  {
   "cell_type": "code",
   "execution_count": null,
   "id": "5c5862d2",
   "metadata": {},
   "outputs": [],
   "source": []
  },
  {
   "cell_type": "markdown",
   "id": "b10bc8c8",
   "metadata": {},
   "source": [
    "## Try It Out!\n",
    "\n",
    "Test the function with different inputs and see the results. Modify the function if needed."
   ]
  },
  {
   "cell_type": "code",
   "execution_count": null,
   "id": "a581e969",
   "metadata": {},
   "outputs": [],
   "source": [
    "full_words 175;;"
   ]
  },
  {
   "cell_type": "markdown",
   "id": "bbba00f2",
   "metadata": {},
   "source": [
    "## Run Test Cases\n",
    "\n",
    "Run the cell below to run pre-defined test cases and to see if your implementation passes them."
   ]
  },
  {
   "cell_type": "code",
   "execution_count": null,
   "id": "377f84ae",
   "metadata": {},
   "outputs": [],
   "source": [
    "#use \"./tests/095.ml\""
   ]
  },
  {
   "cell_type": "markdown",
   "id": "9e08663b",
   "metadata": {},
   "source": [
    "## Solution\n",
    "<details>\n",
    "<summary>Click here for the solution</summary>\n",
    "\n",
    "```ocaml\n",
    "\n",
    "```\n",
    "</details>"
   ]
  }
 ],
 "metadata": {},
 "nbformat": 4,
 "nbformat_minor": 5
}
