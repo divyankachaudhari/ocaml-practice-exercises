{
 "cells": [
  {
   "cell_type": "markdown",
   "id": "0428e2f2",
   "metadata": {},
   "source": [
    "# Question 020: Remove the K'th Element From a List\n",
    "\n",
    "Create a function to remove the K'th element from a list (0-based index).\n",
    "\n",
    "## Exercise Instructions\n",
    "\n",
    "**Implement the function definition below.**\n",
    "\n",
    "Remove the K'th element from a list.\n",
    "\n",
    "The first element of the list is numbered 0, the second 1,..."
   ]
  },
  {
   "cell_type": "code",
   "execution_count": null,
   "id": "a0e8e91f",
   "metadata": {
    "vscode": {
     "languageId": "ocaml"
    }
   },
   "outputs": [],
   "source": [
    "let remove_at _ _ = failwith \"Not yet implemented\""
   ]
  },
  {
   "cell_type": "markdown",
   "id": "b1b5d1b5",
   "metadata": {},
   "source": [
    "## Try It Out!\n",
    "\n",
    "Test the function with different inputs and see the results. Modify the function if needed."
   ]
  },
  {
   "cell_type": "code",
   "execution_count": null,
   "id": "4da68127",
   "metadata": {
    "vscode": {
     "languageId": "ocaml"
    }
   },
   "outputs": [],
   "source": [
    "remove_at 1 [\"a\"; \"b\"; \"c\"; \"d\"];;"
   ]
  },
  {
   "cell_type": "markdown",
   "id": "d91b2e44",
   "metadata": {},
   "source": [
    "## Run Test Cases\n",
    "\n",
    "Run the cell below to run pre-defined test cases and to see if your implementation passes them."
   ]
  },
  {
   "cell_type": "code",
   "execution_count": null,
   "id": "615d8ae8",
   "metadata": {
    "vscode": {
     "languageId": "ocaml"
    }
   },
   "outputs": [],
   "source": [
    "#use \"topfind\";;\n",
    "#require \"alcotest\";;\n",
    "#use \"./tests/020.ml\""
   ]
  },
  {
   "cell_type": "markdown",
   "id": "276186c9",
   "metadata": {},
   "source": [
    "## Solution\n",
    "<details>\n",
    "<summary>Click here for the solution</summary>\n",
    "\n",
    "```ocaml\n",
    "let rec remove_at n = function\n",
    "  | [] -> []\n",
    "  | h :: t -> if n = 0 then t else h :: remove_at (n - 1) t\n",
    "\n",
    "```\n",
    "</details>"
   ]
  }
 ],
 "metadata": {
  "kernelspec": {
   "display_name": "OCaml 4.14.0",
   "language": "OCaml",
   "name": "ocaml-jupyter"
  },
  "language_info": {
   "name": "OCaml"
  }
 },
 "nbformat": 4,
 "nbformat_minor": 5
}
