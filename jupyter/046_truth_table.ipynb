{
 "cells": [
  {
   "cell_type": "markdown",
   "id": "0c1d94af",
   "metadata": {},
   "source": [
    "# Question 046: Truth Tables for Logical Expressions (2 Variables)\n",
    "\n",
    "Generate a truth table for a two-variable boolean expression, returning a list of variable value pairs and the expression's results\n",
    "\n",
    "## Exercise Instructions\n",
    "\n",
    "**Implement the function definition below.**\n",
    "\n",
    "Let us define a small \"language\" for boolean expressions containing\n",
    "variables:"
   ]
  },
  {
   "cell_type": "code",
   "execution_count": null,
   "id": "44d44252",
   "metadata": {
    "vscode": {
     "languageId": "ocaml"
    }
   },
   "outputs": [],
   "source": [
    "type bool_expr =\n",
    "  | Var of string\n",
    "  | Not of bool_expr\n",
    "  | And of bool_expr * bool_expr\n",
    "  | Or of bool_expr * bool_expr\n",
    "  \n",
    "let table2 _ = failwith \"Not yet implemented\"\n"
   ]
  },
  {
   "cell_type": "markdown",
   "id": "1de46bd4",
   "metadata": {},
   "source": [
    "## Try It Out!\n",
    "\n",
    "Test the function with different inputs and see the results. Modify the function if needed."
   ]
  },
  {
   "cell_type": "code",
   "execution_count": null,
   "id": "e93c1fb7",
   "metadata": {
    "vscode": {
     "languageId": "ocaml"
    }
   },
   "outputs": [],
   "source": [
    "table2 \"a\" \"b\" (And (Var \"a\", Or (Var \"a\", Var \"b\")));;"
   ]
  },
  {
   "cell_type": "markdown",
   "id": "02aa040a",
   "metadata": {},
   "source": [
    "## Run Test Cases\n",
    "\n",
    "Run the cell below to run pre-defined test cases and to see if your implementation passes them."
   ]
  },
  {
   "cell_type": "code",
   "execution_count": null,
   "id": "c018fe7f",
   "metadata": {
    "vscode": {
     "languageId": "ocaml"
    }
   },
   "outputs": [],
   "source": [
    "#use \"topfind\";;\n",
    "#require \"alcotest\";;\n",
    "#use \"./tests/046.ml\""
   ]
  },
  {
   "cell_type": "markdown",
   "id": "c9b584ca",
   "metadata": {},
   "source": [
    "## Solution\n",
    "<details>\n",
    "<summary>Click here for the solution</summary>\n",
    "\n",
    "```ocaml\n",
    "type bool_expr =\n",
    "  | Var of string\n",
    "  | Not of bool_expr\n",
    "  | And of bool_expr * bool_expr\n",
    "  | Or of bool_expr * bool_expr\n",
    "\n",
    "let rec eval2 a val_a b val_b = function\n",
    "  | Var x -> if x = a then val_a\n",
    "              else if x = b then val_b\n",
    "              else failwith \"The expression contains an invalid variable\"\n",
    "  | Not e -> not (eval2 a val_a b val_b e)\n",
    "  | And(e1, e2) -> eval2 a val_a b val_b e1 && eval2 a val_a b val_b e2\n",
    "  | Or(e1, e2) -> eval2 a val_a b val_b e1 || eval2 a val_a b val_b e2\n",
    "\n",
    "let table2 a b expr =\n",
    "  [(true,  true,  eval2 a true  b true  expr);\n",
    "    (true,  false, eval2 a true  b false expr);\n",
    "    (false, true,  eval2 a false b true  expr);\n",
    "    (false, false, eval2 a false b false expr)]\n",
    "\n",
    "\n",
    "```\n",
    "</details>"
   ]
  }
 ],
 "metadata": {
  "kernelspec": {
   "display_name": "OCaml 4.14.0",
   "language": "OCaml",
   "name": "ocaml-jupyter"
  },
  "language_info": {
   "name": "OCaml"
  }
 },
 "nbformat": 4,
 "nbformat_minor": 5
}
