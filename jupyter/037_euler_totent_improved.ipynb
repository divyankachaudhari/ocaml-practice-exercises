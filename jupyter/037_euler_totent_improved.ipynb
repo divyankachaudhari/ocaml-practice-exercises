{
 "cells": [
  {
   "cell_type": "markdown",
   "id": "834d2bc9",
   "metadata": {},
   "source": [
    "# Question 037: Calculate Euler's Totient Function Φ(m) (Improved)\n",
    "\n",
    "Calculate Euler's totient function φ(m) using prime factors and their multiplicities.\n",
    "\n",
    "## Exercise Instructions\n",
    "\n",
    "**Implement the function definition below.**\n",
    "\n",
    "See problem \"[Calculate Euler&#39;s totient function φ(m)](#34)\" for\n",
    "the definition of Euler's totient function. If the list of the prime\n",
    "factors of a number m is known in the form of the previous problem then\n",
    "the function phi(m) can be efficiently calculated as follows: Let\n",
    "`[(p1, m1); (p2, m2); (p3, m3); ...]` be the list of prime factors\n",
    "(and their multiplicities) of a given number m. Then φ(m) can be\n",
    "calculated with the following formula:\n",
    "\n",
    "φ(m) = (p1 - 1) × p1<sup>m1 - 1</sup> × (p2 - 1) ×\n",
    "p2<sup>m2 - 1</sup> × (p3 - 1) × p3<sup>m3 - 1</sup> × ⋯"
   ]
  },
  {
   "cell_type": "code",
   "execution_count": null,
   "id": "2ac28eb0",
   "metadata": {
    "vscode": {
     "languageId": "ocaml"
    }
   },
   "outputs": [],
   "source": [
    "let phi _ = failwith \"Not yet implemented\"\n"
   ]
  },
  {
   "cell_type": "markdown",
   "id": "04b83c83",
   "metadata": {},
   "source": [
    "## Try It Out!\n",
    "\n",
    "Test the function with different inputs and see the results. Modify the function if needed."
   ]
  },
  {
   "cell_type": "code",
   "execution_count": null,
   "id": "3300907d",
   "metadata": {
    "vscode": {
     "languageId": "ocaml"
    }
   },
   "outputs": [],
   "source": [
    "phi_improved 10;;"
   ]
  },
  {
   "cell_type": "markdown",
   "id": "490d4c60",
   "metadata": {},
   "source": [
    "## Run Test Cases\n",
    "\n",
    "Run the cell below to run pre-defined test cases and to see if your implementation passes them."
   ]
  },
  {
   "cell_type": "code",
   "execution_count": null,
   "id": "a6dd0e5d",
   "metadata": {
    "vscode": {
     "languageId": "ocaml"
    }
   },
   "outputs": [],
   "source": [
    "#use \"topfind\";;\n",
    "#require \"alcotest\";;\n",
    "#use \"./tests/037.ml\""
   ]
  },
  {
   "cell_type": "markdown",
   "id": "e218f9db",
   "metadata": {},
   "source": [
    "## Solution\n",
    "<details>\n",
    "<summary>Click here for the solution</summary>\n",
    "\n",
    "```ocaml\n",
    "let factors n =\n",
    "  let rec aux d n =\n",
    "    if n = 1 then [] else\n",
    "      if n mod d = 0 then\n",
    "        match aux d (n / d) with\n",
    "        | (h, m) :: t when h = d -> (h, m + 1) :: t\n",
    "        | l -> (d, 1) :: l\n",
    "      else aux (d + 1) n\n",
    "  in aux 2 n\n",
    "\n",
    "(* Naive power function. *)\n",
    "let rec pow n p = if p < 1 then 1 else n * pow n (p - 1)\n",
    "\n",
    "let phi n =\n",
    "  let rec aux acc = function\n",
    "    | [] -> acc\n",
    "    | (p, m) :: t -> aux ((p - 1) * pow p (m - 1) * acc) t\n",
    "  in aux 1 (factors n)\n",
    "\n",
    "```\n",
    "</details>"
   ]
  }
 ],
 "metadata": {
  "kernelspec": {
   "display_name": "OCaml 4.14.0",
   "language": "OCaml",
   "name": "ocaml-jupyter"
  },
  "language_info": {
   "name": "OCaml"
  }
 },
 "nbformat": 4,
 "nbformat_minor": 5
}
