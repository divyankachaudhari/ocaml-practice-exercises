{
 "cells": [
  {
   "cell_type": "markdown",
   "id": "3002ca88",
   "metadata": {},
   "source": [
    "# Question 055: Construct Completely Balanced Binary Trees\n",
    "\n",
    "Generate completely balanced binary trees for a given number of nodes using the cbal_tree function.\n",
    "\n",
    "## Exercise Instructions\n",
    "\n",
    "**Implement the function definition below.**\n",
    "\n",
    "![Binary Tree](/media/problems/binary-tree.gif)\n",
    "\n",
    "*A binary tree is either empty or it is composed of a root element and\n",
    "two successors, which are binary trees themselves.*\n",
    "\n",
    "In OCaml, one can define a new type `binary_tree` that carries an\n",
    "arbitrary value of type `'a` (thus is polymorphic) at each node."
   ]
  },
  {
   "cell_type": "code",
   "execution_count": null,
   "id": "7fc88a6a",
   "metadata": {
    "vscode": {
     "languageId": "ocaml"
    }
   },
   "outputs": [],
   "source": [
    "type 'a binary_tree =\n",
    "  | Empty\n",
    "  | Node of 'a * 'a binary_tree * 'a binary_tree\n",
    "let cbal_tree _ = failwith \"Not yet implemented\""
   ]
  },
  {
   "cell_type": "markdown",
   "id": "8c4b715b",
   "metadata": {},
   "source": [
    "## Try It Out!\n",
    "\n",
    "Test the function with different inputs and see the results. Modify the function if needed."
   ]
  },
  {
   "cell_type": "code",
   "execution_count": null,
   "id": "0c576bb3",
   "metadata": {
    "vscode": {
     "languageId": "ocaml"
    }
   },
   "outputs": [],
   "source": [
    "cbal_tree 4;;"
   ]
  },
  {
   "cell_type": "markdown",
   "id": "65b649d6",
   "metadata": {},
   "source": [
    "## Run Test Cases\n",
    "\n",
    "Run the cell below to run pre-defined test cases and to see if your implementation passes them."
   ]
  },
  {
   "cell_type": "code",
   "execution_count": null,
   "id": "af387066",
   "metadata": {
    "vscode": {
     "languageId": "ocaml"
    }
   },
   "outputs": [],
   "source": [
    "#use \"topfind\";;\n",
    "#require \"alcotest\";;\n",
    "#use \"./tests/055.ml\""
   ]
  },
  {
   "cell_type": "markdown",
   "id": "36d3885c",
   "metadata": {},
   "source": [
    "## Solution\n",
    "<details>\n",
    "<summary>Click here for the solution</summary>\n",
    "\n",
    "```ocaml\n",
    "\n",
    "type 'a binary_tree =\n",
    "  | Empty\n",
    "  | Node of 'a * 'a binary_tree * 'a binary_tree\n",
    "  \n",
    "\n",
    "(* Build all trees with given [left] and [right] subtrees. *)\n",
    "let add_trees_with left right all =\n",
    "  let add_right_tree all l =\n",
    "    List.fold_left (fun a r -> Node ('x', l, r) :: a) all right in\n",
    "  List.fold_left add_right_tree all left\n",
    "\n",
    "let rec cbal_tree n =\n",
    "  if n = 0 then [Empty]\n",
    "  else if n mod 2 = 1 then\n",
    "    let t = cbal_tree (n / 2) in\n",
    "    add_trees_with t t []\n",
    "  else (* n even: n-1 nodes for the left & right subtrees altogether. *)\n",
    "    let t1 = cbal_tree (n / 2 - 1) in\n",
    "    let t2 = cbal_tree (n / 2) in\n",
    "    add_trees_with t1 t2 (add_trees_with t2 t1 [])\n",
    "\n",
    "```\n",
    "</details>"
   ]
  }
 ],
 "metadata": {
  "kernelspec": {
   "display_name": "OCaml 4.14.0",
   "language": "OCaml",
   "name": "ocaml-jupyter"
  },
  "language_info": {
   "name": "OCaml"
  }
 },
 "nbformat": 4,
 "nbformat_minor": 5
}
