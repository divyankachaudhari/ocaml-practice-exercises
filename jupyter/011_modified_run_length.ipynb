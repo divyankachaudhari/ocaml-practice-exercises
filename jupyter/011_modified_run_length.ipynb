{
 "cells": [
  {
   "cell_type": "markdown",
   "id": "ea93cb59",
   "metadata": {},
   "source": [
    "# Question 011: Modified Run-Length Encoding\n",
    "\n",
    "Modify run-length encoding to include single elements and (count, element) pairs.\n",
    "\n",
    "## Exercise Instructions\n",
    "\n",
    "**Implement the function definition below.**\n",
    "\n",
    "Modify the result of the previous problem in such a way that if an\n",
    "element has no duplicates it is simply copied into the result list. Only\n",
    "elements with duplicates are transferred as (N E) lists.\n",
    "\n",
    "Since OCaml lists are homogeneous, one needs to define a type to hold\n",
    "both single elements and sub-lists.\n",
    "\n",
    "<!-- $MDX skip -->"
   ]
  },
  {
   "cell_type": "code",
   "execution_count": null,
   "id": "9db79390",
   "metadata": {
    "vscode": {
     "languageId": "ocaml"
    }
   },
   "outputs": [],
   "source": [
    "type 'a rle =\n",
    "  | One of 'a\n",
    "  | Many of int * 'a\n",
    "\n",
    "let encode _ = failwith \"Not yet implemented\"\n"
   ]
  },
  {
   "cell_type": "markdown",
   "id": "cf731f6a",
   "metadata": {},
   "source": [
    "## Try It Out!\n",
    "\n",
    "Test the function with different inputs and see the results. Modify the function if needed."
   ]
  },
  {
   "cell_type": "code",
   "execution_count": null,
   "id": "c9a8af59",
   "metadata": {
    "vscode": {
     "languageId": "ocaml"
    }
   },
   "outputs": [],
   "source": [
    "encode [\"a\"; \"a\"; \"a\"; \"a\"; \"b\"; \"c\"; \"c\"; \"a\"; \"a\"; \"d\"; \"e\"; \"e\"; \"e\"; \"e\"];;"
   ]
  },
  {
   "cell_type": "markdown",
   "id": "ddee0717",
   "metadata": {},
   "source": [
    "## Run Test Cases\n",
    "\n",
    "Run the cell below to run pre-defined test cases and to see if your implementation passes them."
   ]
  },
  {
   "cell_type": "code",
   "execution_count": null,
   "id": "2a2aac1e",
   "metadata": {
    "vscode": {
     "languageId": "ocaml"
    }
   },
   "outputs": [],
   "source": [
    "#use \"topfind\";;\n",
    "#require \"alcotest\";;\n",
    "#use \"./tests/011.ml\""
   ]
  },
  {
   "cell_type": "markdown",
   "id": "2bacce1f",
   "metadata": {},
   "source": [
    "## Solution\n",
    "<details>\n",
    "<summary>Click here for the solution</summary>\n",
    "\n",
    "```ocaml\n",
    "type 'a rle =\n",
    "   | One of 'a\n",
    "   | Many of int * 'a\n",
    " \n",
    " let encode l =\n",
    "   let create_tuple cnt elem =\n",
    "     if cnt = 1 then One elem\n",
    "     else Many (cnt, elem) in\n",
    "   let rec aux count acc = function\n",
    "     | [] -> []\n",
    "     | [x] -> (create_tuple (count + 1) x) :: acc\n",
    "     | hd :: (snd :: _ as tl) ->\n",
    "         if hd = snd then aux (count + 1) acc tl\n",
    "         else aux 0 ((create_tuple (count + 1) hd) :: acc) tl in\n",
    "   List.rev (aux 0 [] l)\n",
    "\n",
    "```\n",
    "</details>"
   ]
  }
 ],
 "metadata": {
  "kernelspec": {
   "display_name": "OCaml 4.14.0",
   "language": "OCaml",
   "name": "ocaml-jupyter"
  },
  "language_info": {
   "name": "OCaml"
  }
 },
 "nbformat": 4,
 "nbformat_minor": 5
}
