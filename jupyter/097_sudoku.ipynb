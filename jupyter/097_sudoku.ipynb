{
 "cells": [
  {
   "cell_type": "markdown",
   "id": "36a828c3",
   "metadata": {},
   "source": [
    "# Question 097: Sudoku\n",
    "\n",
    "Solve Sudoku puzzles by filling in the missing spots with digits (1-9) in such a way that every row, column, and 3x3 square contains every number exactly once.\n",
    "\n",
    "## Exercise Instructions\n",
    "\n",
    "**Implement the function definition below.**\n",
    "\n",
    "Sudoku puzzles go like this:"
   ]
  },
  {
   "cell_type": "code",
   "execution_count": null,
   "id": "c4ed3e35",
   "metadata": {},
   "outputs": [],
   "source": []
  },
  {
   "cell_type": "markdown",
   "id": "f14e7b98",
   "metadata": {},
   "source": [
    "## Try It Out!\n",
    "\n",
    "Test the function with different inputs and see the results. Modify the function if needed."
   ]
  },
  {
   "cell_type": "code",
   "execution_count": null,
   "id": "ff9d75f9",
   "metadata": {},
   "outputs": [],
   "source": [
    "(* The board representation is not imposed.  Here \"0\" stands for \".\" *);;"
   ]
  },
  {
   "cell_type": "markdown",
   "id": "99f9636e",
   "metadata": {},
   "source": [
    "## Run Test Cases\n",
    "\n",
    "Run the cell below to run pre-defined test cases and to see if your implementation passes them."
   ]
  },
  {
   "cell_type": "code",
   "execution_count": null,
   "id": "cfc7e271",
   "metadata": {},
   "outputs": [],
   "source": [
    "#use \"./tests/097.ml\""
   ]
  },
  {
   "cell_type": "markdown",
   "id": "01968361",
   "metadata": {},
   "source": [
    "## Solution\n",
    "<details>\n",
    "<summary>Click here for the solution</summary>\n",
    "\n",
    "```ocaml\n",
    "\n",
    "```\n",
    "</details>"
   ]
  }
 ],
 "metadata": {},
 "nbformat": 4,
 "nbformat_minor": 5
}
