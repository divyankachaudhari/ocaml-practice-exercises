{
 "cells": [
  {
   "cell_type": "markdown",
   "id": "29fdbf6d",
   "metadata": {},
   "source": [
    "# Question 096: Syntax Checker\n",
    "\n",
    "Check whether a given string conforms to the syntax rules of a legal identifier in a programming language.\n",
    "\n",
    "## Exercise Instructions\n",
    "\n",
    "**Implement the function definition below.**\n",
    "\n",
    "![Syntax graph](/media/problems/syntax-graph.gif)\n",
    "\n",
    "In a certain programming language (Ada) identifiers are defined by the\n",
    "syntax diagram (railroad chart) opposite. Transform the syntax diagram\n",
    "into a system of syntax diagrams which do not contain loops; i.e. which\n",
    "are purely recursive. Using these modified diagrams, write a function\n",
    "`identifier : string -> bool` that can check whether or not a given\n",
    "string is a legal identifier."
   ]
  },
  {
   "cell_type": "code",
   "execution_count": null,
   "id": "6b1337eb",
   "metadata": {},
   "outputs": [],
   "source": []
  },
  {
   "cell_type": "markdown",
   "id": "a65bfdae",
   "metadata": {},
   "source": [
    "## Try It Out!\n",
    "\n",
    "Test the function with different inputs and see the results. Modify the function if needed."
   ]
  },
  {
   "cell_type": "code",
   "execution_count": null,
   "id": "45cc68b9",
   "metadata": {},
   "outputs": [],
   "source": [
    "identifier \"this-is-a-long-identifier\";;"
   ]
  },
  {
   "cell_type": "markdown",
   "id": "fbce4cd5",
   "metadata": {},
   "source": [
    "## Run Test Cases\n",
    "\n",
    "Run the cell below to run pre-defined test cases and to see if your implementation passes them."
   ]
  },
  {
   "cell_type": "code",
   "execution_count": null,
   "id": "198cc281",
   "metadata": {},
   "outputs": [],
   "source": [
    "#use \"./tests/096.ml\""
   ]
  },
  {
   "cell_type": "markdown",
   "id": "bb767545",
   "metadata": {},
   "source": [
    "## Solution\n",
    "<details>\n",
    "<summary>Click here for the solution</summary>\n",
    "\n",
    "```ocaml\n",
    "\n",
    "```\n",
    "</details>"
   ]
  }
 ],
 "metadata": {},
 "nbformat": 4,
 "nbformat_minor": 5
}
