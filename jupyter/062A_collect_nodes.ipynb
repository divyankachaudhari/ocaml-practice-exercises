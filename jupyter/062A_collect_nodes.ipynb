{
 "cells": [
  {
   "cell_type": "markdown",
   "id": "17c5b57f",
   "metadata": {},
   "source": [
    "# Question 062A: Collect the Internal Nodes of a Binary Tree in a List\n",
    "\n",
    "Collect and returns all the internal nodes from a binary tree as a list.\n",
    "\n",
    "## Exercise Instructions\n",
    "\n",
    "**Implement the function definition below.**\n",
    "\n",
    "An internal node of a binary tree has either one or two non-empty\n",
    "successors. Write a function `internals` to collect them in a list."
   ]
  },
  {
   "cell_type": "code",
   "execution_count": null,
   "id": "0cad85a2",
   "metadata": {},
   "outputs": [],
   "source": [
    "type 'a binary_tree =\n",
    "  | Empty\n",
    "  | Node of 'a * 'a binary_tree * 'a binary_tree\n",
    "\n",
    "let internals _ = failwith \"Not yet implemented\"\n"
   ]
  },
  {
   "cell_type": "markdown",
   "id": "06051d59",
   "metadata": {},
   "source": [
    "## Try It Out!\n",
    "\n",
    "Test the function with different inputs and see the results. Modify the function if needed."
   ]
  },
  {
   "cell_type": "code",
   "execution_count": null,
   "id": "c79a0829",
   "metadata": {},
   "outputs": [],
   "source": [
    "internals (Node ('a', Empty, Empty));;"
   ]
  },
  {
   "cell_type": "markdown",
   "id": "e0625b27",
   "metadata": {},
   "source": [
    "## Run Test Cases\n",
    "\n",
    "Run the cell below to run pre-defined test cases and to see if your implementation passes them."
   ]
  },
  {
   "cell_type": "code",
   "execution_count": null,
   "id": "0617cfd0",
   "metadata": {},
   "outputs": [],
   "source": [
    "#use \"./tests/062A.ml\""
   ]
  },
  {
   "cell_type": "markdown",
   "id": "e4874200",
   "metadata": {},
   "source": [
    "## Solution\n",
    "<details>\n",
    "<summary>Click here for the solution</summary>\n",
    "\n",
    "```ocaml\n",
    "type 'a binary_tree =\n",
    "  | Empty\n",
    "  | Node of 'a * 'a binary_tree * 'a binary_tree\n",
    "\n",
    "let internals t = \n",
    "  let rec internals_aux t acc = match t with\n",
    "    | Empty -> acc\n",
    "    | Node (_, Empty, Empty) -> acc\n",
    "    | Node (x, l, r) -> internals_aux l (x :: internals_aux r acc)\n",
    "  in\n",
    "  internals_aux t []\n",
    "\n",
    "```\n",
    "</details>"
   ]
  }
 ],
 "metadata": {},
 "nbformat": 4,
 "nbformat_minor": 5
}
