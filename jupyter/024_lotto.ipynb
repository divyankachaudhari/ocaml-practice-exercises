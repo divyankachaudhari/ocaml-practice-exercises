{
 "cells": [
  {
   "cell_type": "markdown",
   "id": "367e1e8d",
   "metadata": {},
   "source": [
    "# Question 024: Lotto: Draw N Different Random Numbers From the Set 1..M\n",
    "\n",
    "Draw N different random numbers from the set 1..M.\n",
    "\n",
    "## Exercise Instructions\n",
    "\n",
    "**Implement the function definition below.**\n",
    "\n",
    "Draw N different random numbers from the set `1..M`.\n",
    "\n",
    "The selected numbers shall be returned in a list."
   ]
  },
  {
   "cell_type": "code",
   "execution_count": null,
   "id": "c508831e",
   "metadata": {
    "vscode": {
     "languageId": "ocaml"
    }
   },
   "outputs": [],
   "source": [
    "let lotto_select _ = failwith \"Not yet implemented\""
   ]
  },
  {
   "cell_type": "markdown",
   "id": "bddbc938",
   "metadata": {},
   "source": [
    "## Try It Out!\n",
    "\n",
    "Test the function with different inputs and see the results. Modify the function if needed."
   ]
  },
  {
   "cell_type": "code",
   "execution_count": null,
   "id": "36f6580e",
   "metadata": {
    "vscode": {
     "languageId": "ocaml"
    }
   },
   "outputs": [],
   "source": [
    "lotto_select 6 49;;"
   ]
  },
  {
   "cell_type": "markdown",
   "id": "84c11802",
   "metadata": {},
   "source": [
    "## Run Test Cases\n",
    "\n",
    "Run the cell below to run pre-defined test cases and to see if your implementation passes them."
   ]
  },
  {
   "cell_type": "code",
   "execution_count": null,
   "id": "44021cec",
   "metadata": {
    "vscode": {
     "languageId": "ocaml"
    }
   },
   "outputs": [],
   "source": [
    "#use \"topfind\";;\n",
    "#require \"alcotest\";;\n",
    "#use \"./tests/024.ml\""
   ]
  },
  {
   "cell_type": "markdown",
   "id": "93f87475",
   "metadata": {},
   "source": [
    "## Solution\n",
    "<details>\n",
    "<summary>Click here for the solution</summary>\n",
    "\n",
    "```ocaml\n",
    "let rand_select list n =\n",
    "  let rec extract acc n = function\n",
    "    | [] -> raise Not_found\n",
    "    | h :: t -> if n = 0 then (h, acc @ t) else extract (h :: acc) (n - 1) t\n",
    "  in\n",
    "  let extract_rand list len =\n",
    "    extract [] (Random.int len) list\n",
    "  in\n",
    "  let rec aux n acc list len =\n",
    "    if n = 0 then acc else\n",
    "      let picked, rest = extract_rand list len in\n",
    "      aux (n - 1) (picked :: acc) rest (len - 1)\n",
    "  in\n",
    "  let len = List.length list in\n",
    "    aux (min n len) [] list len\n",
    "\n",
    "let range a b =\n",
    "  let rec aux acc high low =\n",
    "    if high >= low then\n",
    "      aux (high :: acc) (high - 1) low\n",
    "    else acc\n",
    "  in\n",
    "    if a < b then aux [] b a else List.rev (aux [] a b)\n",
    "\n",
    "  let lotto_select n m = rand_select (range 1 m) n\n",
    "\n",
    "```\n",
    "</details>"
   ]
  }
 ],
 "metadata": {
  "kernelspec": {
   "display_name": "OCaml 4.14.0",
   "language": "OCaml",
   "name": "ocaml-jupyter"
  },
  "language_info": {
   "name": "OCaml"
  }
 },
 "nbformat": 4,
 "nbformat_minor": 5
}
