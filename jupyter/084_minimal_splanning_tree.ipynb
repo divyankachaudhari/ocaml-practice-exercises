{
 "cells": [
  {
   "cell_type": "markdown",
   "id": "0896529c",
   "metadata": {},
   "source": [
    "# Question 084: Construct the Minimal Spanning Tree\n",
    "\n",
    "Construct the minimal spanning tree of a given labeled graph.\n",
    "\n",
    "## Exercise Instructions\n",
    "\n",
    "**Implement the function definition below.**\n",
    "\n",
    "![Spanning tree graph](/media/problems/spanning-tree-graph2.gif)\n",
    "\n",
    "Write a function `ms_tree graph` to construct the minimal spanning tree\n",
    "of a given labelled graph. A labelled graph will be represented as\n",
    "follows:"
   ]
  },
  {
   "cell_type": "code",
   "execution_count": null,
   "id": "b4b15904",
   "metadata": {},
   "outputs": [],
   "source": []
  },
  {
   "cell_type": "markdown",
   "id": "a89700a6",
   "metadata": {},
   "source": [
    "## Try It Out!\n",
    "\n",
    "Test the function with different inputs and see the results. Modify the function if needed."
   ]
  },
  {
   "cell_type": "code",
   "execution_count": null,
   "id": "bd271a09",
   "metadata": {},
   "outputs": [],
   "source": [
    "let g = {nodes = ['a'; 'b'; 'c'; 'd'; 'e'; 'f'; 'g'; 'h'];"
   ]
  },
  {
   "cell_type": "markdown",
   "id": "132fb2cc",
   "metadata": {},
   "source": [
    "## Run Test Cases\n",
    "\n",
    "Run the cell below to run pre-defined test cases and to see if your implementation passes them."
   ]
  },
  {
   "cell_type": "code",
   "execution_count": null,
   "id": "42a8e34f",
   "metadata": {},
   "outputs": [],
   "source": [
    "#use \"./tests/084.ml\""
   ]
  },
  {
   "cell_type": "markdown",
   "id": "d80510f2",
   "metadata": {},
   "source": [
    "## Solution\n",
    "<details>\n",
    "<summary>Click here for the solution</summary>\n",
    "\n",
    "```ocaml\n",
    "\n",
    "```\n",
    "</details>"
   ]
  }
 ],
 "metadata": {},
 "nbformat": 4,
 "nbformat_minor": 5
}
