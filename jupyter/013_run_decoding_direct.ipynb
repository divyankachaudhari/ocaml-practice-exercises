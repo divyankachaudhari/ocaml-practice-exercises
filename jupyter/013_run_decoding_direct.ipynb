{
 "cells": [
  {
   "cell_type": "markdown",
   "id": "6ad01c1a",
   "metadata": {},
   "source": [
    "# Question 013: Run-Length Encoding of a List (Direct Solution)\n",
    "\n",
    "Perform run-length encoding directly by counting duplicates and simplifying the result list.\n",
    "\n",
    "## Exercise Instructions\n",
    "\n",
    "**Implement the function definition below.**\n",
    "\n",
    "Implement the so-called run-length encoding data compression method\n",
    "directly. I.e. don't explicitly create the sublists containing the\n",
    "duplicates, as in problem \"[Pack consecutive duplicates of list elements into sublists](#9)\", but only count them. As in problem\n",
    "\"[Modified run-length encoding](#10)\", simplify the result list by replacing the singleton lists (1 X) by X."
   ]
  },
  {
   "cell_type": "code",
   "execution_count": null,
   "id": "b7ad2ba2",
   "metadata": {
    "vscode": {
     "languageId": "ocaml"
    }
   },
   "outputs": [],
   "source": [
    "type 'a rle =\n",
    "  | One of 'a\n",
    "  | Many of int * 'a\n",
    "\n",
    "let encode _ = failwith \"Not yet implemented\"\n"
   ]
  },
  {
   "cell_type": "markdown",
   "id": "f5c2c6e2",
   "metadata": {},
   "source": [
    "## Try It Out!\n",
    "\n",
    "Test the function with different inputs and see the results. Modify the function if needed."
   ]
  },
  {
   "cell_type": "code",
   "execution_count": null,
   "id": "75d0d37b",
   "metadata": {
    "vscode": {
     "languageId": "ocaml"
    }
   },
   "outputs": [],
   "source": [
    "encode [\"a\";\"a\";\"a\";\"a\";\"b\";\"c\";\"c\";\"a\";\"a\";\"d\";\"e\";\"e\";\"e\";\"e\"];;"
   ]
  },
  {
   "cell_type": "markdown",
   "id": "07ab38b1",
   "metadata": {},
   "source": [
    "## Run Test Cases\n",
    "\n",
    "Run the cell below to run pre-defined test cases and to see if your implementation passes them."
   ]
  },
  {
   "cell_type": "code",
   "execution_count": null,
   "id": "771c4c60",
   "metadata": {
    "vscode": {
     "languageId": "ocaml"
    }
   },
   "outputs": [],
   "source": [
    "#use \"topfind\";;\n",
    "#require \"alcotest\";;\n",
    "#use \"./tests/013.ml\""
   ]
  },
  {
   "cell_type": "markdown",
   "id": "f0aedb69",
   "metadata": {},
   "source": [
    "## Solution\n",
    "<details>\n",
    "<summary>Click here for the solution</summary>\n",
    "\n",
    "```ocaml\n",
    "type 'a rle =\n",
    "  | One of 'a\n",
    "  | Many of int * 'a\n",
    "\n",
    "let encode l =\n",
    "  let create_tuple cnt elem = \n",
    "    if cnt = 0 then One elem \n",
    "    else Many (cnt + 1, elem) in\n",
    "  let rec aux count acc = function\n",
    "    | [] -> [] (* Can only be reached if original list is empty *)\n",
    "    | [x] -> create_tuple count x :: acc\n",
    "    | hd :: (snd :: _ as tl) -> \n",
    "        if hd = snd then aux (count + 1) acc tl\n",
    "        else aux 0 (create_tuple count hd :: acc) tl in\n",
    "    List.rev (aux 0 [] l)\n",
    "\n",
    "```\n",
    "</details>"
   ]
  }
 ],
 "metadata": {
  "kernelspec": {
   "display_name": "OCaml 4.14.0",
   "language": "OCaml",
   "name": "ocaml-jupyter"
  },
  "language_info": {
   "name": "OCaml"
  }
 },
 "nbformat": 4,
 "nbformat_minor": 5
}
