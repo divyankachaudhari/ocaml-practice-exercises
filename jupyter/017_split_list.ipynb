{
 "cells": [
  {
   "cell_type": "markdown",
   "id": "d4b3197d",
   "metadata": {},
   "source": [
    "# Question 017: Split a List Into Two Parts; The Length of the First Part Is Given\n",
    "\n",
    "Split a list into two parts, with the length of the first part specified.\n",
    "\n",
    "## Exercise Instructions\n",
    "\n",
    "**Implement the function definition below.**\n",
    "\n",
    "Split a list into two parts; the length of the first part is given.\n",
    "\n",
    "If the length of the first part is longer than the entire list, then the\n",
    "first part is the list and the second part is empty."
   ]
  },
  {
   "cell_type": "code",
   "execution_count": null,
   "id": "1f7530fe",
   "metadata": {},
   "outputs": [],
   "source": [
    "let split _ _ = failwith \"Not yet implemented\"\n"
   ]
  },
  {
   "cell_type": "markdown",
   "id": "6a8e64fe",
   "metadata": {},
   "source": [
    "## Try It Out!\n",
    "\n",
    "Test the function with different inputs and see the results. Modify the function if needed."
   ]
  },
  {
   "cell_type": "code",
   "execution_count": null,
   "id": "7223b544",
   "metadata": {},
   "outputs": [],
   "source": [
    "split [\"a\"; \"b\"; \"c\"; \"d\"; \"e\"; \"f\"; \"g\"; \"h\"; \"i\"; \"j\"] 3;;"
   ]
  },
  {
   "cell_type": "markdown",
   "id": "570f54ad",
   "metadata": {},
   "source": [
    "## Run Test Cases\n",
    "\n",
    "Run the cell below to run pre-defined test cases and to see if your implementation passes them."
   ]
  },
  {
   "cell_type": "code",
   "execution_count": null,
   "id": "94cc2974",
   "metadata": {},
   "outputs": [],
   "source": [
    "#use \"./tests/017.ml\""
   ]
  },
  {
   "cell_type": "markdown",
   "id": "8fa13dd2",
   "metadata": {},
   "source": [
    "## Solution\n",
    "<details>\n",
    "<summary>Click here for the solution</summary>\n",
    "\n",
    "```ocaml\n",
    "let split list n =\n",
    "  let rec aux i acc = function\n",
    "    | [] -> List.rev acc, []\n",
    "    | h :: t as l -> if i = 0 then List.rev acc, l\n",
    "                     else aux (i - 1) (h :: acc) t \n",
    "  in\n",
    "    aux n [] list\n",
    "\n",
    "```\n",
    "</details>"
   ]
  }
 ],
 "metadata": {},
 "nbformat": 4,
 "nbformat_minor": 5
}
