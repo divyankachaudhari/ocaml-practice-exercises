{
 "cells": [
  {
   "cell_type": "markdown",
   "id": "9eb6637f",
   "metadata": {},
   "source": [
    "# Question diag.md: Diagonal of a Sequence of Sequences\n",
    "\n",
    "Return the diagonal sequence formed by taking the nth element from each of the nth sequences.\n",
    "\n",
    "## Exercise Instructions\n",
    "\n",
    "**Implement the function definition below.**\n",
    "\n",
    "Write a function `diag : 'a Seq.t Seq.t -> 'a Seq` that returns the _diagonal_\n",
    "of a sequence of sequences. The returned sequence is formed as follows:\n",
    "The first element of the returned sequence is the first element of the first\n",
    "sequence; the second element of the returned sequence is the second element of\n",
    "the second sequence; the third element of the returned sequence is the third\n",
    "element of the third sequence; and so on."
   ]
  },
  {
   "cell_type": "code",
   "execution_count": null,
   "id": "90b62b16",
   "metadata": {},
   "outputs": [],
   "source": []
  },
  {
   "cell_type": "markdown",
   "id": "56f9384f",
   "metadata": {},
   "source": [
    "## Try It Out!\n",
    "\n",
    "Test the function with different inputs and see the results. Modify the function if needed."
   ]
  },
  {
   "cell_type": "code",
   "execution_count": null,
   "id": "15fd9be3",
   "metadata": {},
   "outputs": [],
   "source": [
    "let rec diag seq_seq () ="
   ]
  },
  {
   "cell_type": "markdown",
   "id": "ce39a2ee",
   "metadata": {},
   "source": [
    "## Run Test Cases\n",
    "\n",
    "Run the cell below to run pre-defined test cases and to see if your implementation passes them."
   ]
  },
  {
   "cell_type": "code",
   "execution_count": null,
   "id": "65d7ba86",
   "metadata": {},
   "outputs": [],
   "source": [
    "#use \"./tests/diag.md.ml\""
   ]
  },
  {
   "cell_type": "markdown",
   "id": "22cf2452",
   "metadata": {},
   "source": [
    "## Solution\n",
    "<details>\n",
    "<summary>Click here for the solution</summary>\n",
    "\n",
    "```ocaml\n",
    "\n",
    "```\n",
    "</details>"
   ]
  }
 ],
 "metadata": {},
 "nbformat": 4,
 "nbformat_minor": 5
}
