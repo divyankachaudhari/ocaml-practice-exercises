{
 "cells": [
  {
   "cell_type": "markdown",
   "id": "124ce6ff",
   "metadata": {},
   "source": [
    "# Question 022: Create a List Containing All Integers Within a Given Range\n",
    "\n",
    "Generate a list of integers in ascending order from A to B, and in descending order if A is greater than B.\n",
    "\n",
    "## Exercise Instructions\n",
    "\n",
    "**Implement the function definition below.**\n",
    "\n",
    "If first argument is greater than second, produce a list in decreasing\n",
    "order."
   ]
  },
  {
   "cell_type": "code",
   "execution_count": null,
   "id": "fdd5c168",
   "metadata": {},
   "outputs": [],
   "source": [
    "let range _ _ = failwith \"Not yet implemented\"\n"
   ]
  },
  {
   "cell_type": "markdown",
   "id": "4ed38552",
   "metadata": {},
   "source": [
    "## Try It Out!\n",
    "\n",
    "Test the function with different inputs and see the results. Modify the function if needed."
   ]
  },
  {
   "cell_type": "code",
   "execution_count": null,
   "id": "3e51aea3",
   "metadata": {},
   "outputs": [],
   "source": [
    "range 4 9;;"
   ]
  },
  {
   "cell_type": "markdown",
   "id": "550c498e",
   "metadata": {},
   "source": [
    "## Run Test Cases\n",
    "\n",
    "Run the cell below to run pre-defined test cases and to see if your implementation passes them."
   ]
  },
  {
   "cell_type": "code",
   "execution_count": null,
   "id": "38ae94f2",
   "metadata": {},
   "outputs": [],
   "source": [
    "#use \"./tests/022.ml\""
   ]
  },
  {
   "cell_type": "markdown",
   "id": "e42c3453",
   "metadata": {},
   "source": [
    "## Solution\n",
    "<details>\n",
    "<summary>Click here for the solution</summary>\n",
    "\n",
    "```ocaml\n",
    "let range a b =\n",
    "  let rec aux a b =\n",
    "    if a > b then [] else a :: aux (a + 1) b\n",
    "  in\n",
    "  if a > b then List.rev (aux b a) else aux a b\n",
    "\n",
    "```\n",
    "</details>"
   ]
  }
 ],
 "metadata": {},
 "nbformat": 4,
 "nbformat_minor": 5
}
