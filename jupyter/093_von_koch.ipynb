{
 "cells": [
  {
   "cell_type": "markdown",
   "id": "732b7f00",
   "metadata": {},
   "source": [
    "# Question 093: Von Koch's Conjecture\n",
    "\n",
    "Calculate a numbering scheme for a given tree, such that for each edge K, the difference of its node numbers equals to K.\n",
    "\n",
    "## Exercise Instructions\n",
    "\n",
    "**Implement the function definition below.**\n",
    "\n",
    "Several years ago I met a mathematician who was intrigued by a problem\n",
    "for which he didn't know a solution. His name was Von Koch, and I don't\n",
    "know whether the problem has been solved since.\n",
    "\n",
    "![Tree numbering](/media/problems/von-koch1.gif)\n",
    "\n",
    "Anyway, the puzzle goes like this: Given a tree with N nodes (and hence\n",
    "N-1 edges). Find a way to enumerate the nodes from 1 to N and,\n",
    "accordingly, the edges from 1 to N-1 in such a way, that for each edge K\n",
    "the difference of its node numbers equals to K. The conjecture is that\n",
    "this is always possible.\n",
    "\n",
    "For small trees the problem is easy to solve by hand. However, for\n",
    "larger trees, and 14 is already very large, it is extremely difficult to\n",
    "find a solution. And remember, we don't know for sure whether there is\n",
    "always a solution!\n",
    "\n",
    "![Larger tree](/media/problems/von-koch2.gif)\n",
    "\n",
    "Write a function that calculates a numbering scheme for a given tree.\n",
    "What is the solution for the larger tree pictured here?"
   ]
  },
  {
   "cell_type": "code",
   "execution_count": null,
   "id": "5a30d69d",
   "metadata": {},
   "outputs": [],
   "source": []
  },
  {
   "cell_type": "markdown",
   "id": "7ff86af6",
   "metadata": {},
   "source": [
    "## Try It Out!\n",
    "\n",
    "Test the function with different inputs and see the results. Modify the function if needed."
   ]
  },
  {
   "cell_type": "code",
   "execution_count": null,
   "id": "0a74066c",
   "metadata": {},
   "outputs": [],
   "source": [
    "(* example pending *);;"
   ]
  },
  {
   "cell_type": "markdown",
   "id": "d7cfcd21",
   "metadata": {},
   "source": [
    "## Run Test Cases\n",
    "\n",
    "Run the cell below to run pre-defined test cases and to see if your implementation passes them."
   ]
  },
  {
   "cell_type": "code",
   "execution_count": null,
   "id": "d6eba8fd",
   "metadata": {},
   "outputs": [],
   "source": [
    "#use \"./tests/093.ml\""
   ]
  },
  {
   "cell_type": "markdown",
   "id": "8525709b",
   "metadata": {},
   "source": [
    "## Solution\n",
    "<details>\n",
    "<summary>Click here for the solution</summary>\n",
    "\n",
    "```ocaml\n",
    "\n",
    "```\n",
    "</details>"
   ]
  }
 ],
 "metadata": {},
 "nbformat": 4,
 "nbformat_minor": 5
}
