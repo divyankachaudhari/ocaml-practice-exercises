{
 "cells": [
  {
   "cell_type": "markdown",
   "id": "3ca3c053",
   "metadata": {},
   "source": [
    "# Question 033: Determine Whether Two Positive Integer Numbers Are Coprime\n",
    "\n",
    "Determine if two positive integers are coprime, meaning their greatest common divisor is 1.\n",
    "\n",
    "## Exercise Instructions\n",
    "\n",
    "**Implement the function definition below.**\n",
    "\n",
    "Determine whether two positive integer numbers are coprime.\n",
    "\n",
    "Two numbers are coprime if their greatest common divisor equals 1."
   ]
  },
  {
   "cell_type": "code",
   "execution_count": null,
   "id": "689fdd73",
   "metadata": {
    "vscode": {
     "languageId": "ocaml"
    }
   },
   "outputs": [],
   "source": [
    "let rec gcd a b =\n",
    "  if b = 0 then a else gcd b (a mod b)\n",
    "\n",
    "let coprime _ _ = failwith \"Not yet implemented\"\n"
   ]
  },
  {
   "cell_type": "markdown",
   "id": "4048f1a8",
   "metadata": {},
   "source": [
    "## Try It Out!\n",
    "\n",
    "Test the function with different inputs and see the results. Modify the function if needed."
   ]
  },
  {
   "cell_type": "code",
   "execution_count": null,
   "id": "02fecd53",
   "metadata": {
    "vscode": {
     "languageId": "ocaml"
    }
   },
   "outputs": [],
   "source": [
    "coprime 13 27;;"
   ]
  },
  {
   "cell_type": "markdown",
   "id": "1610ac1d",
   "metadata": {},
   "source": [
    "## Run Test Cases\n",
    "\n",
    "Run the cell below to run pre-defined test cases and to see if your implementation passes them."
   ]
  },
  {
   "cell_type": "code",
   "execution_count": null,
   "id": "d5929c52",
   "metadata": {
    "vscode": {
     "languageId": "ocaml"
    }
   },
   "outputs": [],
   "source": [
    "#use \"topfind\";;\n",
    "#require \"alcotest\";;\n",
    "#use \"./tests/033.ml\""
   ]
  },
  {
   "cell_type": "markdown",
   "id": "278ad144",
   "metadata": {},
   "source": [
    "## Solution\n",
    "<details>\n",
    "<summary>Click here for the solution</summary>\n",
    "\n",
    "```ocaml\n",
    "let rec gcd a b =\n",
    "  if b = 0 then a else gcd b (a mod b)\n",
    "\n",
    "let coprime a b = gcd a b = 1\n",
    "\n",
    "```\n",
    "</details>"
   ]
  }
 ],
 "metadata": {
  "kernelspec": {
   "display_name": "OCaml 4.14.0",
   "language": "OCaml",
   "name": "ocaml-jupyter"
  },
  "language_info": {
   "name": "OCaml"
  }
 },
 "nbformat": 4,
 "nbformat_minor": 5
}
