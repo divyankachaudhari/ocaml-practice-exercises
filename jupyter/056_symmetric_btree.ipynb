{
 "cells": [
  {
   "cell_type": "markdown",
   "id": "59c6221b",
   "metadata": {},
   "source": [
    "# Question 056: Symmetric Binary Trees\n",
    "\n",
    "Determine if a given binary tree is symmetric, meaning its right subtree is a mirror image of its left subtree.\n",
    "\n",
    "## Exercise Instructions\n",
    "\n",
    "**Implement the function definition below.**\n",
    "\n",
    "Let us call a binary tree symmetric if you can draw a vertical line\n",
    "through the root node and then the right subtree is the mirror image of\n",
    "the left subtree. Write a function `is_symmetric` to check whether a\n",
    "given binary tree is symmetric.\n",
    "\n",
    "**Hint:** Write a function `is_mirror` first to check whether one tree\n",
    " is the mirror image of another. We are only interested in the\n",
    " structure, not in the contents of the nodes."
   ]
  },
  {
   "cell_type": "code",
   "execution_count": null,
   "id": "89903107",
   "metadata": {
    "vscode": {
     "languageId": "ocaml"
    }
   },
   "outputs": [],
   "source": [
    "type 'a binary_tree =\n",
    "    | Empty\n",
    "    | Node of 'a * 'a binary_tree * 'a binary_tree\n",
    "let is_symmetric _ = failwith \"Not yet implemented\"\n"
   ]
  },
  {
   "cell_type": "markdown",
   "id": "ba02b654",
   "metadata": {},
   "source": [
    "## Try It Out!\n",
    "\n",
    "Test the function with different inputs and see the results. Modify the function if needed."
   ]
  },
  {
   "cell_type": "code",
   "execution_count": null,
   "id": "e7be61d7",
   "metadata": {
    "vscode": {
     "languageId": "ocaml"
    }
   },
   "outputs": [],
   "source": [
    "let rec is_mirror t1 t2 ="
   ]
  },
  {
   "cell_type": "markdown",
   "id": "c6a03c7d",
   "metadata": {},
   "source": [
    "## Run Test Cases\n",
    "\n",
    "Run the cell below to run pre-defined test cases and to see if your implementation passes them."
   ]
  },
  {
   "cell_type": "code",
   "execution_count": null,
   "id": "4e091da0",
   "metadata": {
    "vscode": {
     "languageId": "ocaml"
    }
   },
   "outputs": [],
   "source": [
    "#use \"topfind\";;\n",
    "#require \"alcotest\";;\n",
    "#use \"./tests/056.ml\""
   ]
  },
  {
   "cell_type": "markdown",
   "id": "86e234d5",
   "metadata": {},
   "source": [
    "## Solution\n",
    "<details>\n",
    "<summary>Click here for the solution</summary>\n",
    "\n",
    "```ocaml\n",
    "type 'a binary_tree =\n",
    "    | Empty\n",
    "    | Node of 'a * 'a binary_tree * 'a binary_tree\n",
    "\n",
    "let rec is_mirror t1 t2 =\n",
    "  match t1, t2 with\n",
    "  | Empty, Empty -> true\n",
    "  | Node(_, l1, r1), Node(_, l2, r2) ->\n",
    "     is_mirror l1 r2 && is_mirror r1 l2\n",
    "  | _ -> false\n",
    "\n",
    "let is_symmetric = function\n",
    "  | Empty -> true\n",
    "  | Node(_, l, r) -> is_mirror l r\n",
    "\n",
    "```\n",
    "</details>"
   ]
  }
 ],
 "metadata": {
  "kernelspec": {
   "display_name": "OCaml 4.14.0",
   "language": "OCaml",
   "name": "ocaml-jupyter"
  },
  "language_info": {
   "name": "OCaml"
  }
 },
 "nbformat": 4,
 "nbformat_minor": 5
}
