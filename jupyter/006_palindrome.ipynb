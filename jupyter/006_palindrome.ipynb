{
 "cells": [
  {
   "cell_type": "markdown",
   "id": "6f251556",
   "metadata": {},
   "source": [
    "# Question 006: Palindrome\n",
    "\n",
    "Find out whether a list is a palindrome.\n",
    "\n",
    "## Exercise Instructions\n",
    "\n",
    "**Implement the function definition below.**\n",
    "\n",
    "Find out whether a list is a palindrome.\n",
    "\n",
    "**Hint:** A palindrome is its own reverse."
   ]
  },
  {
   "cell_type": "code",
   "execution_count": null,
   "id": "5ce73db6",
   "metadata": {},
   "outputs": [],
   "source": [
    "let is_palindrome _ = failwith \"Not yet implemented\"\n"
   ]
  },
  {
   "cell_type": "markdown",
   "id": "f7dd0250",
   "metadata": {},
   "source": [
    "## Try It Out!\n",
    "\n",
    "Test the function with different inputs and see the results. Modify the function if needed."
   ]
  },
  {
   "cell_type": "code",
   "execution_count": null,
   "id": "93678d5f",
   "metadata": {},
   "outputs": [],
   "source": [
    "is_palindrome [\"x\"; \"a\"; \"m\"; \"a\"; \"x\"];;"
   ]
  },
  {
   "cell_type": "markdown",
   "id": "3e62ae42",
   "metadata": {},
   "source": [
    "## Run Test Cases\n",
    "\n",
    "Run the cell below to run pre-defined test cases and to see if your implementation passes them."
   ]
  },
  {
   "cell_type": "code",
   "execution_count": null,
   "id": "2e079642",
   "metadata": {},
   "outputs": [],
   "source": [
    "#use \"./tests/006.ml\""
   ]
  },
  {
   "cell_type": "markdown",
   "id": "7dce9ecb",
   "metadata": {},
   "source": [
    "## Solution\n",
    "<details>\n",
    "<summary>Click here for the solution</summary>\n",
    "\n",
    "```ocaml\n",
    "let is_palindrome list =\n",
    "    list = List.rev list\n",
    "\n",
    "```\n",
    "</details>"
   ]
  }
 ],
 "metadata": {},
 "nbformat": 4,
 "nbformat_minor": 5
}
