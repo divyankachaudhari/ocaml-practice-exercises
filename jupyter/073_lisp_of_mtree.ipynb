{
 "cells": [
  {
   "cell_type": "markdown",
   "id": "81f84bf2",
   "metadata": {},
   "source": [
    "# Question 073: Lisp-Like Tree Representation\n",
    "\n",
    "Return the Lispy notation of a given multiway tree.\n",
    "\n",
    "## Exercise Instructions\n",
    "\n",
    "**Implement the function definition below.**\n",
    "\n",
    "There is a particular notation for multiway trees in Lisp. The\n",
    "picture shows how multiway tree structures are represented in Lisp.\n",
    "\n",
    "![Lisp representation of trees](/media/problems/lisp-like-tree.png)\n",
    "\n",
    "Note that in the \"lispy\" notation a node with successors (children) in\n",
    "the tree is always the first element in a list, followed by its\n",
    "children. The \"lispy\" representation of a multiway tree is a sequence of\n",
    "atoms and parentheses '(' and ')'. This is very close to the way trees\n",
    "are represented in OCaml, except that no constructor `T` is used. Write\n",
    "a function `lispy : char mult_tree -> string` that returns the\n",
    "lispy notation of the tree."
   ]
  },
  {
   "cell_type": "code",
   "execution_count": null,
   "id": "296baa71",
   "metadata": {},
   "outputs": [],
   "source": []
  },
  {
   "cell_type": "markdown",
   "id": "f4e738f9",
   "metadata": {},
   "source": [
    "## Try It Out!\n",
    "\n",
    "Test the function with different inputs and see the results. Modify the function if needed."
   ]
  },
  {
   "cell_type": "code",
   "execution_count": null,
   "id": "5f01edbc",
   "metadata": {},
   "outputs": [],
   "source": [
    "lispy (T ('a', []));;"
   ]
  },
  {
   "cell_type": "markdown",
   "id": "d0e1ccd4",
   "metadata": {},
   "source": [
    "## Run Test Cases\n",
    "\n",
    "Run the cell below to run pre-defined test cases and to see if your implementation passes them."
   ]
  },
  {
   "cell_type": "code",
   "execution_count": null,
   "id": "cf5f7abd",
   "metadata": {},
   "outputs": [],
   "source": [
    "#use \"./tests/073.ml\""
   ]
  },
  {
   "cell_type": "markdown",
   "id": "00b7c6d8",
   "metadata": {},
   "source": [
    "## Solution\n",
    "<details>\n",
    "<summary>Click here for the solution</summary>\n",
    "\n",
    "```ocaml\n",
    "\n",
    "```\n",
    "</details>"
   ]
  }
 ],
 "metadata": {},
 "nbformat": 4,
 "nbformat_minor": 5
}
