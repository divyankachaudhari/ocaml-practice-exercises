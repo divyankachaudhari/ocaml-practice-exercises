{
 "cells": [
  {
   "cell_type": "markdown",
   "id": "10cf4d59",
   "metadata": {},
   "source": [
    "# Question 067: A String Representation of Binary Trees\n",
    "\n",
    "Convert binary trees to and from string representations.\n",
    "\n",
    "## Exercise Instructions\n",
    "\n",
    "**Implement the function definition below.**\n",
    "\n",
    "![Binary Tree](/media/problems/binary-tree.gif)\n",
    "\n",
    "Somebody represents binary trees as strings of the following type (see\n",
    "example): `\"a(b(d,e),c(,f(g,)))\"`.\n",
    "\n",
    "* Write an OCaml function `string_of_tree` which generates this\n",
    " string representation,\n",
    " if the tree is given as usual (as `Empty` or `Node(x,l,r)` term).\n",
    " Then write a function `tree_of_string` which does this inverse;\n",
    " i.e. given the string\n",
    " representation, construct the tree in the usual form. Finally,\n",
    " combine the two predicates in a single function `tree_string` which\n",
    " can be used in both directions.\n",
    "* Write the same predicate `tree_string` using difference lists and a\n",
    " single predicate `tree_dlist` which does the conversion between a\n",
    " tree and a difference list in both directions.\n",
    "\n",
    "For simplicity, suppose the information in the nodes is a single letter\n",
    "and there are no spaces in the string."
   ]
  },
  {
   "cell_type": "code",
   "execution_count": null,
   "id": "a0272ffc",
   "metadata": {},
   "outputs": [],
   "source": [
    "type 'a binary_tree =\n",
    "  | Empty\n",
    "  | Node of 'a * 'a binary_tree * 'a binary_tree\n",
    "\n",
    "let string_of_tree _ = failwith \"Not yet implemented\"\n",
    "let tree_of_string _ = failwith \"Not yet implemented\"\n"
   ]
  },
  {
   "cell_type": "markdown",
   "id": "ef5dee8a",
   "metadata": {},
   "source": [
    "## Try It Out!\n",
    "\n",
    "Test the function with different inputs and see the results. Modify the function if needed."
   ]
  },
  {
   "cell_type": "code",
   "execution_count": null,
   "id": "d8c89d75",
   "metadata": {},
   "outputs": [],
   "source": [
    "let example_layout_tree ="
   ]
  },
  {
   "cell_type": "markdown",
   "id": "c840c517",
   "metadata": {},
   "source": [
    "## Run Test Cases\n",
    "\n",
    "Run the cell below to run pre-defined test cases and to see if your implementation passes them."
   ]
  },
  {
   "cell_type": "code",
   "execution_count": null,
   "id": "10c5ad81",
   "metadata": {},
   "outputs": [],
   "source": [
    "#use \"./tests/067.ml\""
   ]
  },
  {
   "cell_type": "markdown",
   "id": "dcb76fde",
   "metadata": {},
   "source": [
    "## Solution\n",
    "<details>\n",
    "<summary>Click here for the solution</summary>\n",
    "\n",
    "```ocaml\n",
    "type 'a binary_tree =\n",
    "  | Empty\n",
    "  | Node of 'a * 'a binary_tree * 'a binary_tree\n",
    "\n",
    "let rec string_of_tree = function\n",
    "  | Empty -> \"\"\n",
    "  | Node(data, l, r) ->\n",
    "     let data = String.make 1 data in\n",
    "     match l, r with\n",
    "     | Empty, Empty -> data\n",
    "     | _, _ -> data ^ \"(\" ^ (string_of_tree l) ^ \",\" ^ (string_of_tree r) ^ \")\"\n",
    "\n",
    "let tree_of_string s =\n",
    "  let rec make ofs s =\n",
    "    if ofs >= String.length s || s.[ofs] = ',' || s.[ofs] = ')' then\n",
    "      (Empty, ofs)\n",
    "    else\n",
    "      let v = s.[ofs] in\n",
    "      if ofs + 1 < String.length s && s.[ofs + 1] = '(' then\n",
    "        let l, ofs = make (ofs + 2) s in (* skip \"v(\" *)\n",
    "        let r, ofs = make (ofs + 1) s in (* skip \",\" *)\n",
    "        (Node (v, l, r), ofs + 1) (* skip \")\" *)\n",
    "      else (Node (v, Empty, Empty), ofs + 1)\n",
    "  in\n",
    "  fst (make 0 s)\n",
    "\n",
    "```\n",
    "</details>"
   ]
  }
 ],
 "metadata": {},
 "nbformat": 4,
 "nbformat_minor": 5
}
