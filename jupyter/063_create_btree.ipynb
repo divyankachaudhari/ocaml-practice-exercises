{
 "cells": [
  {
   "cell_type": "markdown",
   "id": "fd825215",
   "metadata": {},
   "source": [
    "# Question 063: Construct a Complete Binary Tree\n",
    "\n",
    "Construct a complete binary tree from a list of elements, and make sure it satisfies the property of being 'left-adjusted'.\n",
    "\n",
    "## Exercise Instructions\n",
    "\n",
    "**Implement the function definition below.**\n",
    "\n",
    "A *complete* binary tree with height H is defined as follows: The levels\n",
    "1,2,3,...,H-1 contain the maximum number of nodes (i.e 2<sup>i-1</sup>\n",
    "at the level i, note that we start counting the levels from 1 at the\n",
    "root). In level H, which may contain less than the maximum possible\n",
    "number of nodes, all the nodes are \"left-adjusted\". This means that in a\n",
    "levelorder tree traversal all internal nodes come first, the leaves come\n",
    "second, and empty successors (the nil's which are not really nodes!)\n",
    "come last.\n",
    "\n",
    "Particularly, complete binary trees are used as data structures (or\n",
    "addressing schemes) for heaps.\n",
    "\n",
    "We can assign an address number to each node in a complete binary tree\n",
    "by enumerating the nodes in levelorder, starting at the root with\n",
    "number 1. In doing so, we realize that for every node X with address A\n",
    "the following property holds: The address of X's left and right\n",
    "successors are 2\\*A and 2\\*A+1, respectively, supposed the successors do\n",
    "exist. This fact can be used to elegantly construct a complete binary\n",
    "tree structure. Write a function `is_complete_binary_tree` with the\n",
    "following specification: `is_complete_binary_tree n t` returns `true`\n",
    "iff `t` is a complete binary tree with `n` nodes."
   ]
  },
  {
   "cell_type": "code",
   "execution_count": null,
   "id": "b2dd6a3b",
   "metadata": {},
   "outputs": [],
   "source": [
    "type 'a binary_tree =\n",
    "  | Empty\n",
    "  | Node of 'a * 'a binary_tree * 'a binary_tree\n",
    "\n",
    "let complete_binary_tree _ = failwith \"Not yet implemented\"\n"
   ]
  },
  {
   "cell_type": "markdown",
   "id": "db91702f",
   "metadata": {},
   "source": [
    "## Try It Out!\n",
    "\n",
    "Test the function with different inputs and see the results. Modify the function if needed."
   ]
  },
  {
   "cell_type": "code",
   "execution_count": null,
   "id": "45556c11",
   "metadata": {},
   "outputs": [],
   "source": [
    "complete_binary_tree [1; 2; 3; 4; 5; 6];;"
   ]
  },
  {
   "cell_type": "markdown",
   "id": "74f8a26a",
   "metadata": {},
   "source": [
    "## Run Test Cases\n",
    "\n",
    "Run the cell below to run pre-defined test cases and to see if your implementation passes them."
   ]
  },
  {
   "cell_type": "code",
   "execution_count": null,
   "id": "a0fe8b46",
   "metadata": {},
   "outputs": [],
   "source": [
    "#use \"./tests/063.ml\""
   ]
  },
  {
   "cell_type": "markdown",
   "id": "f5544f35",
   "metadata": {},
   "source": [
    "## Solution\n",
    "<details>\n",
    "<summary>Click here for the solution</summary>\n",
    "\n",
    "```ocaml\n",
    "type 'a binary_tree =\n",
    "  | Empty\n",
    "  | Node of 'a * 'a binary_tree * 'a binary_tree\n",
    "\n",
    "let rec split_n lst acc n = match (n, lst) with\n",
    "    | (0, _) -> (List.rev acc, lst)\n",
    "    | (_, []) -> (List.rev acc, [])\n",
    "    | (_, h :: t) -> split_n t (h :: acc) (n-1)\n",
    "\n",
    "  let rec myflatten p c = \n",
    "    match (p, c) with\n",
    "    | (p, []) -> List.map (fun x -> Node (x, Empty, Empty)) p\n",
    "    | (x :: t, [y]) -> Node (x, y, Empty) :: myflatten t []\n",
    "    | (ph :: pt, x :: y :: t) -> (Node (ph, x, y)) :: myflatten pt t\n",
    "    | _ -> invalid_arg \"myflatten\"\n",
    "\n",
    "  let complete_binary_tree = function\n",
    "    | [] -> Empty\n",
    "    | lst ->\n",
    "       let rec aux l = function\n",
    "         | [] -> []\n",
    "         | lst -> let p, c = split_n lst [] (1 lsl l) in\n",
    "                  myflatten p (aux (l + 1) c)\n",
    "       in\n",
    "         List.hd (aux 0 lst)\n",
    "         \n",
    "```\n",
    "</details>"
   ]
  }
 ],
 "metadata": {},
 "nbformat": 4,
 "nbformat_minor": 5
}
