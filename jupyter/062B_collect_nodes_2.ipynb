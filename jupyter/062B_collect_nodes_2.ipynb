{
 "cells": [
  {
   "cell_type": "markdown",
   "id": "1e9bf1ab",
   "metadata": {},
   "source": [
    "# Question 062B: Collect the Nodes at a Given Level in a List\n",
    "\n",
    "Returns a list of all nodes at a given level within a binary tree.\n",
    "\n",
    "## Exercise Instructions\n",
    "\n",
    "**Implement the function definition below.**\n",
    "\n",
    "A node of a binary tree is at level N if the path from the root to the\n",
    "node has length N-1. The root node is at level 1. Write a function\n",
    "`at_level t l` to collect all nodes of the tree `t` at level `l` in a\n",
    "list."
   ]
  },
  {
   "cell_type": "code",
   "execution_count": null,
   "id": "ec371e6b",
   "metadata": {
    "vscode": {
     "languageId": "ocaml"
    }
   },
   "outputs": [],
   "source": [
    "type 'a binary_tree =\n",
    "  | Empty\n",
    "  | Node of 'a * 'a binary_tree * 'a binary_tree\n",
    "\n",
    "let at_level _ = failwith \"Not yet implemented\"\n"
   ]
  },
  {
   "cell_type": "markdown",
   "id": "588a38c4",
   "metadata": {},
   "source": [
    "## Try It Out!\n",
    "\n",
    "Test the function with different inputs and see the results. Modify the function if needed."
   ]
  },
  {
   "cell_type": "code",
   "execution_count": null,
   "id": "c8ab8870",
   "metadata": {
    "vscode": {
     "languageId": "ocaml"
    }
   },
   "outputs": [],
   "source": [
    "let example_tree ="
   ]
  },
  {
   "cell_type": "markdown",
   "id": "8c2be7a0",
   "metadata": {},
   "source": [
    "## Run Test Cases\n",
    "\n",
    "Run the cell below to run pre-defined test cases and to see if your implementation passes them."
   ]
  },
  {
   "cell_type": "code",
   "execution_count": null,
   "id": "1eeba98b",
   "metadata": {
    "vscode": {
     "languageId": "ocaml"
    }
   },
   "outputs": [],
   "source": [
    "#use \"topfind\";;\n",
    "#require \"alcotest\";;\n",
    "#use \"./tests/062B.ml\""
   ]
  },
  {
   "cell_type": "markdown",
   "id": "e4849989",
   "metadata": {},
   "source": [
    "## Solution\n",
    "<details>\n",
    "<summary>Click here for the solution</summary>\n",
    "\n",
    "```ocaml\n",
    "type 'a binary_tree =\n",
    "  | Empty\n",
    "  | Node of 'a * 'a binary_tree * 'a binary_tree\n",
    "\n",
    "let at_level t level =\n",
    "    let rec at_level_aux t acc counter = match t with\n",
    "      | Empty -> acc\n",
    "      | Node (x, l, r) ->\n",
    "        if counter=level then\n",
    "          x :: acc\n",
    "        else\n",
    "          at_level_aux l (at_level_aux r acc (counter + 1)) (counter + 1)\n",
    "    in\n",
    "      at_level_aux t [] 1\n",
    "      \n",
    "```\n",
    "</details>"
   ]
  }
 ],
 "metadata": {
  "kernelspec": {
   "display_name": "OCaml 4.14.0",
   "language": "OCaml",
   "name": "ocaml-jupyter"
  },
  "language_info": {
   "name": "OCaml"
  }
 },
 "nbformat": 4,
 "nbformat_minor": 5
}
