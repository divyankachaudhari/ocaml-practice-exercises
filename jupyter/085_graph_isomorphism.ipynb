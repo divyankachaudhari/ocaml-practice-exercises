{
 "cells": [
  {
   "cell_type": "markdown",
   "id": "f38a0dff",
   "metadata": {},
   "source": [
    "# Question 085: Graph Isomorphism\n",
    "\n",
    "Determine whether two graphs are isomorphic based on the given definition and hint.\n",
    "\n",
    "## Exercise Instructions\n",
    "\n",
    "**Implement the function definition below.**\n",
    "\n",
    "Two graphs G1(N1,E1) and G2(N2,E2) are isomorphic if there is a\n",
    "bijection f: N1 → N2 such that for any nodes X,Y of N1, X and Y are\n",
    "adjacent if and only if f(X) and f(Y) are adjacent.\n",
    "\n",
    "Write a function that determines whether two graphs are isomorphic.\n",
    "\n",
    "**Hint:** Use an open-ended list to represent the function f."
   ]
  },
  {
   "cell_type": "code",
   "execution_count": null,
   "id": "edd9f95d",
   "metadata": {},
   "outputs": [],
   "source": []
  },
  {
   "cell_type": "markdown",
   "id": "4b5748ff",
   "metadata": {},
   "source": [
    "## Try It Out!\n",
    "\n",
    "Test the function with different inputs and see the results. Modify the function if needed."
   ]
  },
  {
   "cell_type": "code",
   "execution_count": null,
   "id": "6e93702f",
   "metadata": {},
   "outputs": [],
   "source": [
    "let g = {nodes = [1; 2; 3; 4; 5; 6; 7; 8];"
   ]
  },
  {
   "cell_type": "markdown",
   "id": "20973797",
   "metadata": {},
   "source": [
    "## Run Test Cases\n",
    "\n",
    "Run the cell below to run pre-defined test cases and to see if your implementation passes them."
   ]
  },
  {
   "cell_type": "code",
   "execution_count": null,
   "id": "92c7e8bb",
   "metadata": {},
   "outputs": [],
   "source": [
    "#use \"./tests/085.ml\""
   ]
  },
  {
   "cell_type": "markdown",
   "id": "dfd1e79f",
   "metadata": {},
   "source": [
    "## Solution\n",
    "<details>\n",
    "<summary>Click here for the solution</summary>\n",
    "\n",
    "```ocaml\n",
    "\n",
    "```\n",
    "</details>"
   ]
  }
 ],
 "metadata": {},
 "nbformat": 4,
 "nbformat_minor": 5
}
