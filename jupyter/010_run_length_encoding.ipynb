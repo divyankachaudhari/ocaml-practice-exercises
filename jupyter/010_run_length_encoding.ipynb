{
 "cells": [
  {
   "cell_type": "markdown",
   "id": "2f460fad",
   "metadata": {},
   "source": [
    "# Question 010: Run-Length Encoding\n",
    "\n",
    "Performs run-length encoding on a list\n",
    "\n",
    "## Exercise Instructions\n",
    "\n",
    "**Implement the function definition below.**\n",
    "\n",
    "If you need so, refresh your memory about\n",
    "[run-length encoding](http://en.wikipedia.org/wiki/Run-length_encoding).\n",
    "\n",
    "Here is an example:"
   ]
  },
  {
   "cell_type": "code",
   "execution_count": null,
   "id": "7b17f195",
   "metadata": {},
   "outputs": [],
   "source": [
    "let encode _ = failwith \"Not yet implemented\"\n"
   ]
  },
  {
   "cell_type": "markdown",
   "id": "6e5362d6",
   "metadata": {},
   "source": [
    "## Try It Out!\n",
    "\n",
    "Test the function with different inputs and see the results. Modify the function if needed."
   ]
  },
  {
   "cell_type": "code",
   "execution_count": null,
   "id": "dbd431a4",
   "metadata": {},
   "outputs": [],
   "source": [
    "encode [\"a\"; \"a\"; \"a\"; \"a\"; \"b\"; \"c\"; \"c\"; \"a\"; \"a\"; \"d\"; \"e\"; \"e\"; \"e\"; \"e\"];;"
   ]
  },
  {
   "cell_type": "markdown",
   "id": "12318f01",
   "metadata": {},
   "source": [
    "## Run Test Cases\n",
    "\n",
    "Run the cell below to run pre-defined test cases and to see if your implementation passes them."
   ]
  },
  {
   "cell_type": "code",
   "execution_count": null,
   "id": "4440fa51",
   "metadata": {},
   "outputs": [],
   "source": [
    "#use \"./tests/010.ml\""
   ]
  },
  {
   "cell_type": "markdown",
   "id": "1098ebe7",
   "metadata": {},
   "source": [
    "## Solution\n",
    "<details>\n",
    "<summary>Click here for the solution</summary>\n",
    "\n",
    "```ocaml\n",
    "let pack list =\n",
    "  let rec aux current acc = function\n",
    "    | [] -> []    (* Can only be reached if original list is empty *)\n",
    "    | [x] -> (x :: current) :: acc\n",
    "    | a :: (b :: _ as t) ->\n",
    "       if a = b then aux (a :: current) acc t\n",
    "       else aux [] ((a :: current) :: acc) t in\n",
    "  List.rev (aux [] [] list)\n",
    "\n",
    "let encode list =\n",
    "  List.map (fun l -> (List.length l, List.hd l)) (pack list)\n",
    "\n",
    "```\n",
    "</details>"
   ]
  }
 ],
 "metadata": {},
 "nbformat": 4,
 "nbformat_minor": 5
}
