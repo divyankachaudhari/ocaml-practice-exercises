{
 "cells": [
  {
   "cell_type": "markdown",
   "id": "19f44c05",
   "metadata": {},
   "source": [
    "# Question 082: Cycle From a Given Node\n",
    "\n",
    "Return all closed paths (cycles) starting at a given node a in the graph g.\n",
    "\n",
    "## Exercise Instructions\n",
    "\n",
    "**Implement the function definition below.**\n",
    "\n",
    "Write a functions `cycle g a` that returns a closed path (cycle) `p`\n",
    "starting at a given node `a` in the graph `g`. The predicate should\n",
    "return the list of all cycles via backtracking."
   ]
  },
  {
   "cell_type": "code",
   "execution_count": null,
   "id": "daa57625",
   "metadata": {},
   "outputs": [],
   "source": []
  },
  {
   "cell_type": "markdown",
   "id": "48572f33",
   "metadata": {},
   "source": [
    "## Try It Out!\n",
    "\n",
    "Test the function with different inputs and see the results. Modify the function if needed."
   ]
  },
  {
   "cell_type": "code",
   "execution_count": null,
   "id": "1559d53f",
   "metadata": {},
   "outputs": [],
   "source": [
    "let example_graph ="
   ]
  },
  {
   "cell_type": "markdown",
   "id": "8392339a",
   "metadata": {},
   "source": [
    "## Run Test Cases\n",
    "\n",
    "Run the cell below to run pre-defined test cases and to see if your implementation passes them."
   ]
  },
  {
   "cell_type": "code",
   "execution_count": null,
   "id": "97afe937",
   "metadata": {},
   "outputs": [],
   "source": [
    "#use \"./tests/082.ml\""
   ]
  },
  {
   "cell_type": "markdown",
   "id": "23645769",
   "metadata": {},
   "source": [
    "## Solution\n",
    "<details>\n",
    "<summary>Click here for the solution</summary>\n",
    "\n",
    "```ocaml\n",
    "\n",
    "```\n",
    "</details>"
   ]
  }
 ],
 "metadata": {},
 "nbformat": 4,
 "nbformat_minor": 5
}
