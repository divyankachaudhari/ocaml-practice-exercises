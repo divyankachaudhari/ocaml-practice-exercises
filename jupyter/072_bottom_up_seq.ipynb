{
 "cells": [
  {
   "cell_type": "markdown",
   "id": "22a4ce81",
   "metadata": {},
   "source": [
    "# Question 072: Construct the Bottom-Up Order Sequence of the Tree Nodes\n",
    "\n",
    "Construct the bottom-up sequence of nodes in a given multiway tree.\n",
    "\n",
    "## Exercise Instructions\n",
    "\n",
    "**Implement the function definition below.**\n",
    "\n",
    "Write a function `bottom_up t` which constructs the bottom-up sequence\n",
    "of the nodes of the multiway tree `t`."
   ]
  },
  {
   "cell_type": "code",
   "execution_count": null,
   "id": "c4cc2d6d",
   "metadata": {},
   "outputs": [],
   "source": []
  },
  {
   "cell_type": "markdown",
   "id": "052b743b",
   "metadata": {},
   "source": [
    "## Try It Out!\n",
    "\n",
    "Test the function with different inputs and see the results. Modify the function if needed."
   ]
  },
  {
   "cell_type": "code",
   "execution_count": null,
   "id": "a5fd6712",
   "metadata": {},
   "outputs": [],
   "source": [
    "bottom_up (T ('a', [T ('b', [])]));;"
   ]
  },
  {
   "cell_type": "markdown",
   "id": "f1df7d28",
   "metadata": {},
   "source": [
    "## Run Test Cases\n",
    "\n",
    "Run the cell below to run pre-defined test cases and to see if your implementation passes them."
   ]
  },
  {
   "cell_type": "code",
   "execution_count": null,
   "id": "8ab03a91",
   "metadata": {},
   "outputs": [],
   "source": [
    "#use \"./tests/072.ml\""
   ]
  },
  {
   "cell_type": "markdown",
   "id": "b9b0b7f1",
   "metadata": {},
   "source": [
    "## Solution\n",
    "<details>\n",
    "<summary>Click here for the solution</summary>\n",
    "\n",
    "```ocaml\n",
    "\n",
    "```\n",
    "</details>"
   ]
  }
 ],
 "metadata": {},
 "nbformat": 4,
 "nbformat_minor": 5
}
