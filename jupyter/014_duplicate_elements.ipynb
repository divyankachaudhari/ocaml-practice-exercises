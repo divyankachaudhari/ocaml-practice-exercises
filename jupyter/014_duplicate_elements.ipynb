{
 "cells": [
  {
   "cell_type": "markdown",
   "id": "073be635",
   "metadata": {},
   "source": [
    "# Question 014: Duplicate the Elements of a List\n",
    "\n",
    "Write a function that duplicates the elements of a list.\n",
    "\n",
    "## Exercise Instructions\n",
    "\n",
    "**Implement the function definition below.**\n",
    "\n",
    "Duplicate the elements of a list."
   ]
  },
  {
   "cell_type": "code",
   "execution_count": null,
   "id": "bbd27772",
   "metadata": {
    "vscode": {
     "languageId": "ocaml"
    }
   },
   "outputs": [],
   "source": [
    "let rec duplicate = function\n",
    "  | [] -> []\n",
    "  | h :: t -> h :: h :: duplicate t"
   ]
  },
  {
   "cell_type": "markdown",
   "id": "b02af44d",
   "metadata": {},
   "source": [
    "## Try It Out!\n",
    "\n",
    "Test the function with different inputs and see the results. Modify the function if needed."
   ]
  },
  {
   "cell_type": "code",
   "execution_count": null,
   "id": "75a913f4",
   "metadata": {
    "vscode": {
     "languageId": "ocaml"
    }
   },
   "outputs": [],
   "source": [
    "duplicate [\"a\"; \"b\"; \"c\"; \"c\"; \"d\"];;"
   ]
  },
  {
   "cell_type": "markdown",
   "id": "b38737ad",
   "metadata": {},
   "source": [
    "## Run Test Cases\n",
    "\n",
    "Run the cell below to run pre-defined test cases and to see if your implementation passes them."
   ]
  },
  {
   "cell_type": "code",
   "execution_count": null,
   "id": "a92d4c33",
   "metadata": {
    "vscode": {
     "languageId": "ocaml"
    }
   },
   "outputs": [],
   "source": [
    "#use \"topfind\";;\n",
    "#require \"alcotest\";;\n",
    "#use \"./tests/014.ml\""
   ]
  },
  {
   "cell_type": "markdown",
   "id": "6a46057c",
   "metadata": {},
   "source": [
    "## Solution\n",
    "<details>\n",
    "<summary>Click here for the solution</summary>\n",
    "\n",
    "```ocaml\n",
    "let rec duplicate = function\n",
    "  | [] -> []\n",
    "  | h :: t -> h :: h :: duplicate t\n",
    "\n",
    "```\n",
    "</details>"
   ]
  }
 ],
 "metadata": {
  "kernelspec": {
   "display_name": "OCaml 4.14.0",
   "language": "OCaml",
   "name": "ocaml-jupyter"
  },
  "language_info": {
   "codemirror_mode": "text/x-ocaml",
   "file_extension": ".ml",
   "mimetype": "text/x-ocaml",
   "name": "OCaml",
   "nbconverter_exporter": null,
   "pygments_lexer": "OCaml",
   "version": "4.14.0"
  }
 },
 "nbformat": 4,
 "nbformat_minor": 5
}
