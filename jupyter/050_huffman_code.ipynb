{
 "cells": [
  {
   "cell_type": "markdown",
   "id": "260ed60e",
   "metadata": {},
   "source": [
    "# Question 050: Huffman Code\n",
    "\n",
    "Generate Huffman codes for a set of symbols with their respective frequencies using the huffman function.\n",
    "\n",
    "## Exercise Instructions\n",
    "\n",
    "**Implement the function definition below.**\n",
    "\n",
    "First of all, consult a good book on discrete mathematics or algorithms\n",
    "for a detailed description of Huffman codes (you can start with the\n",
    "[Wikipedia page](http://en.wikipedia.org/wiki/Huffman_coding))!\n",
    "\n",
    "We consider a set of symbols with their frequencies.\n",
    "For example, if the alphabet is `\"a\"`,..., `\"f\"`\n",
    "(represented as the positions 0,...5) and\n",
    "respective frequencies are 45, 13, 12, 16, 9, 5:"
   ]
  },
  {
   "cell_type": "code",
   "execution_count": null,
   "id": "ee0bb988",
   "metadata": {
    "vscode": {
     "languageId": "ocaml"
    }
   },
   "outputs": [],
   "source": [
    "let huffman _ = failwith \"Not yet implemented\""
   ]
  },
  {
   "cell_type": "markdown",
   "id": "3dee53f9",
   "metadata": {},
   "source": [
    "## Try It Out!\n",
    "\n",
    "Test the function with different inputs and see the results. Modify the function if needed."
   ]
  },
  {
   "cell_type": "code",
   "execution_count": null,
   "id": "7a3f022a",
   "metadata": {
    "vscode": {
     "languageId": "ocaml"
    }
   },
   "outputs": [],
   "source": [
    "huffman fs;;"
   ]
  },
  {
   "cell_type": "markdown",
   "id": "cbbc332c",
   "metadata": {},
   "source": [
    "## Run Test Cases\n",
    "\n",
    "Run the cell below to run pre-defined test cases and to see if your implementation passes them."
   ]
  },
  {
   "cell_type": "code",
   "execution_count": null,
   "id": "6431ed2a",
   "metadata": {
    "vscode": {
     "languageId": "ocaml"
    }
   },
   "outputs": [],
   "source": [
    "#use \"topfind\";;\n",
    "#require \"alcotest\";;\n",
    "#use \"./tests/050.ml\""
   ]
  },
  {
   "cell_type": "markdown",
   "id": "ed376d65",
   "metadata": {},
   "source": [
    "## Solution\n",
    "<details>\n",
    "<summary>Click here for the solution</summary>\n",
    "\n",
    "```ocaml\n",
    "(* Simple priority queue where the priorities are integers 0..100.\n",
    "   The node with the lowest probability comes first. *)\n",
    "   module Pq = struct\n",
    "    type 'a t = {data: 'a list array; mutable first: int}\n",
    "    \n",
    "    let make() = {data = Array.make 101 []; first = 101}\n",
    "    \n",
    "    let add q p x =\n",
    "      q.data.(p) <- x :: q.data.(p);\n",
    "      q.first <- min p q.first\n",
    "      \n",
    "    let get_min q =\n",
    "      if q.first = 101 then None else\n",
    "        match q.data.(q.first) with\n",
    "        | [] -> assert false\n",
    "        | x :: tl ->\n",
    "            let p = q.first in\n",
    "            q.data.(q.first) <- tl;\n",
    "            while q.first < 101 && q.data.(q.first) = [] do\n",
    "              q.first <- q.first + 1\n",
    "            done;\n",
    "            Some(p, x)\n",
    "  end\n",
    "  \n",
    "  type tree =\n",
    "    | Leaf of string\n",
    "    | Node of tree * tree\n",
    "  \n",
    "  let rec huffman_tree q =\n",
    "    match Pq.get_min q, Pq.get_min q with\n",
    "    | Some(p1, t1), Some(p2, t2) -> Pq.add q (p1 + p2) (Node(t1, t2)); huffman_tree q\n",
    "    | Some(_, t), None | None, Some(_, t) -> t\n",
    "    | None, None -> assert false\n",
    "  \n",
    "  (* Build the prefix-free binary code from the tree *)\n",
    "  let rec prefixes_of_tree prefix = function\n",
    "    | Leaf s -> [(s, prefix)]\n",
    "    | Node(t0, t1) ->\n",
    "        prefixes_of_tree (prefix ^ \"0\") t0 @\n",
    "        prefixes_of_tree (prefix ^ \"1\") t1\n",
    "  \n",
    "  let huffman fs =\n",
    "    if List.fold_left (fun s (_, p) -> s + p) 0 fs <> 100 then\n",
    "    \n",
    "      failwith \"huffman: sum of weights must be 100\";\n",
    "    let q = Pq.make () in\n",
    "    List.iter (fun (s, f) -> Pq.add q f (Leaf s)) fs;\n",
    "    prefixes_of_tree \"\" (huffman_tree q)\n",
    "  \n",
    "\n",
    "```\n",
    "</details>"
   ]
  }
 ],
 "metadata": {
  "kernelspec": {
   "display_name": "OCaml 4.14.0",
   "language": "OCaml",
   "name": "ocaml-jupyter"
  },
  "language_info": {
   "name": "OCaml"
  }
 },
 "nbformat": 4,
 "nbformat_minor": 5
}
