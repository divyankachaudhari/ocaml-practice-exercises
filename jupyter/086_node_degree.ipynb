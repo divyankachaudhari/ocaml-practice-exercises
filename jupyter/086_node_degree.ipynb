{
 "cells": [
  {
   "cell_type": "markdown",
   "id": "ef1c26e7",
   "metadata": {},
   "source": [
    "# Question 086: Node Degree and Graph Coloration\n",
    "\n",
    "Implement Welsh-Powell's algorithm to color the nodes of a graph so that adjacent nodes have different colors.\n",
    "\n",
    "## Exercise Instructions\n",
    "\n",
    "**Implement the function definition below.**\n",
    "\n",
    "* Write a function `degree graph node` that determines the degree of a\n",
    " given node.\n",
    "* Write a function that generates a list of all nodes of a graph\n",
    " sorted according to decreasing degree.\n",
    "* Use [Welsh-Powell&#39;s\n",
    " algorithm](http://en.wikipedia.org/wiki/Graph_coloring#Greedy_coloring)\n",
    " to paint the nodes of a graph in such a way that adjacent nodes have\n",
    " different colors."
   ]
  },
  {
   "cell_type": "code",
   "execution_count": null,
   "id": "e415b2c4",
   "metadata": {},
   "outputs": [],
   "source": []
  },
  {
   "cell_type": "markdown",
   "id": "4cdcd9e8",
   "metadata": {},
   "source": [
    "## Try It Out!\n",
    "\n",
    "Test the function with different inputs and see the results. Modify the function if needed."
   ]
  },
  {
   "cell_type": "code",
   "execution_count": null,
   "id": "0883b8b4",
   "metadata": {},
   "outputs": [],
   "source": [
    "(* example pending *);;"
   ]
  },
  {
   "cell_type": "markdown",
   "id": "f2159902",
   "metadata": {},
   "source": [
    "## Run Test Cases\n",
    "\n",
    "Run the cell below to run pre-defined test cases and to see if your implementation passes them."
   ]
  },
  {
   "cell_type": "code",
   "execution_count": null,
   "id": "98bfd6c2",
   "metadata": {},
   "outputs": [],
   "source": [
    "#use \"./tests/086.ml\""
   ]
  },
  {
   "cell_type": "markdown",
   "id": "1b8d7b05",
   "metadata": {},
   "source": [
    "## Solution\n",
    "<details>\n",
    "<summary>Click here for the solution</summary>\n",
    "\n",
    "```ocaml\n",
    "\n",
    "```\n",
    "</details>"
   ]
  }
 ],
 "metadata": {},
 "nbformat": 4,
 "nbformat_minor": 5
}
