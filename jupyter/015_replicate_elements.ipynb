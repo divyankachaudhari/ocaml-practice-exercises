{
 "cells": [
  {
   "cell_type": "markdown",
   "id": "1b508550",
   "metadata": {},
   "source": [
    "# Question 015: Replicate the Elements of a List a Given Number of Times\n",
    "\n",
    "Write a function that replicates the elements of a list a given number of times.\n",
    "\n",
    "## Exercise Instructions\n",
    "\n",
    "**Implement the function definition below.**\n",
    "\n",
    "Replicate the elements of a list a given number of times."
   ]
  },
  {
   "cell_type": "code",
   "execution_count": null,
   "id": "e0dfe726",
   "metadata": {},
   "outputs": [],
   "source": [
    "let replicate _ _ = failwith \"Not yet implemented\"\n"
   ]
  },
  {
   "cell_type": "markdown",
   "id": "7748faab",
   "metadata": {},
   "source": [
    "## Try It Out!\n",
    "\n",
    "Test the function with different inputs and see the results. Modify the function if needed."
   ]
  },
  {
   "cell_type": "code",
   "execution_count": null,
   "id": "75a9d11c",
   "metadata": {},
   "outputs": [],
   "source": [
    "replicate [\"a\"; \"b\"; \"c\"] 3;;"
   ]
  },
  {
   "cell_type": "markdown",
   "id": "d9d956f8",
   "metadata": {},
   "source": [
    "## Run Test Cases\n",
    "\n",
    "Run the cell below to run pre-defined test cases and to see if your implementation passes them."
   ]
  },
  {
   "cell_type": "code",
   "execution_count": null,
   "id": "61430dd3",
   "metadata": {},
   "outputs": [],
   "source": [
    "#use \"./tests/015.ml\""
   ]
  },
  {
   "cell_type": "markdown",
   "id": "f347a445",
   "metadata": {},
   "source": [
    "## Solution\n",
    "<details>\n",
    "<summary>Click here for the solution</summary>\n",
    "\n",
    "```ocaml\n",
    "let replicate list n =\n",
    "  let rec prepend n acc x =\n",
    "    if n = 0 then acc else prepend (n-1) (x :: acc) x in\n",
    "  let rec aux acc = function\n",
    "    | [] -> acc\n",
    "    | h :: t -> aux (prepend n acc h) t in\n",
    "  (* This could also be written as:\n",
    "      List.fold_left (prepend n) [] (List.rev list) *)\n",
    "  aux [] (List.rev list);;\n",
    "\n",
    "```\n",
    "</details>"
   ]
  }
 ],
 "metadata": {},
 "nbformat": 4,
 "nbformat_minor": 5
}
