{
 "cells": [
  {
   "cell_type": "markdown",
   "id": "3734945b",
   "metadata": {},
   "source": [
    "# Question 009: Pack Consecutive Duplicates\n",
    "\n",
    "Pack consecutive duplicates of list elements into sublists.\n",
    "\n",
    "## Exercise Instructions\n",
    "\n",
    "**Implement the function definition below.**\n",
    "\n",
    "Pack consecutive duplicates of list elements into sublists."
   ]
  },
  {
   "cell_type": "code",
   "execution_count": null,
   "id": "b8ba6fb7",
   "metadata": {
    "vscode": {
     "languageId": "ocaml"
    }
   },
   "outputs": [],
   "source": [
    "let pack _ = failwith \"Not yet implemented\""
   ]
  },
  {
   "cell_type": "markdown",
   "id": "80f4ee76",
   "metadata": {},
   "source": [
    "## Try It Out!\n",
    "\n",
    "Test the function with different inputs and see the results. Modify the function if needed."
   ]
  },
  {
   "cell_type": "code",
   "execution_count": null,
   "id": "eb72076c",
   "metadata": {
    "vscode": {
     "languageId": "ocaml"
    }
   },
   "outputs": [],
   "source": [
    "pack [\"a\"; \"a\"; \"a\"; \"a\"; \"b\"; \"c\"; \"c\"; \"a\"; \"a\"; \"d\"; \"d\"; \"e\"; \"e\"; \"e\"; \"e\"];;"
   ]
  },
  {
   "cell_type": "markdown",
   "id": "7b090855",
   "metadata": {},
   "source": [
    "## Run Test Cases\n",
    "\n",
    "Run the cell below to run pre-defined test cases and to see if your implementation passes them."
   ]
  },
  {
   "cell_type": "code",
   "execution_count": null,
   "id": "1179ae0d",
   "metadata": {
    "vscode": {
     "languageId": "ocaml"
    }
   },
   "outputs": [],
   "source": [
    "#use \"topfind\";;\n",
    "#require \"alcotest\";;\n",
    "#use \"./tests/009.ml\""
   ]
  },
  {
   "cell_type": "markdown",
   "id": "1609b997",
   "metadata": {},
   "source": [
    "## Solution\n",
    "<details>\n",
    "<summary>Click here for the solution</summary>\n",
    "\n",
    "```ocaml\n",
    "let pack list =\n",
    "  let rec aux current acc = function\n",
    "    | [] -> []    (* Can only be reached if original list is empty *)\n",
    "    | [x] -> (x :: current) :: acc\n",
    "    | a :: (b :: _ as t) ->\n",
    "       if a = b then aux (a :: current) acc t\n",
    "       else aux [] ((a :: current) :: acc) t  in\n",
    "  List.rev (aux [] [] list);;\n",
    "\n",
    "```\n",
    "</details>"
   ]
  }
 ],
 "metadata": {
  "kernelspec": {
   "display_name": "OCaml 4.14.0",
   "language": "OCaml",
   "name": "ocaml-jupyter"
  },
  "language_info": {
   "name": "OCaml"
  }
 },
 "nbformat": 4,
 "nbformat_minor": 5
}
