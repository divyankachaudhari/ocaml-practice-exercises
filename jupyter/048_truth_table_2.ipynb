{
 "cells": [
  {
   "cell_type": "markdown",
   "id": "06e5cea4",
   "metadata": {},
   "source": [
    "# Question 048: Truth Tables for Logical Expressions\n",
    "\n",
    "Generate the truth table for a logical expression with any number of variables using the table function\n",
    "\n",
    "## Exercise Instructions\n",
    "\n",
    "**Implement the function definition below.**\n",
    "\n",
    "Generalize the previous problem in such a way that the logical\n",
    "expression may contain any number of logical variables. Define `table`\n",
    "in a way that `table variables expr` returns the truth table for the\n",
    "expression `expr`, which contains the logical variables enumerated in\n",
    "`variables`."
   ]
  },
  {
   "cell_type": "code",
   "execution_count": null,
   "id": "4c23297e",
   "metadata": {
    "vscode": {
     "languageId": "ocaml"
    }
   },
   "outputs": [],
   "source": [
    "type bool_expr =\n",
    "  | Var of string\n",
    "  | Not of bool_expr\n",
    "  | And of bool_expr * bool_expr\n",
    "  | Or of bool_expr * bool_expr\n",
    "let table _ = failwith \"Not yet implemented\""
   ]
  },
  {
   "cell_type": "markdown",
   "id": "4ac945ff",
   "metadata": {},
   "source": [
    "## Try It Out!\n",
    "\n",
    "Test the function with different inputs and see the results. Modify the function if needed."
   ]
  },
  {
   "cell_type": "code",
   "execution_count": null,
   "id": "05bd1bfb",
   "metadata": {
    "vscode": {
     "languageId": "ocaml"
    }
   },
   "outputs": [],
   "source": [
    "table [\"a\"; \"b\"] (And (Var \"a\", Or (Var \"a\", Var \"b\")));;"
   ]
  },
  {
   "cell_type": "markdown",
   "id": "62456929",
   "metadata": {},
   "source": [
    "## Run Test Cases\n",
    "\n",
    "Run the cell below to run pre-defined test cases and to see if your implementation passes them."
   ]
  },
  {
   "cell_type": "code",
   "execution_count": null,
   "id": "cb7d1b3b",
   "metadata": {
    "vscode": {
     "languageId": "ocaml"
    }
   },
   "outputs": [],
   "source": [
    "#use \"topfind\";;\n",
    "#require \"alcotest\";;\n",
    "#use \"./tests/048.ml\""
   ]
  },
  {
   "cell_type": "markdown",
   "id": "33c707be",
   "metadata": {},
   "source": [
    "## Solution\n",
    "<details>\n",
    "<summary>Click here for the solution</summary>\n",
    "\n",
    "```ocaml\n",
    "type bool_expr =\n",
    "  | Var of string\n",
    "  | Not of bool_expr\n",
    "  | And of bool_expr * bool_expr\n",
    "  | Or of bool_expr * bool_expr\n",
    "\n",
    "let rec eval val_vars = function\n",
    "  | Var x -> List.assoc x val_vars\n",
    "  | Not e -> not (eval val_vars e)\n",
    "  | And(e1, e2) -> eval val_vars e1 && eval val_vars e2\n",
    "  | Or(e1, e2) -> eval val_vars e1 || eval val_vars e2\n",
    "\n",
    "let rec table_make val_vars vars expr =\n",
    "  match vars with\n",
    "  | [] -> [(List.rev val_vars, eval val_vars expr)]\n",
    "  | v :: tl ->\n",
    "       table_make ((v, true) :: val_vars) tl expr\n",
    "     @ table_make ((v, false) :: val_vars) tl expr\n",
    "\n",
    "let table vars expr = table_make [] vars expr\n",
    "\n",
    "```\n",
    "</details>"
   ]
  }
 ],
 "metadata": {
  "kernelspec": {
   "display_name": "OCaml 4.14.0",
   "language": "OCaml",
   "name": "ocaml-jupyter"
  },
  "language_info": {
   "name": "OCaml"
  }
 },
 "nbformat": 4,
 "nbformat_minor": 5
}
