{
 "cells": [
  {
   "cell_type": "markdown",
   "id": "4764f92e",
   "metadata": {},
   "source": [
    "# Question 035: Determine the Prime Factors of a Given Positive Integer\n",
    "\n",
    "Find the prime factors of a given positive integer 'n'.\n",
    "\n",
    "## Exercise Instructions\n",
    "\n",
    "**Implement the function definition below.**\n",
    "\n",
    "Construct a flat list containing the prime factors in ascending order."
   ]
  },
  {
   "cell_type": "code",
   "execution_count": null,
   "id": "7fee47cd",
   "metadata": {
    "vscode": {
     "languageId": "ocaml"
    }
   },
   "outputs": [],
   "source": [
    "let factors _ = failwith \"Not yet implemented\"\n"
   ]
  },
  {
   "cell_type": "markdown",
   "id": "0d050a5c",
   "metadata": {},
   "source": [
    "## Try It Out!\n",
    "\n",
    "Test the function with different inputs and see the results. Modify the function if needed."
   ]
  },
  {
   "cell_type": "code",
   "execution_count": null,
   "id": "fe4b2918",
   "metadata": {
    "vscode": {
     "languageId": "ocaml"
    }
   },
   "outputs": [],
   "source": [
    "factors 315;;"
   ]
  },
  {
   "cell_type": "markdown",
   "id": "cc431988",
   "metadata": {},
   "source": [
    "## Run Test Cases\n",
    "\n",
    "Run the cell below to run pre-defined test cases and to see if your implementation passes them."
   ]
  },
  {
   "cell_type": "code",
   "execution_count": null,
   "id": "2ba3d25d",
   "metadata": {
    "vscode": {
     "languageId": "ocaml"
    }
   },
   "outputs": [],
   "source": [
    "#use \"topfind\";;\n",
    "#require \"alcotest\";;\n",
    "#use \"./tests/035.ml\""
   ]
  },
  {
   "cell_type": "markdown",
   "id": "bc3d92e0",
   "metadata": {},
   "source": [
    "## Solution\n",
    "<details>\n",
    "<summary>Click here for the solution</summary>\n",
    "\n",
    "```ocaml\n",
    "(* Recall that d divides n iff [n mod d = 0] *)\n",
    "let factors n =\n",
    "  let rec aux d n =\n",
    "    if n = 1 then [] else\n",
    "      if n mod d = 0 then d :: aux d (n / d) else aux (d + 1) n\n",
    "  in\n",
    "    aux 2 n\n",
    "\n",
    "```\n",
    "</details>"
   ]
  }
 ],
 "metadata": {
  "kernelspec": {
   "display_name": "OCaml 4.14.0",
   "language": "OCaml",
   "name": "ocaml-jupyter"
  },
  "language_info": {
   "name": "OCaml"
  }
 },
 "nbformat": 4,
 "nbformat_minor": 5
}
