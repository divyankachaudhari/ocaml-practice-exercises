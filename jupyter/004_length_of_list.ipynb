{
 "cells": [
  {
   "cell_type": "markdown",
   "id": "47e4a7dc",
   "metadata": {},
   "source": [
    "# Question 004: Length of a List\n",
    "\n",
    "Find the number of elements of a list.\n",
    "\n",
    "## Exercise Instructions\n",
    "\n",
    "**Implement the function definition below.**\n",
    "\n",
    "Find the number of elements of a list.\n",
    "\n",
    "OCaml standard library has `List.length` but we ask that you reimplement\n",
    "it. Bonus for a [tail recursive](http://en.wikipedia.org/wiki/Tail_call)\n",
    "solution."
   ]
  },
  {
   "cell_type": "code",
   "execution_count": null,
   "id": "91f11613",
   "metadata": {
    "vscode": {
     "languageId": "ocaml"
    }
   },
   "outputs": [],
   "source": [
    "let length _ = failwith \"Not yet implemented\"\n"
   ]
  },
  {
   "cell_type": "markdown",
   "id": "fac0b462",
   "metadata": {},
   "source": [
    "## Try It Out!\n",
    "\n",
    "Test the function with different inputs and see the results. Modify the function if needed."
   ]
  },
  {
   "cell_type": "code",
   "execution_count": null,
   "id": "bf72ff3e",
   "metadata": {
    "vscode": {
     "languageId": "ocaml"
    }
   },
   "outputs": [],
   "source": [
    "length [\"a\"; \"b\"; \"c\"];;"
   ]
  },
  {
   "cell_type": "markdown",
   "id": "3e40928b",
   "metadata": {},
   "source": [
    "## Run Test Cases\n",
    "\n",
    "Run the cell below to run pre-defined test cases and to see if your implementation passes them."
   ]
  },
  {
   "cell_type": "code",
   "execution_count": null,
   "id": "808e5f75",
   "metadata": {
    "vscode": {
     "languageId": "ocaml"
    }
   },
   "outputs": [],
   "source": [
    "#use \"topfind\";;\n",
    "#require \"alcotest\";;\n",
    "#use \"./tests/004.ml\""
   ]
  },
  {
   "cell_type": "markdown",
   "id": "dcf49ca6",
   "metadata": {},
   "source": [
    "## Solution\n",
    "<details>\n",
    "<summary>Click here for the solution</summary>\n",
    "\n",
    "```ocaml\n",
    "let length list =\n",
    "  let rec aux n = function\n",
    "    | [] -> n\n",
    "    | _ :: t -> aux (n + 1) t\n",
    "  in\n",
    "  aux 0 list    \n",
    "\n",
    "```\n",
    "</details>"
   ]
  }
 ],
 "metadata": {
  "kernelspec": {
   "display_name": "OCaml 4.14.0",
   "language": "OCaml",
   "name": "ocaml-jupyter"
  },
  "language_info": {
   "name": "OCaml"
  }
 },
 "nbformat": 4,
 "nbformat_minor": 5
}
