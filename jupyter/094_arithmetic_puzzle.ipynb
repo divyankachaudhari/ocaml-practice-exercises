{
 "cells": [
  {
   "cell_type": "markdown",
   "id": "45efa0e5",
   "metadata": {},
   "source": [
    "# Question 094: An Arithmetic Puzzle\n",
    "\n",
    "Given a list of integer numbers, find a correct way of inserting arithmetic signs to form a correct equation.\n",
    "\n",
    "## Exercise Instructions\n",
    "\n",
    "**Implement the function definition below.**\n",
    "\n",
    "Given a list of integer numbers, find a correct way of inserting\n",
    "arithmetic signs (operators) such that the result is a correct equation.\n",
    "Example: With the list of numbers `[2; 3; 5; 7; 11]` we can form the\n",
    "equations 2 - 3 + 5 + 7 = 11 or 2 = (3 * 5 + 7) / 11 (and ten others!)."
   ]
  },
  {
   "cell_type": "code",
   "execution_count": null,
   "id": "45bccd4b",
   "metadata": {},
   "outputs": [],
   "source": []
  },
  {
   "cell_type": "markdown",
   "id": "4b8cb823",
   "metadata": {},
   "source": [
    "## Try It Out!\n",
    "\n",
    "Test the function with different inputs and see the results. Modify the function if needed."
   ]
  },
  {
   "cell_type": "code",
   "execution_count": null,
   "id": "fad4325b",
   "metadata": {},
   "outputs": [],
   "source": [
    "(* example pending *);;"
   ]
  },
  {
   "cell_type": "markdown",
   "id": "a8b218e8",
   "metadata": {},
   "source": [
    "## Run Test Cases\n",
    "\n",
    "Run the cell below to run pre-defined test cases and to see if your implementation passes them."
   ]
  },
  {
   "cell_type": "code",
   "execution_count": null,
   "id": "8540018d",
   "metadata": {},
   "outputs": [],
   "source": [
    "#use \"./tests/094.ml\""
   ]
  },
  {
   "cell_type": "markdown",
   "id": "113651d6",
   "metadata": {},
   "source": [
    "## Solution\n",
    "<details>\n",
    "<summary>Click here for the solution</summary>\n",
    "\n",
    "```ocaml\n",
    "\n",
    "```\n",
    "</details>"
   ]
  }
 ],
 "metadata": {},
 "nbformat": 4,
 "nbformat_minor": 5
}
