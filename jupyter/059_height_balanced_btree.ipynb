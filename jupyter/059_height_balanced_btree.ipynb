{
 "cells": [
  {
   "cell_type": "markdown",
   "id": "e3e60451",
   "metadata": {},
   "source": [
    "# Question 059: Construct Height-Balanced Binary Trees\n",
    "\n",
    "Generate height-balanced binary trees with 'x' as node information.\n",
    "\n",
    "## Exercise Instructions\n",
    "\n",
    "**Implement the function definition below.**\n",
    "\n",
    "In a height-balanced binary tree, the following property holds for every\n",
    "node: The height of its left subtree and the height of its right subtree\n",
    "are almost equal, which means their difference is not greater than one.\n",
    "\n",
    "Write a function `hbal_tree` to construct height-balanced binary trees\n",
    "for a given height. The function should generate all solutions via\n",
    "backtracking. Put the letter `'x'` as information into all nodes of the\n",
    "tree."
   ]
  },
  {
   "cell_type": "code",
   "execution_count": null,
   "id": "bbc8f2a4",
   "metadata": {},
   "outputs": [],
   "source": [
    "type 'a binary_tree =\n",
    "  | Empty\n",
    "  | Node of 'a * 'a binary_tree * 'a binary_tree\n",
    "  \n",
    "let hbal_tree _ = failwith \"Not yet implemented\"\n",
    "\n",
    "let tree_height _ = failwith \"Not yet implemented\"\n",
    "\n",
    "let add_trees_with _ = failwith \"Not yet implemented\"\n",
    "\n"
   ]
  },
  {
   "cell_type": "markdown",
   "id": "10298d11",
   "metadata": {},
   "source": [
    "## Try It Out!\n",
    "\n",
    "Test the function with different inputs and see the results. Modify the function if needed."
   ]
  },
  {
   "cell_type": "code",
   "execution_count": null,
   "id": "e53693aa",
   "metadata": {},
   "outputs": [],
   "source": [
    "let t = hbal_tree 3;;"
   ]
  },
  {
   "cell_type": "markdown",
   "id": "80abcb2b",
   "metadata": {},
   "source": [
    "## Run Test Cases\n",
    "\n",
    "Run the cell below to run pre-defined test cases and to see if your implementation passes them."
   ]
  },
  {
   "cell_type": "code",
   "execution_count": null,
   "id": "caa1cb77",
   "metadata": {},
   "outputs": [],
   "source": [
    "#use \"./tests/059.ml\""
   ]
  },
  {
   "cell_type": "markdown",
   "id": "0732d98d",
   "metadata": {},
   "source": [
    "## Solution\n",
    "<details>\n",
    "<summary>Click here for the solution</summary>\n",
    "\n",
    "```ocaml\n",
    "type 'a binary_tree =\n",
    "  | Empty\n",
    "  | Node of 'a * 'a binary_tree * 'a binary_tree\n",
    "\n",
    "let rec tree_height = function\n",
    "| Empty -> 0\n",
    "| Node (_, left, right) -> 1 + max (tree_height left) (tree_height right)\n",
    "    \n",
    "let add_trees_with left right all =\n",
    "  let add_right_tree all l =\n",
    "    List.fold_left (fun a r -> Node ('x', l, r) :: a) all right in\n",
    "  List.fold_left add_right_tree all left\n",
    "\n",
    "let rec hbal_tree n =\n",
    "  if n = 0 then [Empty]\n",
    "  else if n = 1 then [Node ('x', Empty, Empty)]\n",
    "  else\n",
    "    let t1 = hbal_tree (n - 1) in\n",
    "    let t2 = hbal_tree (n - 2) in\n",
    "    let trees1 = add_trees_with t1 t1 [] in\n",
    "    let trees2 = add_trees_with t1 t2 (add_trees_with t2 t1 []) in\n",
    "    List.rev_append trees1 trees2\n",
    "\n",
    "\n",
    "```\n",
    "</details>"
   ]
  }
 ],
 "metadata": {},
 "nbformat": 4,
 "nbformat_minor": 5
}
