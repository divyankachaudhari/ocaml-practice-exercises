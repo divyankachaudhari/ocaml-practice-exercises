{
 "cells": [
  {
   "cell_type": "markdown",
   "id": "be325084",
   "metadata": {},
   "source": [
    "# Question 021: Insert an Element at a Given Position Into a List\n",
    "\n",
    "Insert an element at a specified position (0-based index) within a list.\n",
    "\n",
    "## Exercise Instructions\n",
    "\n",
    "**Implement the function definition below.**\n",
    "\n",
    "Start counting list elements with 0.  If the position is larger or\n",
    "equal to the length of the list, insert the element at the end.  (The\n",
    "behavior is unspecified if the position is negative.)"
   ]
  },
  {
   "cell_type": "code",
   "execution_count": null,
   "id": "477f8ea4",
   "metadata": {},
   "outputs": [],
   "source": [
    "let insert_at _ _ _ = failwith \"Not yet implemented\"\n"
   ]
  },
  {
   "cell_type": "markdown",
   "id": "fbea9fe7",
   "metadata": {},
   "source": [
    "## Try It Out!\n",
    "\n",
    "Test the function with different inputs and see the results. Modify the function if needed."
   ]
  },
  {
   "cell_type": "code",
   "execution_count": null,
   "id": "77a576f2",
   "metadata": {},
   "outputs": [],
   "source": [
    "insert_at \"alfa\" 1 [\"a\"; \"b\"; \"c\"; \"d\"];;"
   ]
  },
  {
   "cell_type": "markdown",
   "id": "5cfcb28f",
   "metadata": {},
   "source": [
    "## Run Test Cases\n",
    "\n",
    "Run the cell below to run pre-defined test cases and to see if your implementation passes them."
   ]
  },
  {
   "cell_type": "code",
   "execution_count": null,
   "id": "753e9725",
   "metadata": {},
   "outputs": [],
   "source": [
    "#use \"./tests/021.ml\""
   ]
  },
  {
   "cell_type": "markdown",
   "id": "af79a62b",
   "metadata": {},
   "source": [
    "## Solution\n",
    "<details>\n",
    "<summary>Click here for the solution</summary>\n",
    "\n",
    "```ocaml\n",
    "let rec insert_at x n = function\n",
    "  | [] -> [x]  (* Insert at the end if the list is empty or n is beyond the list length *)\n",
    "  | h :: t as l -> if n = 0 then x :: l else h :: insert_at x (n - 1) t\n",
    "\n",
    "```\n",
    "</details>"
   ]
  }
 ],
 "metadata": {},
 "nbformat": 4,
 "nbformat_minor": 5
}
