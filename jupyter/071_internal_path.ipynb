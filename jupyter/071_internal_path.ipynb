{
 "cells": [
  {
   "cell_type": "markdown",
   "id": "21115710",
   "metadata": {},
   "source": [
    "# Question 071: Determine the Internal Path Length of a Tree\n",
    "\n",
    "Calculate and return the internal path length of a multiway tree\n",
    "\n",
    "## Exercise Instructions\n",
    "\n",
    "**Implement the function definition below.**\n",
    "\n",
    "We define the internal path length of a multiway tree as the total sum\n",
    "of the path lengths from the root to all nodes of the tree. By this\n",
    "definition, the tree `t` in the figure of the previous problem has an\n",
    "internal path length of 9. Write a function `ipl tree` that returns the\n",
    "internal path length of `tree`."
   ]
  },
  {
   "cell_type": "code",
   "execution_count": null,
   "id": "51ad6d49",
   "metadata": {},
   "outputs": [],
   "source": []
  },
  {
   "cell_type": "markdown",
   "id": "6c14fd4f",
   "metadata": {},
   "source": [
    "## Try It Out!\n",
    "\n",
    "Test the function with different inputs and see the results. Modify the function if needed."
   ]
  },
  {
   "cell_type": "code",
   "execution_count": null,
   "id": "9558cffd",
   "metadata": {},
   "outputs": [],
   "source": [
    "ipl t;;"
   ]
  },
  {
   "cell_type": "markdown",
   "id": "dee5db0c",
   "metadata": {},
   "source": [
    "## Run Test Cases\n",
    "\n",
    "Run the cell below to run pre-defined test cases and to see if your implementation passes them."
   ]
  },
  {
   "cell_type": "code",
   "execution_count": null,
   "id": "05f998a5",
   "metadata": {},
   "outputs": [],
   "source": [
    "#use \"./tests/071.ml\""
   ]
  },
  {
   "cell_type": "markdown",
   "id": "af0c8299",
   "metadata": {},
   "source": [
    "## Solution\n",
    "<details>\n",
    "<summary>Click here for the solution</summary>\n",
    "\n",
    "```ocaml\n",
    "\n",
    "```\n",
    "</details>"
   ]
  }
 ],
 "metadata": {},
 "nbformat": 4,
 "nbformat_minor": 5
}
