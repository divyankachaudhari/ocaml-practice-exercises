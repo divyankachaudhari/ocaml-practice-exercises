{
 "cells": [
  {
   "cell_type": "markdown",
   "id": "5a9cfb93",
   "metadata": {},
   "source": [
    "# Question 003: N'th Element of a List\n",
    "\n",
    "Find the N'th element of a list.\n",
    "\n",
    "## Exercise Instructions\n",
    "\n",
    "**Implement the function definition below.**\n",
    "\n",
    "Find the N'th element of a list.\n",
    "\n",
    "**Remark:** OCaml has `List.nth` which numbers elements from `0` and\n",
    "raises an exception if the index is out of bounds."
   ]
  },
  {
   "cell_type": "code",
   "execution_count": null,
   "id": "afca674b",
   "metadata": {},
   "outputs": [],
   "source": [
    "let nth _ = failwith \"Not yet implemented\"\n"
   ]
  },
  {
   "cell_type": "markdown",
   "id": "7aa820ba",
   "metadata": {},
   "source": [
    "## Try It Out!\n",
    "\n",
    "Test the function with different inputs and see the results. Modify the function if needed."
   ]
  },
  {
   "cell_type": "code",
   "execution_count": null,
   "id": "5c6def88",
   "metadata": {},
   "outputs": [],
   "source": [
    "List.nth [\"a\"; \"b\"; \"c\"; \"d\"; \"e\"] 2;;"
   ]
  },
  {
   "cell_type": "markdown",
   "id": "e613772e",
   "metadata": {},
   "source": [
    "## Run Test Cases\n",
    "\n",
    "Run the cell below to run pre-defined test cases and to see if your implementation passes them."
   ]
  },
  {
   "cell_type": "code",
   "execution_count": null,
   "id": "dc4ed73d",
   "metadata": {},
   "outputs": [],
   "source": [
    "#use \"./tests/003.ml\""
   ]
  },
  {
   "cell_type": "markdown",
   "id": "1969c30b",
   "metadata": {},
   "source": [
    "## Solution\n",
    "<details>\n",
    "<summary>Click here for the solution</summary>\n",
    "\n",
    "```ocaml\n",
    "let rec at k = function\n",
    "  | [] -> None\n",
    "  | h :: t -> if k = 0 then Some h else at (k - 1) t\n",
    "\n",
    "```\n",
    "</details>"
   ]
  }
 ],
 "metadata": {},
 "nbformat": 4,
 "nbformat_minor": 5
}
