{
 "cells": [
  {
   "cell_type": "markdown",
   "id": "26409153",
   "metadata": {},
   "source": [
    "# Question 039: A List of Prime Numbers\n",
    "\n",
    "Generate a list of all prime numbers within a specified range of integers.\n",
    "\n",
    "## Exercise Instructions\n",
    "\n",
    "**Implement the function definition below.**\n",
    "\n",
    "Given a range of integers by its lower and upper limit, construct a list\n",
    "of all prime numbers in that range."
   ]
  },
  {
   "cell_type": "code",
   "execution_count": null,
   "id": "c9ef1725",
   "metadata": {},
   "outputs": [],
   "source": [
    "let all_primes _ = failwith \"Not yet implemented\"\n"
   ]
  },
  {
   "cell_type": "markdown",
   "id": "718ada42",
   "metadata": {},
   "source": [
    "## Try It Out!\n",
    "\n",
    "Test the function with different inputs and see the results. Modify the function if needed."
   ]
  },
  {
   "cell_type": "code",
   "execution_count": null,
   "id": "c901fe68",
   "metadata": {},
   "outputs": [],
   "source": [
    "List.length (all_primes 2 7920);;"
   ]
  },
  {
   "cell_type": "markdown",
   "id": "23502452",
   "metadata": {},
   "source": [
    "## Run Test Cases\n",
    "\n",
    "Run the cell below to run pre-defined test cases and to see if your implementation passes them."
   ]
  },
  {
   "cell_type": "code",
   "execution_count": null,
   "id": "d41f52ce",
   "metadata": {},
   "outputs": [],
   "source": [
    "#use \"./tests/039.ml\""
   ]
  },
  {
   "cell_type": "markdown",
   "id": "893670a1",
   "metadata": {},
   "source": [
    "## Solution\n",
    "<details>\n",
    "<summary>Click here for the solution</summary>\n",
    "\n",
    "```ocaml\n",
    "let is_prime n =\n",
    "  let n = max n (-n) in\n",
    "  let rec is_not_divisor d =\n",
    "    d * d > n || (n mod d <> 0 && is_not_divisor (d + 1))\n",
    "  in\n",
    "    n > 1 && is_not_divisor 2\n",
    "\n",
    "let rec all_primes a b =\n",
    "  if a > b then [] else\n",
    "    let rest = all_primes (a + 1) b in\n",
    "    if is_prime a then a :: rest else rest\n",
    "\n",
    "```\n",
    "</details>"
   ]
  }
 ],
 "metadata": {},
 "nbformat": 4,
 "nbformat_minor": 5
}
