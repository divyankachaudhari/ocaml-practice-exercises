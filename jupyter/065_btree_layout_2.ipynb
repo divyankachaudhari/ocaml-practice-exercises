{
 "cells": [
  {
   "cell_type": "markdown",
   "id": "f28da2d1",
   "metadata": {},
   "source": [
    "# Question 065: Layout a Binary Tree (2)\n",
    "\n",
    "Arrange nodes in a binary tree according to specific rules, assigning positions to each node.\n",
    "\n",
    "## Exercise Instructions\n",
    "\n",
    "**Implement the function definition below.**\n",
    "\n",
    "![Binary Tree Grid](/media/problems/tree-layout2.gif)\n",
    "\n",
    "An alternative layout method is depicted in this illustration. Find\n",
    "out the rules and write the corresponding OCaml function.\n",
    "\n",
    "**Hint:** On a given level, the horizontal distance between\n",
    "neighbouring nodes is constant.\n",
    "\n",
    "The tree shown is"
   ]
  },
  {
   "cell_type": "code",
   "execution_count": null,
   "id": "3db44916",
   "metadata": {
    "vscode": {
     "languageId": "ocaml"
    }
   },
   "outputs": [],
   "source": [
    "type 'a binary_tree =\n",
    "  | Empty\n",
    "  | Node of 'a * 'a binary_tree * 'a binary_tree\n",
    "\n",
    "let layout_binary_tree_2 _ = failwith \"Not yet implemented\"\n"
   ]
  },
  {
   "cell_type": "markdown",
   "id": "eab904b0",
   "metadata": {},
   "source": [
    "## Try It Out!\n",
    "\n",
    "Test the function with different inputs and see the results. Modify the function if needed."
   ]
  },
  {
   "cell_type": "code",
   "execution_count": null,
   "id": "7ed5b628",
   "metadata": {
    "vscode": {
     "languageId": "ocaml"
    }
   },
   "outputs": [],
   "source": [
    "layout_binary_tree_2 example_layout_tree ;;"
   ]
  },
  {
   "cell_type": "markdown",
   "id": "92f86c6c",
   "metadata": {},
   "source": [
    "## Run Test Cases\n",
    "\n",
    "Run the cell below to run pre-defined test cases and to see if your implementation passes them."
   ]
  },
  {
   "cell_type": "code",
   "execution_count": null,
   "id": "fb45422f",
   "metadata": {
    "vscode": {
     "languageId": "ocaml"
    }
   },
   "outputs": [],
   "source": [
    "#use \"topfind\";;\n",
    "#require \"alcotest\";;\n",
    "#use \"./tests/065.ml\""
   ]
  },
  {
   "cell_type": "markdown",
   "id": "5a795e0d",
   "metadata": {},
   "source": [
    "## Solution\n",
    "<details>\n",
    "<summary>Click here for the solution</summary>\n",
    "\n",
    "```ocaml\n",
    "type 'a binary_tree =\n",
    "  | Empty\n",
    "  | Node of 'a * 'a binary_tree * 'a binary_tree\n",
    "\n",
    "let layout_binary_tree_2 t =\n",
    "    let rec height = function\n",
    "      | Empty -> 0\n",
    "      | Node (_, l, r) -> 1 + max (height l) (height r) in\n",
    "    let tree_height = height t in\n",
    "    let rec find_missing_left depth = function\n",
    "      | Empty -> tree_height - depth\n",
    "      | Node (_, l, _) -> find_missing_left (depth + 1) l in\n",
    "    let translate_dst = 1 lsl (find_missing_left 0 t) - 1 in\n",
    "                        (* remember than 1 lsl a = 2ᵃ *)\n",
    "    let rec layout depth x_root = function\n",
    "      | Empty -> Empty\n",
    "      | Node (x, l, r) ->\n",
    "         let spacing = 1 lsl (tree_height - depth - 1) in\n",
    "         let l' = layout (depth + 1) (x_root - spacing) l\n",
    "         and r' = layout (depth + 1) (x_root + spacing) r in\n",
    "           Node((x, x_root, depth), l',r') in\n",
    "    layout 1 ((1 lsl (tree_height - 1)) - translate_dst) t\n",
    "    \n",
    "```\n",
    "</details>"
   ]
  }
 ],
 "metadata": {
  "kernelspec": {
   "display_name": "OCaml 4.14.0",
   "language": "OCaml",
   "name": "ocaml-jupyter"
  },
  "language_info": {
   "name": "OCaml"
  }
 },
 "nbformat": 4,
 "nbformat_minor": 5
}
