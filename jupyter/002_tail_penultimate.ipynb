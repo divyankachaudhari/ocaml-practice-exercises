{
 "cells": [
  {
   "cell_type": "markdown",
   "id": "0de1e88a",
   "metadata": {},
   "source": [
    "# Question 002: Last Two Elements of a List\n",
    "\n",
    "Find the last and penultimate elements of a list.\n",
    "\n",
    "## Exercise Instructions\n",
    "\n",
    "**Implement the function definition below.**\n",
    "\n",
    "Find the last but one (last and penultimate) elements of a list."
   ]
  },
  {
   "cell_type": "code",
   "execution_count": 2,
   "id": "d4bf8b5c",
   "metadata": {},
   "outputs": [
    {
     "data": {
      "text/plain": [
       "val last_two : 'a list -> ('a * 'a) option = <fun>\n"
      ]
     },
     "execution_count": 2,
     "metadata": {},
     "output_type": "execute_result"
    }
   ],
   "source": [
    "let rec last_two = function\n",
    "    | [] | [_] -> None\n",
    "    | [x; y] -> Some (x,y)\n",
    "    | _ :: t -> last_two t"
   ]
  },
  {
   "cell_type": "markdown",
   "id": "4efe817c",
   "metadata": {},
   "source": [
    "## Try It Out!\n",
    "\n",
    "Test the function with different inputs and see the results. Modify the function if needed."
   ]
  },
  {
   "cell_type": "code",
   "execution_count": 3,
   "id": "3dc231c1",
   "metadata": {},
   "outputs": [
    {
     "data": {
      "text/plain": [
       "- : (string * string) option = Some (\"c\", \"d\")\n"
      ]
     },
     "execution_count": 3,
     "metadata": {},
     "output_type": "execute_result"
    }
   ],
   "source": [
    "last_two [\"a\"; \"b\"; \"c\"; \"d\"];;"
   ]
  },
  {
   "cell_type": "markdown",
   "id": "230a57f6",
   "metadata": {},
   "source": [
    "## Run Test Cases\n",
    "\n",
    "Run the cell below to run pre-defined test cases and to see if your implementation passes them."
   ]
  },
  {
   "cell_type": "code",
   "execution_count": 4,
   "id": "063e0c6c",
   "metadata": {},
   "outputs": [
    {
     "name": "stdout",
     "output_type": "stream",
     "text": [
      "File \"./tests/002.ml\", line 28, characters 23-33:\n",
      "28 |     assert_equal (Some (\"c\", \"d\")) (last_two [\"a\"; \"b\"; \"c\"; \"d\"]);\n",
      "                            ^^^^^^^^^^\n",
      "Error: This expression has type 'a * 'b\n",
      "       but an expression was expected of type int\n"
     ]
    }
   ],
   "source": [
    "#use \"./tests/002.ml\""
   ]
  },
  {
   "cell_type": "markdown",
   "id": "9beacfa7",
   "metadata": {},
   "source": [
    "## Solution\n",
    "<details>\n",
    "<summary>Click here for the solution</summary>\n",
    "\n",
    "```ocaml\n",
    " let rec last_two = function\n",
    "    | [] | [_] -> None\n",
    "    | [x; y] -> Some (x,y)\n",
    "    | _ :: t -> last_two t\n",
    "\n",
    "```\n",
    "</details>"
   ]
  }
 ],
 "metadata": {
  "kernelspec": {
   "display_name": "OCaml 4.14.0",
   "language": "OCaml",
   "name": "ocaml-jupyter"
  },
  "language_info": {
   "codemirror_mode": "text/x-ocaml",
   "file_extension": ".ml",
   "mimetype": "text/x-ocaml",
   "name": "OCaml",
   "nbconverter_exporter": null,
   "pygments_lexer": "OCaml",
   "version": "4.14.0"
  }
 },
 "nbformat": 4,
 "nbformat_minor": 5
}
