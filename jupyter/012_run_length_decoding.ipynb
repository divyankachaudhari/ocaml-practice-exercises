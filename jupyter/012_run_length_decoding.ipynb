{
 "cells": [
  {
   "cell_type": "markdown",
   "id": "60559612",
   "metadata": {},
   "source": [
    "# Question 012: Decode a Run-Length Encoded List\n",
    "\n",
    "Reconstruct the uncompressed list from a run-length code list.\n",
    "\n",
    "## Exercise Instructions\n",
    "\n",
    "**Implement the function definition below.**\n",
    "\n",
    "Given a run-length code list generated as specified in the previous\n",
    "problem, construct its uncompressed version."
   ]
  },
  {
   "cell_type": "code",
   "execution_count": null,
   "id": "1c1c67a6",
   "metadata": {
    "vscode": {
     "languageId": "ocaml"
    }
   },
   "outputs": [],
   "source": [
    "type 'a rle =\n",
    "  | One of 'a\n",
    "  | Many of int * 'a\n",
    "\n",
    "let decode _ = failwith \"Not yet implemented\""
   ]
  },
  {
   "cell_type": "markdown",
   "id": "ac4f0284",
   "metadata": {},
   "source": [
    "## Try It Out!\n",
    "\n",
    "Test the function with different inputs and see the results. Modify the function if needed."
   ]
  },
  {
   "cell_type": "code",
   "execution_count": null,
   "id": "1328ea26",
   "metadata": {
    "vscode": {
     "languageId": "ocaml"
    }
   },
   "outputs": [],
   "source": [
    "decode [Many (4, \"a\"); One \"b\"; Many (2, \"c\"); Many (2, \"a\"); One \"d\"; Many (4, \"e\")];;"
   ]
  },
  {
   "cell_type": "markdown",
   "id": "f08b6476",
   "metadata": {},
   "source": [
    "## Run Test Cases\n",
    "\n",
    "Run the cell below to run pre-defined test cases and to see if your implementation passes them."
   ]
  },
  {
   "cell_type": "code",
   "execution_count": null,
   "id": "7a25a5e5",
   "metadata": {
    "vscode": {
     "languageId": "ocaml"
    }
   },
   "outputs": [],
   "source": [
    "#use \"topfind\";;\n",
    "#require \"alcotest\";;\n",
    "#use \"./tests/012.ml\""
   ]
  },
  {
   "cell_type": "markdown",
   "id": "1d15bafd",
   "metadata": {},
   "source": [
    "## Solution\n",
    "<details>\n",
    "<summary>Click here for the solution</summary>\n",
    "\n",
    "```ocaml\n",
    "type 'a rle =\n",
    "  | One of 'a\n",
    "  | Many of int * 'a\n",
    "\n",
    "let decode list =\n",
    "  let rec many acc n x =\n",
    "    if n = 0 then acc else many (x :: acc) (n - 1) x\n",
    "  in\n",
    "  let rec aux acc = function\n",
    "    | [] -> acc\n",
    "    | One x :: t -> aux (x :: acc) t\n",
    "    | Many (n, x) :: t -> aux (many acc n x) t\n",
    "  in\n",
    "    aux [] (List.rev list)\n",
    "\n",
    "```\n",
    "</details>"
   ]
  }
 ],
 "metadata": {
  "kernelspec": {
   "display_name": "OCaml 4.14.0",
   "language": "OCaml",
   "name": "ocaml-jupyter"
  },
  "language_info": {
   "name": "OCaml"
  }
 },
 "nbformat": 4,
 "nbformat_minor": 5
}
