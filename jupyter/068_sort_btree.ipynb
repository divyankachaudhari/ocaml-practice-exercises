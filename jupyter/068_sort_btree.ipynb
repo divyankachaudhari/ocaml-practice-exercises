{
 "cells": [
  {
   "cell_type": "markdown",
   "id": "3fda676c",
   "metadata": {},
   "source": [
    "# Question 068: Preorder and Inorder Sequences of Binary Trees\n",
    "\n",
    "Generate the preorder and inorder sequences of a binary tree.\n",
    "\n",
    "## Exercise Instructions\n",
    "\n",
    "**Implement the function definition below.**\n",
    "\n",
    "We consider binary trees with nodes that are identified by single\n",
    "lower-case letters, as in the example of the previous problem.\n",
    "\n",
    "1. Write functions `preorder` and `inorder`\n",
    "   that construct the\n",
    "   [preorder](https://en.wikipedia.org/wiki/Tree_traversal#Pre-order)\n",
    "   and\n",
    "   [inorder](https://en.wikipedia.org/wiki/Tree_traversal#In-order_.28symmetric.29)\n",
    " sequence of a given binary tree, respectively. The\n",
    " results should be atoms, e.g. 'abdecfg' for the preorder sequence of\n",
    " the example in the previous problem.\n",
    "1. Can you use `preorder` from problem part 1 in the reverse\n",
    " direction; i.e. given a preorder sequence, construct a corresponding\n",
    " tree? If not, make the necessary arrangements.\n",
    "1. If both the preorder sequence and the inorder sequence of the nodes\n",
    " of a binary tree are given, then the tree is determined\n",
    " unambiguously. Write a function `pre_in_tree` that does the job.\n",
    "1. Solve problems 1 to 3 using\n",
    "   [difference lists](https://en.wikipedia.org/wiki/Difference_list).\n",
    "   Cool!  Use the\n",
    " function `timeit` (defined in problem “[Compare the two methods of\n",
    " calculating Euler&#39;s totient function.](#38)”) to compare the\n",
    " solutions.\n",
    "\n",
    "What happens if the same character appears in more than one node. Try\n",
    "for instance `pre_in_tree \"aba\" \"baa\"`."
   ]
  },
  {
   "cell_type": "code",
   "execution_count": null,
   "id": "3e752858",
   "metadata": {},
   "outputs": [],
   "source": [
    "type 'a binary_tree =\n",
    "  | Empty\n",
    "  | Node of 'a * 'a binary_tree * 'a binary_tree\n",
    "\n",
    "let preorder _ = failwith \"Not yet implemented\"\n",
    "let inorder _ = failwith \"Not yet implemented\"\n",
    "let pre_in_tree  _ = failwith \"Not yet implemented\"\n"
   ]
  },
  {
   "cell_type": "markdown",
   "id": "88e73f25",
   "metadata": {},
   "source": [
    "## Try It Out!\n",
    "\n",
    "Test the function with different inputs and see the results. Modify the function if needed."
   ]
  },
  {
   "cell_type": "code",
   "execution_count": null,
   "id": "b4e648a8",
   "metadata": {},
   "outputs": [],
   "source": [
    "preorder (Node (1, Node (2, Empty, Empty), Empty));;"
   ]
  },
  {
   "cell_type": "markdown",
   "id": "2d60c266",
   "metadata": {},
   "source": [
    "## Run Test Cases\n",
    "\n",
    "Run the cell below to run pre-defined test cases and to see if your implementation passes them."
   ]
  },
  {
   "cell_type": "code",
   "execution_count": null,
   "id": "438e1cf2",
   "metadata": {},
   "outputs": [],
   "source": [
    "#use \"./tests/068.ml\""
   ]
  },
  {
   "cell_type": "markdown",
   "id": "31460e13",
   "metadata": {},
   "source": [
    "## Solution\n",
    "<details>\n",
    "<summary>Click here for the solution</summary>\n",
    "\n",
    "```ocaml\n",
    "type 'a binary_tree =\n",
    "  | Empty\n",
    "  | Node of 'a * 'a binary_tree * 'a binary_tree\n",
    "\n",
    "let rec preorder = function\n",
    "    | Empty -> []\n",
    "    | Node (v, l, r) -> v :: (preorder l @ preorder r)\n",
    "    let rec inorder = function\n",
    "    | Empty -> []\n",
    "    | Node (v, l, r) -> inorder l @ (v :: inorder r)\n",
    "    let rec split_pre_in p i x accp acci = match (p, i) with\n",
    "    | [], [] -> (List.rev accp, List.rev acci), ([], [])\n",
    "    | h1 :: t1, h2 :: t2 ->\n",
    "       if x = h2 then\n",
    "         (List.tl (List.rev (h1 :: accp)), t1),\n",
    "         (List.rev (List.tl (h2 :: acci)), t2)\n",
    "       else\n",
    "         split_pre_in t1 t2 x (h1 :: accp) (h2 :: acci)\n",
    "    | _ -> assert false\n",
    "    let rec pre_in_tree p i = match (p, i) with\n",
    "    | [], [] -> Empty\n",
    "    | (h1 :: _), (_ :: _) ->\n",
    "       let (lp, rp), (li, ri) = split_pre_in p i h1 [] [] in\n",
    "       Node (h1, pre_in_tree lp li, pre_in_tree rp ri)\n",
    "    | _ -> invalid_arg \"pre_in_tree\"\n",
    "\n",
    "```\n",
    "</details>"
   ]
  }
 ],
 "metadata": {},
 "nbformat": 4,
 "nbformat_minor": 5
}
