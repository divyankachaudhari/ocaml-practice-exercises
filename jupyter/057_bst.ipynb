{
 "cells": [
  {
   "cell_type": "markdown",
   "id": "cc4088a0",
   "metadata": {},
   "source": [
    "# Question 057: Binary Search Trees (Dictionaries)\n",
    "\n",
    "Construct a binary search tree from a list of integers and use it to test if a tree is symmetric.\n",
    "\n",
    "## Exercise Instructions\n",
    "\n",
    "**Implement the function definition below.**\n",
    "\n",
    "Construct a \n",
    "[binary search tree](http://en.wikipedia.org/wiki/Binary_search_tree) \n",
    "from a list of integer numbers."
   ]
  },
  {
   "cell_type": "code",
   "execution_count": null,
   "id": "c8c7d951",
   "metadata": {
    "vscode": {
     "languageId": "ocaml"
    }
   },
   "outputs": [],
   "source": [
    "type 'a binary_tree =\n",
    "    | Empty\n",
    "    | Node of 'a * 'a binary_tree * 'a binary_tree\n",
    "\n",
    "let construct _ = failwith \"Not yet implemented\"\n",
    "\n",
    "let is_symmetric _ = failwith \"Not yet implemented\""
   ]
  },
  {
   "cell_type": "markdown",
   "id": "8526a643",
   "metadata": {},
   "source": [
    "## Try It Out!\n",
    "\n",
    "Test the function with different inputs and see the results. Modify the function if needed."
   ]
  },
  {
   "cell_type": "code",
   "execution_count": null,
   "id": "6c02cd1a",
   "metadata": {
    "vscode": {
     "languageId": "ocaml"
    }
   },
   "outputs": [],
   "source": [
    "is_symmetric (construct [5; 3; 18; 1; 4; 12; 21]);;"
   ]
  },
  {
   "cell_type": "markdown",
   "id": "08dc51cf",
   "metadata": {},
   "source": [
    "## Run Test Cases\n",
    "\n",
    "Run the cell below to run pre-defined test cases and to see if your implementation passes them."
   ]
  },
  {
   "cell_type": "code",
   "execution_count": null,
   "id": "b11a2db9",
   "metadata": {
    "vscode": {
     "languageId": "ocaml"
    }
   },
   "outputs": [],
   "source": [
    "#use \"topfind\";;\n",
    "#require \"alcotest\";;\n",
    "#use \"./tests/057.ml\""
   ]
  },
  {
   "cell_type": "markdown",
   "id": "c204b60f",
   "metadata": {},
   "source": [
    "## Solution\n",
    "<details>\n",
    "<summary>Click here for the solution</summary>\n",
    "\n",
    "```ocaml\n",
    "type 'a binary_tree =\n",
    "  | Empty\n",
    "  | Node of 'a * 'a binary_tree * 'a binary_tree\n",
    "\n",
    "let rec is_mirror t1 t2 =\n",
    "  match t1, t2 with\n",
    "  | Empty, Empty -> true\n",
    "  | Node(_, l1, r1), Node(_, l2, r2) ->\n",
    "    is_mirror l1 r2 && is_mirror r1 l2\n",
    "  | _ -> false\n",
    "\n",
    "let is_symmetric = function\n",
    "  | Empty -> true\n",
    "  | Node(_, l, r) -> is_mirror l r\n",
    "\n",
    "let rec insert tree x =\n",
    "  match tree with\n",
    "  | Empty -> Node (x, Empty, Empty)\n",
    "  | Node (y, l, r) ->\n",
    "    if x = y then tree\n",
    "    else if x < y then Node (y, insert l x, r)\n",
    "    else Node (y, l, insert r x)\n",
    "\n",
    "let construct l = List.fold_left insert Empty l\n",
    "\n",
    "```\n",
    "</details>"
   ]
  }
 ],
 "metadata": {
  "kernelspec": {
   "display_name": "OCaml 4.14.0",
   "language": "OCaml",
   "name": "ocaml-jupyter"
  },
  "language_info": {
   "name": "OCaml"
  }
 },
 "nbformat": 4,
 "nbformat_minor": 5
}
