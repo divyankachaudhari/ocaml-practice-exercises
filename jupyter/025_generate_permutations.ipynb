{
 "cells": [
  {
   "cell_type": "markdown",
   "id": "764bc82e",
   "metadata": {},
   "source": [
    "# Question 025: Generate a Random Permutation of the Elements of a List\n",
    "\n",
    "Generate a random permutation of the elements in the given list.\n",
    "\n",
    "## Exercise Instructions\n",
    "\n",
    "**Implement the function definition below.**\n",
    "\n",
    "Generate a random permutation of the elements of a list."
   ]
  },
  {
   "cell_type": "code",
   "execution_count": null,
   "id": "2ae00a14",
   "metadata": {},
   "outputs": [],
   "source": [
    "let permutation _ = failwith \"Not yet implemented\"\n"
   ]
  },
  {
   "cell_type": "markdown",
   "id": "05f325a7",
   "metadata": {},
   "source": [
    "## Try It Out!\n",
    "\n",
    "Test the function with different inputs and see the results. Modify the function if needed."
   ]
  },
  {
   "cell_type": "code",
   "execution_count": null,
   "id": "fee5315c",
   "metadata": {},
   "outputs": [],
   "source": [
    "permutation [\"a\"; \"b\"; \"c\"; \"d\"; \"e\"; \"f\"];;"
   ]
  },
  {
   "cell_type": "markdown",
   "id": "99c79a9e",
   "metadata": {},
   "source": [
    "## Run Test Cases\n",
    "\n",
    "Run the cell below to run pre-defined test cases and to see if your implementation passes them."
   ]
  },
  {
   "cell_type": "code",
   "execution_count": null,
   "id": "22ee0644",
   "metadata": {},
   "outputs": [],
   "source": [
    "#use \"./tests/025.ml\""
   ]
  },
  {
   "cell_type": "markdown",
   "id": "0fefbc84",
   "metadata": {},
   "source": [
    "## Solution\n",
    "<details>\n",
    "<summary>Click here for the solution</summary>\n",
    "\n",
    "```ocaml\n",
    "let permutation list =\n",
    "  let rec extract acc n = function\n",
    "    | [] -> raise Not_found\n",
    "    | h :: t -> if n = 0 then (h, acc @ t) else extract (h :: acc) (n - 1) t\n",
    "  in\n",
    "  let extract_rand list len =\n",
    "    extract [] (Random.int len) list\n",
    "  in\n",
    "  let rec aux acc list len =\n",
    "    if len = 0 then acc else\n",
    "      let picked, rest = extract_rand list len in\n",
    "      aux (picked :: acc) rest (len - 1)\n",
    "  in\n",
    " aux [] list (List.length list)\n",
    "\n",
    "```\n",
    "</details>"
   ]
  }
 ],
 "metadata": {},
 "nbformat": 4,
 "nbformat_minor": 5
}
