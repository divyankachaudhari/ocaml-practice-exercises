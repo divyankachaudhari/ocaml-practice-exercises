{
 "cells": [
  {
   "cell_type": "markdown",
   "id": "1176d705",
   "metadata": {},
   "source": [
    "# Question 001: Tail of a List\n",
    "\n",
    "Write a function that returns the last element of a list.\n",
    "\n",
    "## Exercise Instructions\n",
    "\n",
    "**Implement the function definition below.**\n",
    "\n",
    "Write a function `last : 'a list -> 'a option` that returns the last element of a list"
   ]
  },
  {
   "cell_type": "code",
   "execution_count": 2,
   "id": "ec3a117a",
   "metadata": {
    "vscode": {
     "languageId": "ocaml"
    }
   },
   "outputs": [
    {
     "data": {
      "text/plain": [
       "val last : 'a list -> 'a option = <fun>\n"
      ]
     },
     "execution_count": 2,
     "metadata": {},
     "output_type": "execute_result"
    }
   ],
   "source": [
    "let rec last = function\n",
    "  | [] -> None\n",
    "  | [ x ] -> Some x\n",
    "  | _ :: t -> last t\n",
    "(* the learner will implement this, but it's implemented for now for testing *)"
   ]
  },
  {
   "cell_type": "markdown",
   "id": "7dc37260",
   "metadata": {},
   "source": [
    "## Try It Out!\n",
    "\n",
    "Test the function with different inputs and see the results. Modify the function if needed."
   ]
  },
  {
   "cell_type": "code",
   "execution_count": 3,
   "id": "c793c944",
   "metadata": {
    "vscode": {
     "languageId": "ocaml"
    }
   },
   "outputs": [
    {
     "data": {
      "text/plain": [
       "- : string option = Some \"d\"\n"
      ]
     },
     "execution_count": 3,
     "metadata": {},
     "output_type": "execute_result"
    }
   ],
   "source": [
    "last [\"a\" ; \"b\" ; \"c\" ; \"d\"];;\n",
    "(* this doesn't tell the learner if they're right or wrong, just gives them how their function implementation performs *)"
   ]
  },
  {
   "cell_type": "markdown",
   "id": "d28d0f13",
   "metadata": {},
   "source": [
    "## Run Test Cases\n",
    "\n",
    "Run the cell below to run pre-defined test cases and to see if your implementation passes them."
   ]
  },
  {
   "cell_type": "code",
   "execution_count": 1,
   "id": "4a06eb0d",
   "metadata": {
    "vscode": {
     "languageId": "ocaml"
    }
   },
   "outputs": [
    {
     "name": "stdout",
     "output_type": "stream",
     "text": [
      "module Test :\n",
      "  sig\n",
      "    val list_to_string : ('a -> string) -> 'a list -> string\n",
      "    val option_to_string : ('a -> string) -> 'a option -> string\n",
      "    val assert_equal : ('a -> string) -> 'a option -> 'a option -> unit\n",
      "    val last : 'a list -> 'a option\n",
      "    val run_tests : unit -> unit\n",
      "  end\n",
      "--------------------------------------\n",
      "Running Exercise 001 Tests:\n",
      "Test: Exercise 001 case 1\n",
      "✓ Test passed\n",
      "Test: Exercise 001 case 2\n",
      "✓ Test passed\n",
      "All tests completed.\n"
     ]
    }
   ],
   "source": [
    "#use \"tests/001.ml\"\n",
    "(* without OUnit2 *)"
   ]
  },
  {
   "cell_type": "code",
   "execution_count": 5,
   "id": "050407fc",
   "metadata": {
    "vscode": {
     "languageId": "ocaml"
    }
   },
   "outputs": [
    {
     "name": "stdout",
     "output_type": "stream",
     "text": [
      "- : unit = ()\n",
      "Findlib has been successfully loaded. Additional directives:\n",
      "  #require \"package\";;      to load a package\n",
      "  #list;;                   to list the available packages\n",
      "  #camlp4o;;                to load camlp4 (standard syntax)\n",
      "  #camlp4r;;                to load camlp4 (revised syntax)\n",
      "  #predicates \"p,q,...\";;   to set these predicates\n",
      "  Topfind.reset();;         to force that packages will be reloaded\n",
      "  #thread;;                 to enable threads\n",
      "\n",
      "- : unit = ()\n"
     ]
    },
    {
     "name": "stderr",
     "output_type": "stream",
     "text": [
      "/Users/divyanka/.opam/4.14.0/lib/seq: added to search path\n",
      "/Users/divyanka/.opam/4.14.0/lib/stdlib-shims: added to search path\n",
      "/Users/divyanka/.opam/4.14.0/lib/stdlib-shims/stdlib_shims.cma: loaded\n",
      "/Users/divyanka/.opam/4.14.0/lib/ocaml/unix.cma: loaded\n",
      "/Users/divyanka/.opam/4.14.0/lib/ounit2/advanced: added to search path\n",
      "/Users/divyanka/.opam/4.14.0/lib/ounit2/advanced/oUnitAdvanced.cma: loaded\n",
      "/Users/divyanka/.opam/4.14.0/lib/ounit2: added to search path\n",
      "/Users/divyanka/.opam/4.14.0/lib/ounit2/oUnit.cma: loaded\n"
     ]
    },
    {
     "name": "stdout",
     "output_type": "stream",
     "text": [
      "val suite : OUnit2.test =\n",
      "  OUnitTest.TestLabel (\"suite\",\n",
      "   OUnitTest.TestList\n",
      "    [OUnitTest.TestLabel (\"last\",\n",
      "      OUnitTest.TestList\n",
      "       [OUnitTest.TestLabel (\"nil\",\n",
      "         OUnitTest.TestCase (OUnitTest.Short, <fun>));\n",
      "        OUnitTest.TestLabel (\"cons\",\n",
      "         OUnitTest.TestCase (OUnitTest.Short, <fun>))])])\n"
     ]
    },
    {
     "name": "stderr",
     "output_type": "stream",
     "text": [
      "/Users/divyanka/.opam/4.14.0/bin/ocaml-jupyter-kernel: unknown option '-init'.\n",
      "usage: /Users/divyanka/.opam/4.14.0/bin/ocaml-jupyter-kernel options*\n",
      "  -conf fn                        Read configuration file.\n",
      "  -cache-filename str             Cache file to store previous results. (default: /Users/divyanka/ocaml-practice-exercises/jupyter/oUnit-$(suite_name).cache)\n",
      "  -chooser {failfirst|simple}\n",
      "                                  Select the method to choose tests to run. (default: simple)\n",
      "  -ci {true|false}                Display logs for CI, like Travis and AppVeyor, in the console with colors. (default: false)\n",
      "  -display {true|false}           Output logs on screen. (default: true)\n",
      "  -health-check-interval f        Seconds between checking health of workers. (default: 1.)\n",
      "  -log-encoding str               Encoding of the log. (default: utf-8)\n",
      "  -no-cache-filename              Reset value of cache_filename.\n",
      "  -no-output-file                 Reset value of output_file.\n",
      "  -no-output-html-dir             Reset value of output_html_dir.\n",
      "  -no-output-junit-file           Reset value of output_junit_file.\n",
      "  -no-testdata-dir                Reset value of testdata_dir.\n",
      "  -output-file str                Output verbose log in the given file. (default: /Users/divyanka/ocaml-practice-exercises/jupyter/oUnit-$(suite_name)-$(shard_id).log)\n",
      "  -output-html-dir str            Output directory of the HTML files. (default: none)\n",
      "  -output-junit-file str          Output file for JUnit. (default: none)\n",
      "  -processes-grace-period f       Delay to wait for a process to stop. (default: 5.)\n",
      "  -processes-kill-period f        Delay to wait for a process to stop after killing it. (default: 5.)\n",
      "  -results-style-1-X {true|false} Use OUnit 1.X results printer (will be deprecated in 2.1.0+). (default: false)\n",
      "  -run-gc-full-major {true|false} Run a Gc.full_major in between tests. (default: true)\n",
      "  -runner {processes|sequential}\n",
      "                                  Select a the method to run tests. (default: processes)\n",
      "  -shards i                       Number of shards to use as worker (threads or processes). (default: 2)\n",
      "  -suite-name str                 The name of the test suite running. (default: suite)\n",
      "  -testdata-dir str               Location of the test data directory (absolute path). (default: none)\n",
      "  -verbose {true|false}           Run test in verbose mode. (default: false)\n",
      "  -only-test path                 Run only the selected tests.\n",
      "  -list-test                      List tests\n",
      "  -help                           Display this list of options\n",
      "  --help                          Display this list of options\n"
     ]
    }
   ],
   "source": [
    "#use \"topfind\";;\n",
    "#require \"ounit2\";;\n",
    "#use \"tests/001_o.ml\"\n",
    "(* with OUnit2 *)"
   ]
  },
  {
   "cell_type": "markdown",
   "id": "d3d73a6e",
   "metadata": {},
   "source": [
    "## Solution\n",
    "<details>\n",
    "<summary>Click here for the solution</summary>\n",
    "\n",
    "```ocaml\n",
    "let rec last = function\n",
    "  | [] -> None\n",
    "  | [ x ] -> Some x\n",
    "  | _ :: t -> last t\n",
    "\n",
    "```\n",
    "</details>"
   ]
  }
 ],
 "metadata": {
  "kernelspec": {
   "display_name": "OCaml 4.14.0",
   "language": "OCaml",
   "name": "ocaml-jupyter"
  },
  "language_info": {
   "codemirror_mode": "text/x-ocaml",
   "file_extension": ".ml",
   "mimetype": "text/x-ocaml",
   "name": "OCaml",
   "nbconverter_exporter": null,
   "pygments_lexer": "OCaml",
   "version": "4.14.0"
  }
 },
 "nbformat": 4,
 "nbformat_minor": 5
}
