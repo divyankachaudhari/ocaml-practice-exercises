{
 "cells": [
  {
   "cell_type": "markdown",
   "id": "1176d705",
   "metadata": {},
   "source": [
    "# Question 001: Tail of a List\n",
    "\n",
    "Write a function that returns the last element of a list.\n",
    "\n",
    "## Exercise Instructions\n",
    "\n",
    "**Implement the function definition below.**\n",
    "\n",
    "Write a function `last : 'a list -> 'a option` that returns the last element of a list"
   ]
  },
  {
   "cell_type": "code",
   "execution_count": null,
   "id": "ec3a117a",
   "metadata": {
    "vscode": {
     "languageId": "ocaml"
    }
   },
   "outputs": [],
   "source": [
    "let rec last = function\n",
    "  | [] -> None\n",
    "  | [ x ] -> Some x\n",
    "  | _ :: t -> last t\n",
    "(* the learner will implement this, but it's implemented for now for testing *)"
   ]
  },
  {
   "cell_type": "markdown",
   "id": "7dc37260",
   "metadata": {},
   "source": [
    "## Try It Out!\n",
    "\n",
    "Test the function with different inputs and see the results. Modify the function if needed."
   ]
  },
  {
   "cell_type": "code",
   "execution_count": null,
   "id": "c793c944",
   "metadata": {
    "vscode": {
     "languageId": "ocaml"
    }
   },
   "outputs": [],
   "source": [
    "last [\"a\" ; \"b\" ; \"c\" ; \"d\"];;\n",
    "(* this doesn't tell the learner if they're right or wrong, just gives them how their function implementation performs *)"
   ]
  },
  {
   "cell_type": "markdown",
   "id": "d28d0f13",
   "metadata": {},
   "source": [
    "## Run Test Cases\n",
    "\n",
    "Run the cell below to run pre-defined test cases and to see if your implementation passes them."
   ]
  },
  {
   "cell_type": "code",
   "execution_count": null,
   "id": "4a06eb0d",
   "metadata": {
    "vscode": {
     "languageId": "ocaml"
    }
   },
   "outputs": [],
   "source": [
    "#use \"tests/001.ml\"\n",
    "(* without OUnit2 *)"
   ]
  },
  {
   "cell_type": "code",
   "execution_count": null,
   "id": "050407fc",
   "metadata": {
    "vscode": {
     "languageId": "ocaml"
    }
   },
   "outputs": [],
   "source": [
    "#use \"topfind\";;\n",
    "#require \"ounit2\";;\n",
    "#use \"tests/001_o.ml\"\n",
    "(* with OUnit2 *)"
   ]
  },
  {
   "cell_type": "markdown",
   "id": "d3d73a6e",
   "metadata": {},
   "source": [
    "## Solution\n",
    "<details>\n",
    "<summary>Click here for the solution</summary>\n",
    "\n",
    "```ocaml\n",
    "let rec last = function\n",
    "  | [] -> None\n",
    "  | [ x ] -> Some x\n",
    "  | _ :: t -> last t\n",
    "\n",
    "```\n",
    "</details>"
   ]
  }
 ],
 "metadata": {
  "kernelspec": {
   "display_name": "OCaml 4.14.0",
   "language": "OCaml",
   "name": "ocaml-jupyter"
  },
  "language_info": {
   "codemirror_mode": "text/x-ocaml",
   "file_extension": ".ml",
   "mimetype": "text/x-ocaml",
   "name": "OCaml",
   "nbconverter_exporter": null,
   "pygments_lexer": "OCaml",
   "version": "4.14.0"
  }
 },
 "nbformat": 4,
 "nbformat_minor": 5
}
