{
 "cells": [
  {
   "cell_type": "markdown",
   "id": "1176d705",
   "metadata": {},
   "source": [
    "# Question 001: Tail of a List\n",
    "\n",
    "Write a function that returns the last element of a list.\n",
    "\n",
    "## Exercise Instructions\n",
    "\n",
    "**Implement the function definition below.**\n",
    "\n",
    "Write a function `last : 'a list -> 'a option` that returns the last element of a list"
   ]
  },
  {
   "cell_type": "code",
   "execution_count": 1,
   "id": "ec3a117a",
   "metadata": {
    "vscode": {
     "languageId": "ocaml"
    }
   },
   "outputs": [
    {
     "data": {
      "text/plain": [
       "val last : 'a list -> 'a option = <fun>\n"
      ]
     },
     "execution_count": 1,
     "metadata": {},
     "output_type": "execute_result"
    }
   ],
   "source": [
    "let rec last = function\n",
    "  | [] -> None\n",
    "  | [ x ] -> Some x\n",
    "  | _ :: t -> last t"
   ]
  },
  {
   "cell_type": "markdown",
   "id": "7dc37260",
   "metadata": {},
   "source": [
    "## Try It Out!\n",
    "\n",
    "Test the function with different inputs and see the results. Modify the function if needed."
   ]
  },
  {
   "cell_type": "code",
   "execution_count": 2,
   "id": "c793c944",
   "metadata": {
    "vscode": {
     "languageId": "ocaml"
    }
   },
   "outputs": [
    {
     "data": {
      "text/plain": [
       "- : string option = Some \"d\"\n"
      ]
     },
     "execution_count": 2,
     "metadata": {},
     "output_type": "execute_result"
    }
   ],
   "source": [
    "last [\"a\" ; \"b\" ; \"c\" ; \"d\"];;"
   ]
  },
  {
   "cell_type": "markdown",
   "id": "d28d0f13",
   "metadata": {},
   "source": [
    "## Run Test Cases\n",
    "\n",
    "Run the cell below to run pre-defined test cases and to see if your implementation passes them."
   ]
  },
  {
   "cell_type": "code",
   "execution_count": 3,
   "id": "4a06eb0d",
   "metadata": {
    "vscode": {
     "languageId": "ocaml"
    }
   },
   "outputs": [
    {
     "name": "stdout",
     "output_type": "stream",
     "text": [
      "File \"./tests/001.ml\", line 32, characters 23-26:\n",
      "32 |     assert_equal (Some \"d\") (last [\"a\"; \"b\"; \"c\"; \"d\"]);\n",
      "                            ^^^\n",
      "Error: This expression has type string but an expression was expected of type\n",
      "         int\n"
     ]
    }
   ],
   "source": [
    "#use \"./tests/001.ml\""
   ]
  },
  {
   "cell_type": "code",
   "execution_count": null,
   "id": "36a7e647",
   "metadata": {},
   "outputs": [
    {
     "data": {
      "text/plain": [
       "val test_addition : 'a -> unit = <fun>\n"
      ]
     },
     "execution_count": 3,
     "metadata": {},
     "output_type": "execute_result"
    },
    {
     "data": {
      "text/plain": [
       "val suite : OUnit2.test =\n",
       "  OUnitTest.TestLabel (\"suite\",\n",
       "   OUnitTest.TestList\n",
       "    [OUnitTest.TestLabel (\"test_addition\",\n",
       "      OUnitTest.TestCase (OUnitTest.Short, <fun>))])\n"
      ]
     },
     "execution_count": 3,
     "metadata": {},
     "output_type": "execute_result"
    },
    {
     "name": "stderr",
     "output_type": "stream",
     "text": [
      "/Users/divyanka/.opam/4.14.0/bin/ocaml-jupyter-kernel: unknown option '--connection-file'.\n",
      "usage: /Users/divyanka/.opam/4.14.0/bin/ocaml-jupyter-kernel options*\n",
      "  -conf fn                        Read configuration file.\n",
      "  -cache-filename str             Cache file to store previous results. (default: /Users/divyanka/ocaml-practice-exercises/jupyter/oUnit-$(suite_name).cache)\n",
      "  -chooser {failfirst|simple}\n",
      "                                  Select the method to choose tests to run. (default: simple)\n",
      "  -ci {true|false}                Display logs for CI, like Travis and AppVeyor, in the console with colors. (default: false)\n",
      "  -display {true|false}           Output logs on screen. (default: true)\n",
      "  -health-check-interval f        Seconds between checking health of workers. (default: 1.)\n",
      "  -log-encoding str               Encoding of the log. (default: utf-8)\n",
      "  -no-cache-filename              Reset value of cache_filename.\n",
      "  -no-output-file                 Reset value of output_file.\n",
      "  -no-output-html-dir             Reset value of output_html_dir.\n",
      "  -no-output-junit-file           Reset value of output_junit_file.\n",
      "  -no-testdata-dir                Reset value of testdata_dir.\n",
      "  -output-file str                Output verbose log in the given file. (default: /Users/divyanka/ocaml-practice-exercises/jupyter/oUnit-$(suite_name)-$(shard_id).log)\n",
      "  -output-html-dir str            Output directory of the HTML files. (default: none)\n",
      "  -output-junit-file str          Output file for JUnit. (default: none)\n",
      "  -processes-grace-period f       Delay to wait for a process to stop. (default: 5.)\n",
      "  -processes-kill-period f        Delay to wait for a process to stop after killing it. (default: 5.)\n",
      "  -results-style-1-X {true|false} Use OUnit 1.X results printer (will be deprecated in 2.1.0+). (default: false)\n",
      "  -run-gc-full-major {true|false} Run a Gc.full_major in between tests. (default: true)\n",
      "  -runner {processes|sequential}\n",
      "                                  Select a the method to run tests. (default: processes)\n",
      "  -shards i                       Number of shards to use as worker (threads or processes). (default: 2)\n",
      "  -suite-name str                 The name of the test suite running. (default: suite)\n",
      "  -testdata-dir str               Location of the test data directory (absolute path). (default: none)\n",
      "  -verbose {true|false}           Run test in verbose mode. (default: false)\n",
      "  -only-test path                 Run only the selected tests.\n",
      "  -list-test                      List tests\n",
      "  -help                           Display this list of options\n",
      "  --help                          Display this list of options\n"
     ]
    }
   ],
   "source": [
    "open OUnit2\n",
    "\n",
    "let test_addition _ =\n",
    "  assert_equal 4 (2 + 2)\n",
    "\n",
    "let suite =\n",
    "  \"suite\" >::: [\"test_addition\" >:: test_addition]\n",
    "\n",
    "let _ =\n",
    "  run_test_tt_main suite\n"
   ]
  },
  {
   "cell_type": "code",
   "execution_count": 2,
   "id": "c2f00539",
   "metadata": {},
   "outputs": [
    {
     "name": "stdout",
     "output_type": "stream",
     "text": [
      "- : unit = ()\n",
      "Findlib has been successfully loaded. Additional directives:\n",
      "  #require \"package\";;      to load a package\n",
      "  #list;;                   to list the available packages\n",
      "  #camlp4o;;                to load camlp4 (standard syntax)\n",
      "  #camlp4r;;                to load camlp4 (revised syntax)\n",
      "  #predicates \"p,q,...\";;   to set these predicates\n",
      "  Topfind.reset();;         to force that packages will be reloaded\n",
      "  #thread;;                 to enable threads\n",
      "\n",
      "- : unit = ()\n"
     ]
    }
   ],
   "source": [
    "#use \"topfind\"\n",
    "#require \"ounit2\";;"
   ]
  },
  {
   "cell_type": "markdown",
   "id": "d3d73a6e",
   "metadata": {},
   "source": [
    "## Solution\n",
    "<details>\n",
    "<summary>Click here for the solution</summary>\n",
    "\n",
    "```ocaml\n",
    "let rec last = function\n",
    "  | [] -> None\n",
    "  | [ x ] -> Some x\n",
    "  | _ :: t -> last t\n",
    "\n",
    "```\n",
    "</details>"
   ]
  }
 ],
 "metadata": {
  "kernelspec": {
   "display_name": "OCaml 4.14.0",
   "language": "OCaml",
   "name": "ocaml-jupyter"
  },
  "language_info": {
   "codemirror_mode": "text/x-ocaml",
   "file_extension": ".ml",
   "mimetype": "text/x-ocaml",
   "name": "OCaml",
   "nbconverter_exporter": null,
   "pygments_lexer": "OCaml",
   "version": "4.14.0"
  }
 },
 "nbformat": 4,
 "nbformat_minor": 5
}
