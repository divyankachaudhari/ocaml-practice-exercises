{
 "cells": [
  {
   "cell_type": "markdown",
   "id": "f256a77a",
   "metadata": {},
   "source": [
    "# Question 038: Compare the Two Methods of Calculating Euler's Totient Function\n",
    "\n",
    "Compare the efficiency of φ calculation algorithms, measuring performance by the number of logical inferences.\n",
    "\n",
    "## Exercise Instructions\n",
    "\n",
    "**Implement the function definition below.**\n",
    "\n",
    "Use the solutions of problems \n",
    "\"[Calculate Euler&#39;s totient function φ(m)](#34)\" and\n",
    "\"[Calculate Euler&#39;s totient function φ(m) (improved)](#37)\"\n",
    "to compare the algorithms. Take the number of logical inferences as a measure for efficiency. Try to calculate φ(10090) as an example."
   ]
  },
  {
   "cell_type": "code",
   "execution_count": null,
   "id": "37a7604d",
   "metadata": {},
   "outputs": [],
   "source": []
  },
  {
   "cell_type": "markdown",
   "id": "fecdf56d",
   "metadata": {},
   "source": [
    "## Try It Out!\n",
    "\n",
    "Test the function with different inputs and see the results. Modify the function if needed."
   ]
  },
  {
   "cell_type": "code",
   "execution_count": null,
   "id": "cbdb7518",
   "metadata": {},
   "outputs": [],
   "source": [
    "timeit phi 10090"
   ]
  },
  {
   "cell_type": "markdown",
   "id": "98779ad2",
   "metadata": {},
   "source": [
    "## Run Test Cases\n",
    "\n",
    "Run the cell below to run pre-defined test cases and to see if your implementation passes them."
   ]
  },
  {
   "cell_type": "code",
   "execution_count": null,
   "id": "2eb742bf",
   "metadata": {},
   "outputs": [],
   "source": [
    "#use \"./tests/038.ml\""
   ]
  },
  {
   "cell_type": "markdown",
   "id": "bfecdbba",
   "metadata": {},
   "source": [
    "## Solution\n",
    "<details>\n",
    "<summary>Click here for the solution</summary>\n",
    "\n",
    "```ocaml\n",
    "\n",
    "```\n",
    "</details>"
   ]
  }
 ],
 "metadata": {},
 "nbformat": 4,
 "nbformat_minor": 5
}
