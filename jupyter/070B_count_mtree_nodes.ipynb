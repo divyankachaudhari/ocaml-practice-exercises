{
 "cells": [
  {
   "cell_type": "markdown",
   "id": "17b331ba",
   "metadata": {},
   "source": [
    "# Question 070B: Count the Nodes of a Multiway Tree\n",
    "\n",
    "Write a function that counts the number of nodes in a multiway tree.\n",
    "\n",
    "## Exercise Instructions\n",
    "\n",
    "**Implement the function definition below.**\n",
    "\n",
    "```ocaml\n",
    "# count_nodes (T ('a', [T ('f', []) ]));;\n",
    "- : int = 2"
   ]
  },
  {
   "cell_type": "code",
   "execution_count": null,
   "id": "a65321ee",
   "metadata": {},
   "outputs": [],
   "source": []
  },
  {
   "cell_type": "markdown",
   "id": "31952728",
   "metadata": {},
   "source": [
    "## Try It Out!\n",
    "\n",
    "Test the function with different inputs and see the results. Modify the function if needed."
   ]
  },
  {
   "cell_type": "code",
   "execution_count": null,
   "id": "7259fe7f",
   "metadata": {},
   "outputs": [],
   "source": [
    "count_nodes (T ('a', [T ('f', []) ]));;"
   ]
  },
  {
   "cell_type": "markdown",
   "id": "9fc1ff0f",
   "metadata": {},
   "source": [
    "## Run Test Cases\n",
    "\n",
    "Run the cell below to run pre-defined test cases and to see if your implementation passes them."
   ]
  },
  {
   "cell_type": "code",
   "execution_count": null,
   "id": "6100ec48",
   "metadata": {},
   "outputs": [],
   "source": [
    "#use \"./tests/070B.ml\""
   ]
  },
  {
   "cell_type": "markdown",
   "id": "392a954d",
   "metadata": {},
   "source": [
    "## Solution\n",
    "<details>\n",
    "<summary>Click here for the solution</summary>\n",
    "\n",
    "```ocaml\n",
    "\n",
    "```\n",
    "</details>"
   ]
  }
 ],
 "metadata": {},
 "nbformat": 4,
 "nbformat_minor": 5
}
