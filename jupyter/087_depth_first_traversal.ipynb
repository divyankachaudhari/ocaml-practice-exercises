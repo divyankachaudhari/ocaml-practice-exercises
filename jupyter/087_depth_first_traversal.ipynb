{
 "cells": [
  {
   "cell_type": "markdown",
   "id": "1ed74fff",
   "metadata": {},
   "source": [
    "# Question 087: Depth-First Order Graph Traversal\n",
    "\n",
    "Generate a depth-first order graph traversal sequence using the given adjacency-list representation, starting from a specified point.\n",
    "\n",
    "## Exercise Instructions\n",
    "\n",
    "**Implement the function definition below.**\n",
    "\n",
    "Write a function that generates a\n",
    "[depth-first order graph traversal](https://en.wikipedia.org/wiki/Depth-first_search)\n",
    "sequence. The starting point should be specified, and the output should\n",
    "be a list of nodes that are reachable from this starting point (in\n",
    "depth-first order).\n",
    "\n",
    "Specifically, the graph will be provided by its\n",
    "[adjacency-list representation](https://en.wikipedia.org/wiki/Adjacency_list)\n",
    "and you must create a module `M` with the following signature:"
   ]
  },
  {
   "cell_type": "code",
   "execution_count": null,
   "id": "f9865337",
   "metadata": {},
   "outputs": [],
   "source": []
  },
  {
   "cell_type": "markdown",
   "id": "633581b3",
   "metadata": {},
   "source": [
    "## Try It Out!\n",
    "\n",
    "Test the function with different inputs and see the results. Modify the function if needed."
   ]
  },
  {
   "cell_type": "code",
   "execution_count": null,
   "id": "ca52dd2a",
   "metadata": {},
   "outputs": [],
   "source": [
    "let g = M.of_adjacency"
   ]
  },
  {
   "cell_type": "markdown",
   "id": "6eff3019",
   "metadata": {},
   "source": [
    "## Run Test Cases\n",
    "\n",
    "Run the cell below to run pre-defined test cases and to see if your implementation passes them."
   ]
  },
  {
   "cell_type": "code",
   "execution_count": null,
   "id": "2a4c3832",
   "metadata": {},
   "outputs": [],
   "source": [
    "#use \"./tests/087.ml\""
   ]
  },
  {
   "cell_type": "markdown",
   "id": "4834a496",
   "metadata": {},
   "source": [
    "## Solution\n",
    "<details>\n",
    "<summary>Click here for the solution</summary>\n",
    "\n",
    "```ocaml\n",
    "\n",
    "```\n",
    "</details>"
   ]
  }
 ],
 "metadata": {},
 "nbformat": 4,
 "nbformat_minor": 5
}
