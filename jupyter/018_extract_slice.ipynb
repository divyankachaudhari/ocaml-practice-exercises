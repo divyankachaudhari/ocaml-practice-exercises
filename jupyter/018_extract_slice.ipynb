{
 "cells": [
  {
   "cell_type": "markdown",
   "id": "de97e9fc",
   "metadata": {},
   "source": [
    "# Question 018: Extract a Slice From a List\n",
    "\n",
    "Extract a slice of a list between indices i and k, both inclusive, using 0-based indexing.\n",
    "\n",
    "## Exercise Instructions\n",
    "\n",
    "**Implement the function definition below.**\n",
    "\n",
    "Given two indices, `i` and `k`, the slice is the list containing the\n",
    "elements between the `i`'th and `k`'th element of the original list\n",
    "(both limits included). Start counting the elements with 0 (this is the\n",
    "way the `List` module numbers elements)."
   ]
  },
  {
   "cell_type": "code",
   "execution_count": null,
   "id": "56fcac4c",
   "metadata": {
    "vscode": {
     "languageId": "ocaml"
    }
   },
   "outputs": [],
   "source": [
    "let slice _ _ _ = failwith \"Not yet implemented\""
   ]
  },
  {
   "cell_type": "markdown",
   "id": "50c74db4",
   "metadata": {},
   "source": [
    "## Try It Out!\n",
    "\n",
    "Test the function with different inputs and see the results. Modify the function if needed."
   ]
  },
  {
   "cell_type": "code",
   "execution_count": null,
   "id": "17891390",
   "metadata": {
    "vscode": {
     "languageId": "ocaml"
    }
   },
   "outputs": [],
   "source": [
    "slice [\"a\"; \"b\"; \"c\"; \"d\"; \"e\"; \"f\"; \"g\"; \"h\"; \"i\"; \"j\"] 2 6;;"
   ]
  },
  {
   "cell_type": "markdown",
   "id": "c69b5835",
   "metadata": {},
   "source": [
    "## Run Test Cases\n",
    "\n",
    "Run the cell below to run pre-defined test cases and to see if your implementation passes them."
   ]
  },
  {
   "cell_type": "code",
   "execution_count": null,
   "id": "18d10211",
   "metadata": {
    "vscode": {
     "languageId": "ocaml"
    }
   },
   "outputs": [],
   "source": [
    "#use \"topfind\";;\n",
    "#require \"alcotest\";;\n",
    "#use \"./tests/018.ml\""
   ]
  },
  {
   "cell_type": "markdown",
   "id": "f5c54e07",
   "metadata": {},
   "source": [
    "## Solution\n",
    "<details>\n",
    "<summary>Click here for the solution</summary>\n",
    "\n",
    "```ocaml\n",
    "let slice list i k = \n",
    "  List.filteri (fun index _ -> index >= i && index <= k) list\n",
    "\n",
    "```\n",
    "</details>"
   ]
  }
 ],
 "metadata": {
  "kernelspec": {
   "display_name": "OCaml 4.14.0",
   "language": "OCaml",
   "name": "ocaml-jupyter"
  },
  "language_info": {
   "name": "OCaml"
  }
 },
 "nbformat": 4,
 "nbformat_minor": 5
}
