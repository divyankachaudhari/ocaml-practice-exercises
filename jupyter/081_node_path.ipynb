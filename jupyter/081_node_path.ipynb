{
 "cells": [
  {
   "cell_type": "markdown",
   "id": "88220a45",
   "metadata": {},
   "source": [
    "# Question 081: Path From One Node to Another One\n",
    "\n",
    "Return all acyclic paths between two nodes a and b in a given graph.\n",
    "\n",
    "## Exercise Instructions\n",
    "\n",
    "**Implement the function definition below.**\n",
    "\n",
    "Write a function `paths g a b` that returns all acyclic path `p` from\n",
    "node `a` to node `b ≠ a` in the graph `g`. The function should return\n",
    "the list of all paths via backtracking."
   ]
  },
  {
   "cell_type": "code",
   "execution_count": null,
   "id": "ff3a4e40",
   "metadata": {},
   "outputs": [],
   "source": []
  },
  {
   "cell_type": "markdown",
   "id": "c13bbfc9",
   "metadata": {},
   "source": [
    "## Try It Out!\n",
    "\n",
    "Test the function with different inputs and see the results. Modify the function if needed."
   ]
  },
  {
   "cell_type": "code",
   "execution_count": null,
   "id": "1dcee0be",
   "metadata": {},
   "outputs": [],
   "source": [
    "let example_graph ="
   ]
  },
  {
   "cell_type": "markdown",
   "id": "fdfa66ba",
   "metadata": {},
   "source": [
    "## Run Test Cases\n",
    "\n",
    "Run the cell below to run pre-defined test cases and to see if your implementation passes them."
   ]
  },
  {
   "cell_type": "code",
   "execution_count": null,
   "id": "c84409e8",
   "metadata": {},
   "outputs": [],
   "source": [
    "#use \"./tests/081.ml\""
   ]
  },
  {
   "cell_type": "markdown",
   "id": "912be234",
   "metadata": {},
   "source": [
    "## Solution\n",
    "<details>\n",
    "<summary>Click here for the solution</summary>\n",
    "\n",
    "```ocaml\n",
    "\n",
    "```\n",
    "</details>"
   ]
  }
 ],
 "metadata": {},
 "nbformat": 4,
 "nbformat_minor": 5
}
