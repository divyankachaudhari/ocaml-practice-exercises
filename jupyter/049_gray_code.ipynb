{
 "cells": [
  {
   "cell_type": "markdown",
   "id": "3671e3d0",
   "metadata": {},
   "source": [
    "# Question 049: Gray Code\n",
    "\n",
    "Generate the n-bit Gray code sequence following certain construction rules using the gray function.\n",
    "\n",
    "## Exercise Instructions\n",
    "\n",
    "**Implement the function definition below.**\n",
    "\n",
    "An n-bit Gray code is a sequence of n-bit strings constructed according\n",
    "to certain rules. For example,"
   ]
  },
  {
   "cell_type": "code",
   "execution_count": null,
   "id": "8f5b1a6f",
   "metadata": {},
   "outputs": [],
   "source": [
    "let gray _ = failwith \"Not yet implemented\"\n"
   ]
  },
  {
   "cell_type": "markdown",
   "id": "4e37bb13",
   "metadata": {},
   "source": [
    "## Try It Out!\n",
    "\n",
    "Test the function with different inputs and see the results. Modify the function if needed."
   ]
  },
  {
   "cell_type": "code",
   "execution_count": null,
   "id": "a4d222be",
   "metadata": {},
   "outputs": [],
   "source": [
    "gray 1;;"
   ]
  },
  {
   "cell_type": "markdown",
   "id": "0705c658",
   "metadata": {},
   "source": [
    "## Run Test Cases\n",
    "\n",
    "Run the cell below to run pre-defined test cases and to see if your implementation passes them."
   ]
  },
  {
   "cell_type": "code",
   "execution_count": null,
   "id": "0c86f628",
   "metadata": {},
   "outputs": [],
   "source": [
    "#use \"./tests/049.ml\""
   ]
  },
  {
   "cell_type": "markdown",
   "id": "1ab51e8b",
   "metadata": {},
   "source": [
    "## Solution\n",
    "<details>\n",
    "<summary>Click here for the solution</summary>\n",
    "\n",
    "```ocaml\n",
    "let gray n =\n",
    "  let rec gray_next_level k l =\n",
    "    if k < n then\n",
    "      let (first_half,second_half) =\n",
    "          List.fold_left (fun (acc1,acc2) x ->\n",
    "              ((\"0\" ^ x) :: acc1, (\"1\" ^ x) :: acc2)) ([], []) l\n",
    "      in\n",
    "      gray_next_level (k + 1) (List.rev_append first_half second_half)\n",
    "    else l\n",
    "  in\n",
    "  gray_next_level 1 [\"0\"; \"1\"]\n",
    "\n",
    "\n",
    "\n",
    "```\n",
    "</details>"
   ]
  }
 ],
 "metadata": {},
 "nbformat": 4,
 "nbformat_minor": 5
}
