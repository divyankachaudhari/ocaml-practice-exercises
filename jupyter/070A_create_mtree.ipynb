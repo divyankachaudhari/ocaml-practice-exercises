{
 "cells": [
  {
   "cell_type": "markdown",
   "id": "ec3161e5",
   "metadata": {},
   "source": [
    "# Question 070A: Tree Construction From a Node String\n",
    "\n",
    "Convert multiway trees into depth-first order sequence strings and vice versa, where nodes are single characters.\n",
    "\n",
    "## Exercise Instructions\n",
    "\n",
    "**Implement the function definition below.**\n",
    "\n",
    "![Multiway Tree](/media/problems/multiway-tree.gif)\n",
    "\n",
    "*A multiway tree is composed of a root element and a (possibly empty)\n",
    "set of successors which are multiway trees themselves. A multiway tree\n",
    "is never empty. The set of successor trees is sometimes called a\n",
    "forest.*\n",
    "\n",
    "To represent multiway trees, we will use the following type which is a\n",
    "direct translation of the definition:"
   ]
  },
  {
   "cell_type": "code",
   "execution_count": null,
   "id": "26f9e356",
   "metadata": {},
   "outputs": [],
   "source": []
  },
  {
   "cell_type": "markdown",
   "id": "2fa37395",
   "metadata": {},
   "source": [
    "## Try It Out!\n",
    "\n",
    "Test the function with different inputs and see the results. Modify the function if needed."
   ]
  },
  {
   "cell_type": "code",
   "execution_count": null,
   "id": "fc784806",
   "metadata": {},
   "outputs": [],
   "source": [
    "let t = T ('a', [T ('f', [T ('g', [])]); T ('c', []);"
   ]
  },
  {
   "cell_type": "markdown",
   "id": "0d841676",
   "metadata": {},
   "source": [
    "## Run Test Cases\n",
    "\n",
    "Run the cell below to run pre-defined test cases and to see if your implementation passes them."
   ]
  },
  {
   "cell_type": "code",
   "execution_count": null,
   "id": "90b56e6c",
   "metadata": {},
   "outputs": [],
   "source": [
    "#use \"./tests/070A.ml\""
   ]
  },
  {
   "cell_type": "markdown",
   "id": "c9c8b0a5",
   "metadata": {},
   "source": [
    "## Solution\n",
    "<details>\n",
    "<summary>Click here for the solution</summary>\n",
    "\n",
    "```ocaml\n",
    "\n",
    "```\n",
    "</details>"
   ]
  }
 ],
 "metadata": {},
 "nbformat": 4,
 "nbformat_minor": 5
}
