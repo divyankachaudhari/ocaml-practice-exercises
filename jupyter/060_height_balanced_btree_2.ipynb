{
 "cells": [
  {
   "cell_type": "markdown",
   "id": "134847a0",
   "metadata": {},
   "source": [
    "# Question 060: Construct Height-Balanced Binary Trees With a Given Number of Nodes\n",
    "\n",
    "Calculate the maximum and minimum number of nodes, height, and generate all height-balanced binary trees.\n",
    "\n",
    "## Exercise Instructions\n",
    "\n",
    "**Implement the function definition below.**\n",
    "\n",
    "Consider a height-balanced binary tree of height `h`. What is the\n",
    "maximum number of nodes it can contain? Clearly,\n",
    "max_nodes = 2<sup>`h`</sup> - 1."
   ]
  },
  {
   "cell_type": "code",
   "execution_count": null,
   "id": "9b622f28",
   "metadata": {
    "vscode": {
     "languageId": "ocaml"
    }
   },
   "outputs": [],
   "source": [
    "type 'a binary_tree =\n",
    "    | Empty\n",
    "    | Node of 'a * 'a binary_tree * 'a binary_tree\n",
    "    \n",
    "let max_nodes h = 1 lsl h - 1\n",
    "\n",
    "let hbal_tree_nodes _ = failwith \"Not yet implemented\"\n",
    "\n",
    "let min_nodes _ = failwith \"Not yet implemented\""
   ]
  },
  {
   "cell_type": "markdown",
   "id": "212087d4",
   "metadata": {},
   "source": [
    "## Try It Out!\n",
    "\n",
    "Test the function with different inputs and see the results. Modify the function if needed."
   ]
  },
  {
   "cell_type": "code",
   "execution_count": null,
   "id": "ff48fc5e",
   "metadata": {
    "vscode": {
     "languageId": "ocaml"
    }
   },
   "outputs": [],
   "source": [
    "List.length (hbal_tree_nodes 15);;"
   ]
  },
  {
   "cell_type": "markdown",
   "id": "d7ed86d1",
   "metadata": {},
   "source": [
    "## Run Test Cases\n",
    "\n",
    "Run the cell below to run pre-defined test cases and to see if your implementation passes them."
   ]
  },
  {
   "cell_type": "code",
   "execution_count": null,
   "id": "cdf13ee3",
   "metadata": {
    "vscode": {
     "languageId": "ocaml"
    }
   },
   "outputs": [],
   "source": [
    "#use \"topfind\";;\n",
    "#require \"alcotest\";;\n",
    "#use \"./tests/060.ml\""
   ]
  },
  {
   "cell_type": "markdown",
   "id": "a7e6b836",
   "metadata": {},
   "source": [
    "## Solution\n",
    "<details>\n",
    "<summary>Click here for the solution</summary>\n",
    "\n",
    "```ocaml\n",
    "type 'a binary_tree =\n",
    "  | Empty\n",
    "  | Node of 'a * 'a binary_tree * 'a binary_tree\n",
    "\n",
    "let max_nodes h =\n",
    "  if h >= 32 then\n",
    "    raise (Invalid_argument \"max_nodes\")\n",
    "  else\n",
    "    1 lsl h - 1\n",
    "\n",
    "let rec min_nodes_loop m0 m1 h =\n",
    "  if h <= 1 then m1\n",
    "  else min_nodes_loop m1 (m1 + m0 + 1) (h - 1)\n",
    "\n",
    "let min_nodes h =\n",
    "  if h <= 0 then 0 else min_nodes_loop 0 1 h\n",
    "\n",
    "let rec ceil_log2_loop log plus1 n =\n",
    "  if n = 1 then if plus1 then log + 1 else log\n",
    "  else ceil_log2_loop (log + 1) (plus1 || n land 1 <> 0) (n / 2)\n",
    "\n",
    "let min_height n = ceil_log2_loop 0 false (n + 1)\n",
    "\n",
    "let rec max_height_search h m_h m_h1 n =\n",
    "  if m_h <= n then max_height_search (h + 1) m_h1 (m_h1 + m_h + 1) n else h - 1\n",
    "\n",
    "let max_height n = max_height_search 0 0 1 n\n",
    "\n",
    "let rec fold_range ~f ~init n0 n1 =\n",
    "  if n0 > n1 then init else fold_range ~f ~init:(f init n0) (n0 + 1) n1\n",
    "\n",
    "let add_swap_left_right trees =\n",
    "  List.fold_left (fun a n -> match n with\n",
    "                             | Node (v, t1, t2) -> Node (v, t2, t1) :: a\n",
    "                             | Empty -> a) trees trees\n",
    "\n",
    "let rec hbal_tree_nodes_height h n =\n",
    "  assert(min_nodes h <= n && n <= max_nodes h);\n",
    "  if h = 0 then [Empty]\n",
    "  else\n",
    "    let acc = add_hbal_tree_node [] (h - 1) (h - 2) n in\n",
    "    let acc = add_swap_left_right acc in\n",
    "    add_hbal_tree_node acc (h - 1) (h - 1) n\n",
    "\n",
    "and add_hbal_tree_node l h1 h2 n =\n",
    "  let min_n1 = max (min_nodes h1) (n - 1 - max_nodes h2) in\n",
    "  let max_n1 = min (max_nodes h1) (n - 1 - min_nodes h2) in\n",
    "  fold_range min_n1 max_n1 ~init:l ~f:(fun l n1 ->\n",
    "      let t1 = hbal_tree_nodes_height h1 n1 in\n",
    "      let t2 = hbal_tree_nodes_height h2 (n - 1 - n1) in\n",
    "      List.fold_left (fun l t1 ->\n",
    "          List.fold_left (fun l t2 -> Node ('x', t1, t2) :: l) l t2) l t1\n",
    "    )\n",
    "\n",
    "let hbal_tree_nodes n =\n",
    "  fold_range (min_height n) (max_height n) ~init:[] ~f:(fun l h ->\n",
    "      List.rev_append (hbal_tree_nodes_height h n) l)\n",
    "\n",
    "```\n",
    "</details>"
   ]
  }
 ],
 "metadata": {
  "kernelspec": {
   "display_name": "OCaml 4.14.0",
   "language": "OCaml",
   "name": "ocaml-jupyter"
  },
  "language_info": {
   "name": "OCaml"
  }
 },
 "nbformat": 4,
 "nbformat_minor": 5
}
