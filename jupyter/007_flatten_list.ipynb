{
 "cells": [
  {
   "cell_type": "markdown",
   "id": "8cd9407f",
   "metadata": {},
   "source": [
    "# Question 007: Flatten a List\n",
    "\n",
    "Write a function that flattens a nested list structure represented by the 'a node type.\n",
    "\n",
    "## Exercise Instructions\n",
    "\n",
    "**Implement the function definition below.**\n",
    "\n",
    "Flatten a nested list structure."
   ]
  },
  {
   "cell_type": "code",
   "execution_count": 2,
   "id": "42a0216d",
   "metadata": {},
   "outputs": [
    {
     "data": {
      "text/plain": [
       "type 'a node = One of 'a | Many of 'a node list\n"
      ]
     },
     "execution_count": 2,
     "metadata": {},
     "output_type": "execute_result"
    },
    {
     "data": {
      "text/plain": [
       "val flatten : 'a node list -> 'a list = <fun>\n"
      ]
     },
     "execution_count": 2,
     "metadata": {},
     "output_type": "execute_result"
    }
   ],
   "source": [
    "type 'a node =\n",
    "    | One of 'a \n",
    "    | Many of 'a node list\n",
    "\n",
    "let flatten list =\n",
    "  let rec aux acc = function\n",
    "    | [] -> acc\n",
    "    | One x :: t -> aux (x :: acc) t\n",
    "    | Many l :: t -> aux (aux acc l) t\n",
    "  in\n",
    "  List.rev (aux [] list)"
   ]
  },
  {
   "cell_type": "markdown",
   "id": "5829b224",
   "metadata": {},
   "source": [
    "## Try It Out!\n",
    "\n",
    "Test the function with different inputs and see the results. Modify the function if needed."
   ]
  },
  {
   "cell_type": "code",
   "execution_count": 3,
   "id": "5fa78a31",
   "metadata": {},
   "outputs": [
    {
     "data": {
      "text/plain": [
       "- : string list = [\"a\"; \"b\"; \"c\"; \"d\"; \"e\"]\n"
      ]
     },
     "execution_count": 3,
     "metadata": {},
     "output_type": "execute_result"
    }
   ],
   "source": [
    "flatten [One \"a\"; Many [One \"b\"; Many [One \"c\" ;One \"d\"]; One \"e\"]];;"
   ]
  },
  {
   "cell_type": "markdown",
   "id": "ba0291ac",
   "metadata": {},
   "source": [
    "## Run Test Cases\n",
    "\n",
    "Run the cell below to run pre-defined test cases and to see if your implementation passes them."
   ]
  },
  {
   "cell_type": "code",
   "execution_count": 4,
   "id": "50967da2",
   "metadata": {},
   "outputs": [
    {
     "name": "stdout",
     "output_type": "stream",
     "text": [
      "File \"./tests/007.ml\", line 22, characters 18-21:\n",
      "22 |     assert_equal [\"a\"; \"b\"; \"c\"; \"d\"; \"e\"] (Tested.flatten [One \"a\"; Many [One \"b\"; Many [One \"c\" ;One \"d\"]; One \"e\"]]);\n",
      "                       ^^^\n",
      "Error: This expression has type string but an expression was expected of type\n",
      "         int\n"
     ]
    }
   ],
   "source": [
    "#use \"./tests/007.ml\""
   ]
  },
  {
   "cell_type": "markdown",
   "id": "6591c14f",
   "metadata": {},
   "source": [
    "## Solution\n",
    "<details>\n",
    "<summary>Click here for the solution</summary>\n",
    "\n",
    "```ocaml\n",
    "type 'a node =\n",
    "    | One of 'a \n",
    "    | Many of 'a node list\n",
    "\n",
    "let flatten list =\n",
    "  let rec aux acc = function\n",
    "    | [] -> acc\n",
    "    | One x :: t -> aux (x :: acc) t\n",
    "    | Many l :: t -> aux (aux acc l) t\n",
    "  in\n",
    "  List.rev (aux [] list)\n",
    "\n",
    "```\n",
    "</details>"
   ]
  }
 ],
 "metadata": {
  "kernelspec": {
   "display_name": "OCaml 4.14.0",
   "language": "OCaml",
   "name": "ocaml-jupyter"
  },
  "language_info": {
   "codemirror_mode": "text/x-ocaml",
   "file_extension": ".ml",
   "mimetype": "text/x-ocaml",
   "name": "OCaml",
   "nbconverter_exporter": null,
   "pygments_lexer": "OCaml",
   "version": "4.14.0"
  }
 },
 "nbformat": 4,
 "nbformat_minor": 5
}
