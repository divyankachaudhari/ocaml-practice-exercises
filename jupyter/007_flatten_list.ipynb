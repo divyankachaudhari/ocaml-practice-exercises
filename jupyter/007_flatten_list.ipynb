{
 "cells": [
  {
   "cell_type": "markdown",
   "id": "8cd9407f",
   "metadata": {},
   "source": [
    "# Question 007: Flatten a List\n",
    "\n",
    "Write a function that flattens a nested list structure represented by the 'a node type.\n",
    "\n",
    "## Exercise Instructions\n",
    "\n",
    "**Implement the function definition below.**\n",
    "\n",
    "Flatten a nested list structure."
   ]
  },
  {
   "cell_type": "code",
   "execution_count": null,
   "id": "42a0216d",
   "metadata": {
    "vscode": {
     "languageId": "ocaml"
    }
   },
   "outputs": [],
   "source": [
    "type 'a node =\n",
    "    | One of 'a \n",
    "    | Many of 'a node list\n",
    "\n",
    "let flatten list =\n",
    "  let rec aux acc = function\n",
    "    | [] -> acc\n",
    "    | One x :: t -> aux (x :: acc) t\n",
    "    | Many l :: t -> aux (aux acc l) t\n",
    "  in\n",
    "  List.rev (aux [] list)"
   ]
  },
  {
   "cell_type": "markdown",
   "id": "5829b224",
   "metadata": {},
   "source": [
    "## Try It Out!\n",
    "\n",
    "Test the function with different inputs and see the results. Modify the function if needed."
   ]
  },
  {
   "cell_type": "code",
   "execution_count": null,
   "id": "5fa78a31",
   "metadata": {
    "vscode": {
     "languageId": "ocaml"
    }
   },
   "outputs": [],
   "source": [
    "flatten [One \"a\"; Many [One \"b\"; Many [One \"c\" ;One \"d\"]; One \"e\"]];;"
   ]
  },
  {
   "cell_type": "markdown",
   "id": "ba0291ac",
   "metadata": {},
   "source": [
    "## Run Test Cases\n",
    "\n",
    "Run the cell below to run pre-defined test cases and to see if your implementation passes them."
   ]
  },
  {
   "cell_type": "code",
   "execution_count": null,
   "id": "50967da2",
   "metadata": {
    "vscode": {
     "languageId": "ocaml"
    }
   },
   "outputs": [],
   "source": [
    "#use \"topfind\";;\n",
    "#require \"alcotest\";;\n",
    "#use \"./tests/007.ml\""
   ]
  },
  {
   "cell_type": "markdown",
   "id": "6591c14f",
   "metadata": {},
   "source": [
    "## Solution\n",
    "<details>\n",
    "<summary>Click here for the solution</summary>\n",
    "\n",
    "```ocaml\n",
    "type 'a node =\n",
    "    | One of 'a \n",
    "    | Many of 'a node list\n",
    "\n",
    "let flatten list =\n",
    "  let rec aux acc = function\n",
    "    | [] -> acc\n",
    "    | One x :: t -> aux (x :: acc) t\n",
    "    | Many l :: t -> aux (aux acc l) t\n",
    "  in\n",
    "  List.rev (aux [] list)\n",
    "\n",
    "```\n",
    "</details>"
   ]
  }
 ],
 "metadata": {
  "kernelspec": {
   "display_name": "OCaml 4.14.0",
   "language": "OCaml",
   "name": "ocaml-jupyter"
  },
  "language_info": {
   "codemirror_mode": "text/x-ocaml",
   "file_extension": ".ml",
   "mimetype": "text/x-ocaml",
   "name": "OCaml",
   "nbconverter_exporter": null,
   "pygments_lexer": "OCaml",
   "version": "4.14.0"
  }
 },
 "nbformat": 4,
 "nbformat_minor": 5
}
