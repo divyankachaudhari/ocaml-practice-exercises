{
 "cells": [
  {
   "cell_type": "markdown",
   "id": "1ffcba6c",
   "metadata": {},
   "source": [
    "# Question 064: Layout a Binary Tree (1)\n",
    "\n",
    "Assign coordinates (x, y) to nodes in a binary tree, with x based on the inorder sequence and y based on the depth of the node.\n",
    "\n",
    "## Exercise Instructions\n",
    "\n",
    "**Implement the function definition below.**\n",
    "\n",
    "As a preparation for drawing the tree, a layout algorithm is required to\n",
    "determine the position of each node in a rectangular grid. Several\n",
    "layout methods are conceivable, one of them is shown in the illustration.\n",
    "\n",
    "\n",
    "![Binary Tree Grid](/media/problems/tree-layout1.gif)\n",
    "\n",
    "In this layout strategy, the position of a node v is obtained by the\n",
    "following two rules:\n",
    "\n",
    "* *x(v)* is equal to the position of the node v in the *inorder*\n",
    " sequence;\n",
    "* *y(v)* is equal to the depth of the node *v* in the tree.\n",
    "\n",
    "In order to store the position of the nodes, we will enrich the value\n",
    "at each node with the position `(x,y)`.\n",
    "\n",
    "The tree pictured above is"
   ]
  },
  {
   "cell_type": "code",
   "execution_count": null,
   "id": "3fd87528",
   "metadata": {},
   "outputs": [],
   "source": [
    "type 'a binary_tree =\n",
    "  | Empty\n",
    "  | Node of 'a * 'a binary_tree * 'a binary_tree\n",
    "\n",
    "let layout_binary_tree_1 _ = failwith \"Not yet implemented\"\n"
   ]
  },
  {
   "cell_type": "markdown",
   "id": "8af8c333",
   "metadata": {},
   "source": [
    "## Try It Out!\n",
    "\n",
    "Test the function with different inputs and see the results. Modify the function if needed."
   ]
  },
  {
   "cell_type": "code",
   "execution_count": null,
   "id": "28332140",
   "metadata": {},
   "outputs": [],
   "source": [
    "layout_binary_tree_1 example_layout_tree;;"
   ]
  },
  {
   "cell_type": "markdown",
   "id": "9342bd99",
   "metadata": {},
   "source": [
    "## Run Test Cases\n",
    "\n",
    "Run the cell below to run pre-defined test cases and to see if your implementation passes them."
   ]
  },
  {
   "cell_type": "code",
   "execution_count": null,
   "id": "5c1d5cd5",
   "metadata": {},
   "outputs": [],
   "source": [
    "#use \"./tests/064.ml\""
   ]
  },
  {
   "cell_type": "markdown",
   "id": "9869ae86",
   "metadata": {},
   "source": [
    "## Solution\n",
    "<details>\n",
    "<summary>Click here for the solution</summary>\n",
    "\n",
    "```ocaml\n",
    "type 'a binary_tree =\n",
    "  | Empty\n",
    "  | Node of 'a * 'a binary_tree * 'a binary_tree\n",
    "\n",
    "let layout_binary_tree_1 t =\n",
    "    let rec layout depth x_left = function\n",
    "      (* This function returns a pair: the laid out tree and the first\n",
    "       * free x location *)\n",
    "      | Empty -> (Empty, x_left)\n",
    "      | Node (v,l,r) ->\n",
    "         let (l', l_x_max) = layout (depth + 1) x_left l in\n",
    "         let (r', r_x_max) = layout (depth + 1) (l_x_max + 1) r in\n",
    "           (Node ((v, l_x_max, depth), l', r'), r_x_max)\n",
    "    in\n",
    "      fst (layout 1 1 t)\n",
    "      \n",
    "```\n",
    "</details>"
   ]
  }
 ],
 "metadata": {},
 "nbformat": 4,
 "nbformat_minor": 5
}
