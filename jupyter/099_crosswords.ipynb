{
 "cells": [
  {
   "cell_type": "markdown",
   "id": "dd2091df",
   "metadata": {},
   "source": [
    "# Question 099: Crossword Puzzle\n",
    "\n",
    "Fill in the crossword puzzle according to the given framework and word list.\n",
    "\n",
    "## Exercise Instructions\n",
    "\n",
    "**Implement the function definition below.**\n",
    "\n",
    "![Crossword](/media/problems/crossword.gif)\n",
    "\n",
    "Given an empty (or almost empty) framework of a crossword puzzle and a\n",
    "set of words. The problem is to place the words into the framework.\n",
    "\n",
    "The particular crossword puzzle is specified in a text file which first\n",
    "lists the words (one word per line) in an arbitrary order. Then, after\n",
    "an empty line, the crossword framework is defined. In this framework\n",
    "specification, an empty character location is represented by a dot (.).\n",
    "In order to make the solution easier, character locations can also\n",
    "contain predefined character values. The puzzle above is defined in the\n",
    "file\n",
    "[p7_09a.dat](https://sites.google.com/site/prologsite/prolog-problems/7/solutions-7/p7_09a.dat?attredirects=0&d=1),\n",
    "other examples are\n",
    "[p7_09b.dat](https://sites.google.com/site/prologsite/prolog-problems/7/solutions-7/p7_09b.dat?attredirects=0&d=1)\n",
    "and\n",
    "[p7_09d.dat](https://sites.google.com/site/prologsite/prolog-problems/7/solutions-7/p7_09d.dat?attredirects=0&d=1).\n",
    "There is also an example of a puzzle\n",
    "([p7_09c.dat](https://sites.google.com/site/prologsite/prolog-problems/7/solutions-7/p7_09c.dat?attredirects=0&d=1))\n",
    "which does not have a solution.\n",
    "\n",
    "Words are strings (character lists) of at least two characters. A\n",
    "horizontal or vertical sequence of character places in the crossword\n",
    "puzzle framework is called a site. Our problem is to find a compatible\n",
    "way of placing words onto sites.\n",
    "\n",
    "**Hints:**\n",
    "\n",
    "1. The problem is not easy. You will need some time to thoroughly\n",
    " understand it. So, don't give up too early! And remember that the\n",
    " objective is a clean solution, not just a quick-and-dirty hack!\n",
    "1. For efficiency reasons it is important, at least for larger puzzles,\n",
    " to sort the words and the sites in a particular order."
   ]
  },
  {
   "cell_type": "code",
   "execution_count": null,
   "id": "59a45f26",
   "metadata": {},
   "outputs": [],
   "source": []
  },
  {
   "cell_type": "markdown",
   "id": "6269c6ea",
   "metadata": {},
   "source": [
    "## Try It Out!\n",
    "\n",
    "Test the function with different inputs and see the results. Modify the function if needed."
   ]
  },
  {
   "cell_type": "code",
   "execution_count": null,
   "id": "4f1ce4a9",
   "metadata": {},
   "outputs": [],
   "source": [
    "(* example pending *);;"
   ]
  },
  {
   "cell_type": "markdown",
   "id": "1410b97a",
   "metadata": {},
   "source": [
    "## Run Test Cases\n",
    "\n",
    "Run the cell below to run pre-defined test cases and to see if your implementation passes them."
   ]
  },
  {
   "cell_type": "code",
   "execution_count": null,
   "id": "95fd7070",
   "metadata": {},
   "outputs": [],
   "source": [
    "#use \"./tests/099.ml\""
   ]
  },
  {
   "cell_type": "markdown",
   "id": "20aef73b",
   "metadata": {},
   "source": [
    "## Solution\n",
    "<details>\n",
    "<summary>Click here for the solution</summary>\n",
    "\n",
    "```ocaml\n",
    "\n",
    "```\n",
    "</details>"
   ]
  }
 ],
 "metadata": {},
 "nbformat": 4,
 "nbformat_minor": 5
}
