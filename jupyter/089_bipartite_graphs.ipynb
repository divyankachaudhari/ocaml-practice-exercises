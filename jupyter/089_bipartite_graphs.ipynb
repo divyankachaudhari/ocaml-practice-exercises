{
 "cells": [
  {
   "cell_type": "markdown",
   "id": "523b4260",
   "metadata": {},
   "source": [
    "# Question 089: Bipartite Graphs\n",
    "\n",
    "Determine whether a given graph is bipartite.\n",
    "\n",
    "## Exercise Instructions\n",
    "\n",
    "**Implement the function definition below.**\n",
    "\n",
    "Write a predicate that finds out whether a given graph is\n",
    "[bipartite](http://en.wikipedia.org/wiki/Bipartite_graph)."
   ]
  },
  {
   "cell_type": "code",
   "execution_count": null,
   "id": "21506e3c",
   "metadata": {},
   "outputs": [],
   "source": []
  },
  {
   "cell_type": "markdown",
   "id": "246d2b18",
   "metadata": {},
   "source": [
    "## Try It Out!\n",
    "\n",
    "Test the function with different inputs and see the results. Modify the function if needed."
   ]
  },
  {
   "cell_type": "code",
   "execution_count": null,
   "id": "6fe2e573",
   "metadata": {},
   "outputs": [],
   "source": [
    "(* example pending *);;"
   ]
  },
  {
   "cell_type": "markdown",
   "id": "b7d0ef05",
   "metadata": {},
   "source": [
    "## Run Test Cases\n",
    "\n",
    "Run the cell below to run pre-defined test cases and to see if your implementation passes them."
   ]
  },
  {
   "cell_type": "code",
   "execution_count": null,
   "id": "c9493bd9",
   "metadata": {},
   "outputs": [],
   "source": [
    "#use \"./tests/089.ml\""
   ]
  },
  {
   "cell_type": "markdown",
   "id": "86d57853",
   "metadata": {},
   "source": [
    "## Solution\n",
    "<details>\n",
    "<summary>Click here for the solution</summary>\n",
    "\n",
    "```ocaml\n",
    "\n",
    "```\n",
    "</details>"
   ]
  }
 ],
 "metadata": {},
 "nbformat": 4,
 "nbformat_minor": 5
}
