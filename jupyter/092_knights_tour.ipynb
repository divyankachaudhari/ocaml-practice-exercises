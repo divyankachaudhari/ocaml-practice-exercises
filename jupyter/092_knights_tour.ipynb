{
 "cells": [
  {
   "cell_type": "markdown",
   "id": "b9554898",
   "metadata": {},
   "source": [
    "# Question 092: Knight's Tour\n",
    "\n",
    "Determine a sequence of knight's moves on an N×N chessboard such that the knight visits every square exactly once.\n",
    "\n",
    "## Exercise Instructions\n",
    "\n",
    "**Implement the function definition below.**\n",
    "\n",
    "Another famous problem is this one: How can a knight jump on an N×N\n",
    "chessboard in such a way that it visits every square exactly once?\n",
    "\n",
    "**Hint:** Represent the squares by pairs of their coordinates `(x,y)`,\n",
    "where both `x` and `y` are integers between 1 and N. Define the function\n",
    "`jump n (x,y)` that returns all coordinates `(u,v)` to which a\n",
    "knight can jump from `(x,y)` to on a `n`×`n` chessboard. And finally,\n",
    "represent the solution of our problem as a list knight positions (the\n",
    "knight's tour)."
   ]
  },
  {
   "cell_type": "code",
   "execution_count": null,
   "id": "4f108c70",
   "metadata": {},
   "outputs": [],
   "source": []
  },
  {
   "cell_type": "markdown",
   "id": "67c9908f",
   "metadata": {},
   "source": [
    "## Try It Out!\n",
    "\n",
    "Test the function with different inputs and see the results. Modify the function if needed."
   ]
  },
  {
   "cell_type": "code",
   "execution_count": null,
   "id": "29774f27",
   "metadata": {},
   "outputs": [],
   "source": [
    "(* example pending *);;"
   ]
  },
  {
   "cell_type": "markdown",
   "id": "032e7f3b",
   "metadata": {},
   "source": [
    "## Run Test Cases\n",
    "\n",
    "Run the cell below to run pre-defined test cases and to see if your implementation passes them."
   ]
  },
  {
   "cell_type": "code",
   "execution_count": null,
   "id": "6201e1b6",
   "metadata": {},
   "outputs": [],
   "source": [
    "#use \"./tests/092.ml\""
   ]
  },
  {
   "cell_type": "markdown",
   "id": "2a0158c6",
   "metadata": {},
   "source": [
    "## Solution\n",
    "<details>\n",
    "<summary>Click here for the solution</summary>\n",
    "\n",
    "```ocaml\n",
    "\n",
    "```\n",
    "</details>"
   ]
  }
 ],
 "metadata": {},
 "nbformat": 4,
 "nbformat_minor": 5
}
