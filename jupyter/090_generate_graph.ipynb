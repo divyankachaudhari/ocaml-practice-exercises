{
 "cells": [
  {
   "cell_type": "markdown",
   "id": "c6e0b27e",
   "metadata": {},
   "source": [
    "# Question 090: Generate K-Regular Simple Graphs With N Nodes\n",
    "\n",
    "Count the number of non-isomorphic 3-regular graphs with 6 nodes.\n",
    "\n",
    "## Exercise Instructions\n",
    "\n",
    "**Implement the function definition below.**\n",
    "\n",
    "In a [K-regular graph](http://en.wikipedia.org/wiki/K-regular_graph) all\n",
    "nodes have a degree of K; i.e. the number of edges incident in each node\n",
    "is K. How many (non-isomorphic!) 3-regular graphs with 6 nodes are\n",
    "there?\n",
    "\n",
    "See also the [table of results](https://sites.google.com/site/prologsite/prolog-problems/6/solutions-6/p6_11.txt?attredirects=0&d=1)."
   ]
  },
  {
   "cell_type": "code",
   "execution_count": null,
   "id": "d36f5e38",
   "metadata": {},
   "outputs": [],
   "source": []
  },
  {
   "cell_type": "markdown",
   "id": "aa9093e7",
   "metadata": {},
   "source": [
    "## Try It Out!\n",
    "\n",
    "Test the function with different inputs and see the results. Modify the function if needed."
   ]
  },
  {
   "cell_type": "code",
   "execution_count": null,
   "id": "6598b320",
   "metadata": {},
   "outputs": [],
   "source": [
    "(* example pending *);;"
   ]
  },
  {
   "cell_type": "markdown",
   "id": "65b44e1e",
   "metadata": {},
   "source": [
    "## Run Test Cases\n",
    "\n",
    "Run the cell below to run pre-defined test cases and to see if your implementation passes them."
   ]
  },
  {
   "cell_type": "code",
   "execution_count": null,
   "id": "d9c84a1d",
   "metadata": {},
   "outputs": [],
   "source": [
    "#use \"./tests/090.ml\""
   ]
  },
  {
   "cell_type": "markdown",
   "id": "b0650791",
   "metadata": {},
   "source": [
    "## Solution\n",
    "<details>\n",
    "<summary>Click here for the solution</summary>\n",
    "\n",
    "```ocaml\n",
    "\n",
    "```\n",
    "</details>"
   ]
  }
 ],
 "metadata": {},
 "nbformat": 4,
 "nbformat_minor": 5
}
