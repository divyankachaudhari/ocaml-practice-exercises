{
 "cells": [
  {
   "cell_type": "markdown",
   "id": "b59c4ae9",
   "metadata": {},
   "source": [
    "# Question 066: Layout a Binary Tree (3)\n",
    "\n",
    "Arrange a binary tree with symmetrical spacing between nodes and specific horizontal distances.\n",
    "\n",
    "## Exercise Instructions\n",
    "\n",
    "**Implement the function definition below.**\n",
    "\n",
    "![Binary Tree Grid](/media/problems/tree-layout3.gif)\n",
    "\n",
    "Yet another layout strategy is shown in the above illustration. The\n",
    "method yields a very compact layout while maintaining a certain symmetry\n",
    "in every node. Find out the rules and write the corresponding\n",
    "predicate.\n",
    "\n",
    "**Hint:** Consider the horizontal distance between a node and its successor\n",
    "nodes. How tight can you pack together two subtrees to construct the\n",
    "combined binary tree? This is a difficult problem. Don't give up too\n",
    "early!"
   ]
  },
  {
   "cell_type": "code",
   "execution_count": null,
   "id": "6699d5e2",
   "metadata": {
    "vscode": {
     "languageId": "ocaml"
    }
   },
   "outputs": [],
   "source": [
    "type 'a binary_tree =\n",
    "  | Empty\n",
    "  | Node of 'a * 'a binary_tree * 'a binary_tree\n",
    "\n",
    "let layout_binary_tree_3 _ = failwith \"Not yet implemented\"\n"
   ]
  },
  {
   "cell_type": "markdown",
   "id": "c5054562",
   "metadata": {},
   "source": [
    "## Try It Out!\n",
    "\n",
    "Test the function with different inputs and see the results. Modify the function if needed."
   ]
  },
  {
   "cell_type": "code",
   "execution_count": null,
   "id": "b1630926",
   "metadata": {
    "vscode": {
     "languageId": "ocaml"
    }
   },
   "outputs": [],
   "source": [
    "let example_layout_tree ="
   ]
  },
  {
   "cell_type": "markdown",
   "id": "c3b09f1e",
   "metadata": {},
   "source": [
    "## Run Test Cases\n",
    "\n",
    "Run the cell below to run pre-defined test cases and to see if your implementation passes them."
   ]
  },
  {
   "cell_type": "code",
   "execution_count": null,
   "id": "978439ad",
   "metadata": {
    "vscode": {
     "languageId": "ocaml"
    }
   },
   "outputs": [],
   "source": [
    "#use \"topfind\";;\n",
    "#require \"alcotest\";;\n",
    "#use \"./tests/066.ml\""
   ]
  },
  {
   "cell_type": "markdown",
   "id": "c1474a07",
   "metadata": {},
   "source": [
    "## Solution\n",
    "<details>\n",
    "<summary>Click here for the solution</summary>\n",
    "\n",
    "```ocaml\n",
    "type 'a binary_tree =\n",
    "  | Empty\n",
    "  | Node of 'a * 'a binary_tree * 'a binary_tree\n",
    "\n",
    "let layout_binary_tree_3 =\n",
    "    let rec translate_x d = function\n",
    "      | Empty -> Empty\n",
    "      | Node ((v, x, y), l, r) ->\n",
    "         Node ((v, x + d, y), translate_x d l, translate_x d r) in\n",
    "    (* Distance between a left subtree given by its right profile [lr]\n",
    "       and a right subtree given by its left profile [rl]. *)\n",
    "    let rec dist lr rl = match lr, rl with\n",
    "      | lrx :: ltl, rlx :: rtl -> max (lrx - rlx) (dist ltl rtl)\n",
    "      | [], _ | _, [] -> 0 in\n",
    "    let rec merge_profiles p1 p2 = match p1, p2 with\n",
    "      | x1 :: tl1, _ :: tl2 -> x1 :: merge_profiles tl1 tl2\n",
    "      | [], _ -> p2\n",
    "      | _, [] -> p1 in\n",
    "    let rec layout depth = function\n",
    "      | Empty -> ([], Empty, [])\n",
    "      | Node (v, l, r) ->\n",
    "         let (ll, l', lr) = layout (depth + 1) l in\n",
    "         let (rl, r', rr) = layout (depth + 1) r in\n",
    "         let d = 1 + dist lr rl / 2 in\n",
    "         let ll = List.map (fun x -> x - d) ll\n",
    "         and lr = List.map (fun x -> x - d) lr\n",
    "         and rl = List.map ((+) d) rl\n",
    "         and rr = List.map ((+) d) rr in\n",
    "         (0 :: merge_profiles ll rl,\n",
    "          Node((v, 0, depth), translate_x (-d) l', translate_x d r'),\n",
    "          0 :: merge_profiles rr lr) in\n",
    "    fun t -> let (l, t', _) = layout 1 t in\n",
    "             let x_min = List.fold_left min 0 l in\n",
    "             translate_x (1 - x_min) t'\n",
    "             \n",
    "```\n",
    "</details>"
   ]
  }
 ],
 "metadata": {
  "kernelspec": {
   "display_name": "OCaml 4.14.0",
   "language": "OCaml",
   "name": "ocaml-jupyter"
  },
  "language_info": {
   "name": "OCaml"
  }
 },
 "nbformat": 4,
 "nbformat_minor": 5
}
