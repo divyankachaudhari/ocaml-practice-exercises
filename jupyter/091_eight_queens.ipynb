{
 "cells": [
  {
   "cell_type": "markdown",
   "id": "704f80df",
   "metadata": {},
   "source": [
    "# Question 091: Eight Queens Problem\n",
    "\n",
    "Find all the distinct solutions for the Eight Queens puzzle on an N×N chessboard, where no two queens threaten each other.\n",
    "\n",
    "## Exercise Instructions\n",
    "\n",
    "**Implement the function definition below.**\n",
    "\n",
    "This is a classical problem in computer science. The objective is to\n",
    "place eight queens on a chessboard so that no two queens are attacking\n",
    "each other; i.e., no two queens are in the same row, the same column, or\n",
    "on the same diagonal.\n",
    "\n",
    "**Hint:** Represent the positions of the queens as a list of numbers 1..N.\n",
    "Example: `[4; 2; 7; 3; 6; 8; 5; 1]` means that the queen in the first column is\n",
    "in row 4, the queen in the second column is in row 2, etc. Use the\n",
    "generate-and-test paradigm."
   ]
  },
  {
   "cell_type": "code",
   "execution_count": null,
   "id": "5dd6f1e0",
   "metadata": {},
   "outputs": [],
   "source": []
  },
  {
   "cell_type": "markdown",
   "id": "7a8fc3f5",
   "metadata": {},
   "source": [
    "## Try It Out!\n",
    "\n",
    "Test the function with different inputs and see the results. Modify the function if needed."
   ]
  },
  {
   "cell_type": "code",
   "execution_count": null,
   "id": "5d6c149e",
   "metadata": {},
   "outputs": [],
   "source": [
    "queens_positions 4;;"
   ]
  },
  {
   "cell_type": "markdown",
   "id": "ae4799d1",
   "metadata": {},
   "source": [
    "## Run Test Cases\n",
    "\n",
    "Run the cell below to run pre-defined test cases and to see if your implementation passes them."
   ]
  },
  {
   "cell_type": "code",
   "execution_count": null,
   "id": "018de12a",
   "metadata": {},
   "outputs": [],
   "source": [
    "#use \"./tests/091.ml\""
   ]
  },
  {
   "cell_type": "markdown",
   "id": "5c455f2e",
   "metadata": {},
   "source": [
    "## Solution\n",
    "<details>\n",
    "<summary>Click here for the solution</summary>\n",
    "\n",
    "```ocaml\n",
    "\n",
    "```\n",
    "</details>"
   ]
  }
 ],
 "metadata": {},
 "nbformat": 4,
 "nbformat_minor": 5
}
