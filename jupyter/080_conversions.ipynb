{
 "cells": [
  {
   "cell_type": "markdown",
   "id": "221bd2ad",
   "metadata": {},
   "source": [
    "# Question 080: Conversions\n",
    "\n",
    "Convert from edge-clause form (a list of pairs of nodes) to graph-term form (a record with a list of nodes and a list of edges).\n",
    "\n",
    "## Exercise Instructions\n",
    "\n",
    "**Implement the function definition below.**\n",
    "\n",
    "![A graph](/media/problems/graph1.gif)\n",
    "\n",
    "*A graph is defined as a set of nodes and a set of edges, where each\n",
    "edge is a pair of different nodes.*\n",
    "\n",
    "There are several ways to represent graphs in OCaml.\n",
    "\n",
    "* One method is to list all edges, an edge being a pair of nodes. In\n",
    " this form, the graph depicted opposite is represented as the\n",
    " following expression:"
   ]
  },
  {
   "cell_type": "code",
   "execution_count": null,
   "id": "d6d2c31e",
   "metadata": {},
   "outputs": [],
   "source": []
  },
  {
   "cell_type": "markdown",
   "id": "ab4f7fec",
   "metadata": {},
   "source": [
    "## Try It Out!\n",
    "\n",
    "Test the function with different inputs and see the results. Modify the function if needed."
   ]
  },
  {
   "cell_type": "code",
   "execution_count": null,
   "id": "864cd37b",
   "metadata": {},
   "outputs": [],
   "source": [
    "\"b-c f-c g-h d f-b k-f h-g\";;"
   ]
  },
  {
   "cell_type": "markdown",
   "id": "2211f8a8",
   "metadata": {},
   "source": [
    "## Run Test Cases\n",
    "\n",
    "Run the cell below to run pre-defined test cases and to see if your implementation passes them."
   ]
  },
  {
   "cell_type": "code",
   "execution_count": null,
   "id": "ee18ce35",
   "metadata": {},
   "outputs": [],
   "source": [
    "#use \"./tests/080.ml\""
   ]
  },
  {
   "cell_type": "markdown",
   "id": "863a85d0",
   "metadata": {},
   "source": [
    "## Solution\n",
    "<details>\n",
    "<summary>Click here for the solution</summary>\n",
    "\n",
    "```ocaml\n",
    "\n",
    "```\n",
    "</details>"
   ]
  }
 ],
 "metadata": {},
 "nbformat": 4,
 "nbformat_minor": 5
}
