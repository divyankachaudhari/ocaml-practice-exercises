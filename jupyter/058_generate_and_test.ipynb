{
 "cells": [
  {
   "cell_type": "markdown",
   "id": "45526db1",
   "metadata": {},
   "source": [
    "# Question 058: Generate-and-Test Paradigm\n",
    "\n",
    "Generate symmetric, balanced binary trees for a given number of nodes and determine the number of such trees for 57 nodes.\n",
    "\n",
    "## Exercise Instructions\n",
    "\n",
    "**Implement the function definition below.**\n",
    "\n",
    "Apply the generate-and-test paradigm to construct all symmetric,\n",
    "completely balanced binary trees with a given number of nodes."
   ]
  },
  {
   "cell_type": "code",
   "execution_count": null,
   "id": "0711c8a1",
   "metadata": {
    "vscode": {
     "languageId": "ocaml"
    }
   },
   "outputs": [],
   "source": [
    "type 'a binary_tree =\n",
    "  | Empty\n",
    "  | Node of 'a * 'a binary_tree * 'a binary_tree\n",
    "let sym_cbal_trees _ = failwith \"Not yet implemented\""
   ]
  },
  {
   "cell_type": "markdown",
   "id": "172ee99d",
   "metadata": {},
   "source": [
    "## Try It Out!\n",
    "\n",
    "Test the function with different inputs and see the results. Modify the function if needed."
   ]
  },
  {
   "cell_type": "code",
   "execution_count": null,
   "id": "02b9e28a",
   "metadata": {
    "vscode": {
     "languageId": "ocaml"
    }
   },
   "outputs": [],
   "source": [
    "List.length (sym_cbal_trees 57);;"
   ]
  },
  {
   "cell_type": "markdown",
   "id": "15ffbbf2",
   "metadata": {},
   "source": [
    "## Run Test Cases\n",
    "\n",
    "Run the cell below to run pre-defined test cases and to see if your implementation passes them."
   ]
  },
  {
   "cell_type": "code",
   "execution_count": null,
   "id": "44d45e1f",
   "metadata": {
    "vscode": {
     "languageId": "ocaml"
    }
   },
   "outputs": [],
   "source": [
    "#use \"topfind\";;\n",
    "#require \"alcotest\";;\n",
    "#use \"./tests/058.ml\""
   ]
  },
  {
   "cell_type": "markdown",
   "id": "ec49f449",
   "metadata": {},
   "source": [
    "## Solution\n",
    "<details>\n",
    "<summary>Click here for the solution</summary>\n",
    "\n",
    "```ocaml\n",
    "type 'a binary_tree =\n",
    "  | Empty\n",
    "  | Node of 'a * 'a binary_tree * 'a binary_tree\n",
    "\n",
    "let rec is_mirror t1 t2 =\n",
    "  match t1, t2 with\n",
    "  | Empty, Empty -> true\n",
    "  | Node(_, l1, r1), Node(_, l2, r2) ->\n",
    "     is_mirror l1 r2 && is_mirror r1 l2\n",
    "  | _ -> false\n",
    "\n",
    "let is_symmetric = function\n",
    "  | Empty -> true\n",
    "  | Node(_, l, r) -> is_mirror l r\n",
    "\n",
    "let add_trees_with left right all =\n",
    "  let add_right_tree all l =\n",
    "    List.fold_left (fun a r -> Node ('x', l, r) :: a) all right in\n",
    "  List.fold_left add_right_tree all left\n",
    "\n",
    "let rec cbal_tree n =\n",
    "  if n = 0 then [Empty]\n",
    "  else if n mod 2 = 1 then\n",
    "    let t = cbal_tree (n / 2) in\n",
    "    add_trees_with t t []\n",
    "  else (* n even: n-1 nodes for the left & right subtrees altogether. *)\n",
    "    let t1 = cbal_tree (n / 2 - 1) in\n",
    "    let t2 = cbal_tree (n / 2) in\n",
    "    add_trees_with t1 t2 (add_trees_with t2 t1 [])\n",
    "\n",
    "let sym_cbal_trees n =\n",
    "  List.filter is_symmetric (cbal_tree n)\n",
    "\n",
    "```\n",
    "</details>"
   ]
  }
 ],
 "metadata": {
  "kernelspec": {
   "display_name": "OCaml 4.14.0",
   "language": "OCaml",
   "name": "ocaml-jupyter"
  },
  "language_info": {
   "name": "OCaml"
  }
 },
 "nbformat": 4,
 "nbformat_minor": 5
}
