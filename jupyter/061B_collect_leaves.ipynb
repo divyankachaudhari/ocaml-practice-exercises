{
 "cells": [
  {
   "cell_type": "markdown",
   "id": "fa03c8fe",
   "metadata": {},
   "source": [
    "# Question 061B: Collect the Leaves of a Binary Tree in a List\n",
    "\n",
    "Extract all the leaf nodes from a binary tree and returns them as a list.\n",
    "\n",
    "## Exercise Instructions\n",
    "\n",
    "**Implement the function definition below.**\n",
    "\n",
    "A leaf is a node with no successors. Write a function `leaves` to\n",
    "collect them in a list."
   ]
  },
  {
   "cell_type": "code",
   "execution_count": null,
   "id": "9df96550",
   "metadata": {},
   "outputs": [],
   "source": [
    "type 'a binary_tree =\n",
    "  | Empty\n",
    "  | Node of 'a * 'a binary_tree * 'a binary_tree\n",
    "\n",
    "let leaves _ = failwith \"Not yet implemented\"\n"
   ]
  },
  {
   "cell_type": "markdown",
   "id": "b2cd1bea",
   "metadata": {},
   "source": [
    "## Try It Out!\n",
    "\n",
    "Test the function with different inputs and see the results. Modify the function if needed."
   ]
  },
  {
   "cell_type": "code",
   "execution_count": null,
   "id": "d026d5e5",
   "metadata": {},
   "outputs": [],
   "source": [
    "leaves Empty;;"
   ]
  },
  {
   "cell_type": "markdown",
   "id": "4eca1ada",
   "metadata": {},
   "source": [
    "## Run Test Cases\n",
    "\n",
    "Run the cell below to run pre-defined test cases and to see if your implementation passes them."
   ]
  },
  {
   "cell_type": "code",
   "execution_count": null,
   "id": "44a82443",
   "metadata": {},
   "outputs": [],
   "source": [
    "#use \"./tests/061B.ml\""
   ]
  },
  {
   "cell_type": "markdown",
   "id": "4c9caf3a",
   "metadata": {},
   "source": [
    "## Solution\n",
    "<details>\n",
    "<summary>Click here for the solution</summary>\n",
    "\n",
    "```ocaml\n",
    "type 'a binary_tree =\n",
    "  | Empty\n",
    "  | Node of 'a * 'a binary_tree * 'a binary_tree\n",
    "\n",
    "let leaves t = \n",
    "    let rec internals_aux t acc = match t with\n",
    "    | Empty -> acc\n",
    "    | Node (_, Empty, Empty) -> acc\n",
    "    | Node (x, l, r) -> internals_aux l (x :: internals_aux r acc)\n",
    "  in\n",
    "  internals_aux t []\n",
    "\n",
    "```\n",
    "</details>"
   ]
  }
 ],
 "metadata": {},
 "nbformat": 4,
 "nbformat_minor": 5
}
