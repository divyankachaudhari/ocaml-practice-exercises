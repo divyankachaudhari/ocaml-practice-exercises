{
 "cells": [
  {
   "cell_type": "markdown",
   "id": "80646240",
   "metadata": {},
   "source": [
    "# Question 032: Determine the Greatest Common Divisor of Two Positive Integer Numbers\n",
    "\n",
    "Find the greatest common divisor of two positive integers using Euclid's algorithm.\n",
    "\n",
    "## Exercise Instructions\n",
    "\n",
    "**Implement the function definition below.**\n",
    "\n",
    "Determine the greatest common divisor of two positive integer numbers.\n",
    "\n",
    "Use Euclid's algorithm."
   ]
  },
  {
   "cell_type": "code",
   "execution_count": null,
   "id": "ea0b3f95",
   "metadata": {},
   "outputs": [],
   "source": [
    "let gcd _ = failwith \"Not yet implemented\"\n"
   ]
  },
  {
   "cell_type": "markdown",
   "id": "18875e16",
   "metadata": {},
   "source": [
    "## Try It Out!\n",
    "\n",
    "Test the function with different inputs and see the results. Modify the function if needed."
   ]
  },
  {
   "cell_type": "code",
   "execution_count": null,
   "id": "c2c95425",
   "metadata": {},
   "outputs": [],
   "source": [
    "gcd 13 27;;"
   ]
  },
  {
   "cell_type": "markdown",
   "id": "6d3ff4b4",
   "metadata": {},
   "source": [
    "## Run Test Cases\n",
    "\n",
    "Run the cell below to run pre-defined test cases and to see if your implementation passes them."
   ]
  },
  {
   "cell_type": "code",
   "execution_count": null,
   "id": "41e30cb5",
   "metadata": {},
   "outputs": [],
   "source": [
    "#use \"./tests/032.ml\""
   ]
  },
  {
   "cell_type": "markdown",
   "id": "d57a5052",
   "metadata": {},
   "source": [
    "## Solution\n",
    "<details>\n",
    "<summary>Click here for the solution</summary>\n",
    "\n",
    "```ocaml\n",
    "let rec gcd a b =\n",
    "    if b = 0 then a else gcd b (a mod b)\n",
    "\n",
    "```\n",
    "</details>"
   ]
  }
 ],
 "metadata": {},
 "nbformat": 4,
 "nbformat_minor": 5
}
