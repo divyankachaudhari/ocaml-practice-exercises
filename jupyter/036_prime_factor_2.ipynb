{
 "cells": [
  {
   "cell_type": "markdown",
   "id": "ad88db5e",
   "metadata": {},
   "source": [
    "# Question 036: Determine the Prime Factors of a Given Positive Integer (2)\n",
    "\n",
    "Find the prime factors of a given positive integer 'n' along with their multiplicities.\n",
    "\n",
    "## Exercise Instructions\n",
    "\n",
    "**Implement the function definition below.**\n",
    "\n",
    "Construct a list containing the prime factors and their multiplicity.\n",
    "\n",
    "**Hint:** The problem is similar to problem\n",
    "[Run-length encoding of a list (direct solution)](#10)."
   ]
  },
  {
   "cell_type": "code",
   "execution_count": null,
   "id": "b247d948",
   "metadata": {
    "vscode": {
     "languageId": "ocaml"
    }
   },
   "outputs": [],
   "source": [
    "let factors _ = failwith \"Not yet implemented\"\n"
   ]
  },
  {
   "cell_type": "markdown",
   "id": "ca588a08",
   "metadata": {},
   "source": [
    "## Try It Out!\n",
    "\n",
    "Test the function with different inputs and see the results. Modify the function if needed."
   ]
  },
  {
   "cell_type": "code",
   "execution_count": null,
   "id": "0d7e8de2",
   "metadata": {
    "vscode": {
     "languageId": "ocaml"
    }
   },
   "outputs": [],
   "source": [
    "factors 315;;"
   ]
  },
  {
   "cell_type": "markdown",
   "id": "98a15b5c",
   "metadata": {},
   "source": [
    "## Run Test Cases\n",
    "\n",
    "Run the cell below to run pre-defined test cases and to see if your implementation passes them."
   ]
  },
  {
   "cell_type": "code",
   "execution_count": null,
   "id": "8cd79fb1",
   "metadata": {
    "vscode": {
     "languageId": "ocaml"
    }
   },
   "outputs": [],
   "source": [
    "#use \"topfind\";;\n",
    "#require \"alcotest\";;\n",
    "#use \"./tests/036.ml\""
   ]
  },
  {
   "cell_type": "markdown",
   "id": "74b71494",
   "metadata": {},
   "source": [
    "## Solution\n",
    "<details>\n",
    "<summary>Click here for the solution</summary>\n",
    "\n",
    "```ocaml\n",
    "let factors n =\n",
    "  let rec aux d n =\n",
    "    if n = 1 then [] else\n",
    "      if n mod d = 0 then\n",
    "        match aux d (n / d) with\n",
    "        | (h, n) :: t when h = d -> (h, n + 1) :: t\n",
    "        | l -> (d, 1) :: l\n",
    "      else aux (d + 1) n\n",
    "  in\n",
    "    aux 2 n\n",
    "\n",
    "```\n",
    "</details>"
   ]
  }
 ],
 "metadata": {
  "kernelspec": {
   "display_name": "OCaml 4.14.0",
   "language": "OCaml",
   "name": "ocaml-jupyter"
  },
  "language_info": {
   "name": "OCaml"
  }
 },
 "nbformat": 4,
 "nbformat_minor": 5
}
