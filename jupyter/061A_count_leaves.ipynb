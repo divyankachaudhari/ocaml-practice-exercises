{
 "cells": [
  {
   "cell_type": "markdown",
   "id": "c64fade7",
   "metadata": {},
   "source": [
    "# Question 061A: Count the Leaves of a Binary Tree\n",
    "\n",
    "Count the number of leaf nodes in a binary tree.\n",
    "\n",
    "## Exercise Instructions\n",
    "\n",
    "**Implement the function definition below.**\n",
    "\n",
    "A leaf is a node with no successors. Write a function `count_leaves` to\n",
    "count them."
   ]
  },
  {
   "cell_type": "code",
   "execution_count": null,
   "id": "a420df5f",
   "metadata": {},
   "outputs": [],
   "source": [
    "type 'a binary_tree =\n",
    "  | Empty\n",
    "  | Node of 'a * 'a binary_tree * 'a binary_tree\n",
    "\n",
    "let count_leaves _ = failwith \"Not yet implemented\"\n"
   ]
  },
  {
   "cell_type": "markdown",
   "id": "a02052c1",
   "metadata": {},
   "source": [
    "## Try It Out!\n",
    "\n",
    "Test the function with different inputs and see the results. Modify the function if needed."
   ]
  },
  {
   "cell_type": "code",
   "execution_count": null,
   "id": "158a1332",
   "metadata": {},
   "outputs": [],
   "source": [
    "count_leaves Empty;;"
   ]
  },
  {
   "cell_type": "markdown",
   "id": "fa577b00",
   "metadata": {},
   "source": [
    "## Run Test Cases\n",
    "\n",
    "Run the cell below to run pre-defined test cases and to see if your implementation passes them."
   ]
  },
  {
   "cell_type": "code",
   "execution_count": null,
   "id": "42cf08d5",
   "metadata": {},
   "outputs": [],
   "source": [
    "#use \"./tests/061A.ml\""
   ]
  },
  {
   "cell_type": "markdown",
   "id": "41127d34",
   "metadata": {},
   "source": [
    "## Solution\n",
    "<details>\n",
    "<summary>Click here for the solution</summary>\n",
    "\n",
    "```ocaml\n",
    "type 'a binary_tree =\n",
    "  | Empty\n",
    "  | Node of 'a * 'a binary_tree * 'a binary_tree\n",
    "\n",
    "let rec count_leaves = function\n",
    "    | Empty -> 0\n",
    "    | Node (_, Empty, Empty) -> 1\n",
    "    | Node (_, l, r) -> count_leaves l + count_leaves r\n",
    "\n",
    "```\n",
    "</details>"
   ]
  }
 ],
 "metadata": {},
 "nbformat": 4,
 "nbformat_minor": 5
}
